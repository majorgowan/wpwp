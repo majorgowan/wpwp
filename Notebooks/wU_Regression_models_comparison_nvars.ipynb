{
 "metadata": {
  "name": "",
  "signature": "sha256:a0b501c12fdf19f800560fccddf3198d5bde01666c005ab0150590acb5dd1f68"
 },
 "nbformat": 3,
 "nbformat_minor": 0,
 "worksheets": [
  {
   "cells": [
    {
     "cell_type": "heading",
     "level": 2,
     "metadata": {},
     "source": [
      "Comparison of regression models"
     ]
    },
    {
     "cell_type": "code",
     "collapsed": false,
     "input": [
      "cd I:/wpwp/Python"
     ],
     "language": "python",
     "metadata": {},
     "outputs": [
      {
       "output_type": "stream",
       "stream": "stdout",
       "text": [
        "I:\\wpwp\\Scraping\n"
       ]
      }
     ],
     "prompt_number": 1
    },
    {
     "cell_type": "code",
     "collapsed": false,
     "input": [
      "cd D:/mfruman/Documents/wpwp/Python"
     ],
     "language": "python",
     "metadata": {},
     "outputs": [
      {
       "output_type": "stream",
       "stream": "stdout",
       "text": [
        "D:\\mfruman\\Documents\\wpwp\\Python\n"
       ]
      }
     ],
     "prompt_number": 1
    },
    {
     "cell_type": "code",
     "collapsed": false,
     "input": [
      "pylab.rcParams['figure.figsize'] = (6.0, 5.0)"
     ],
     "language": "python",
     "metadata": {},
     "outputs": [],
     "prompt_number": 2
    },
    {
     "cell_type": "code",
     "collapsed": false,
     "input": [
      "import wURegression as Reg\n",
      "import wUClusterRegression as ClustReg\n",
      "import wUUtils as Util"
     ],
     "language": "python",
     "metadata": {},
     "outputs": [],
     "prompt_number": 5
    },
    {
     "cell_type": "heading",
     "level": 3,
     "metadata": {},
     "source": [
      "Common parameters"
     ]
    },
    {
     "cell_type": "code",
     "collapsed": false,
     "input": [
      "# regression model using data from one city on a single day\n",
      "# to predict maximum temperature the next day\n",
      "\n",
      "# load station list\n",
      "stations = Util.getStationList()\n",
      "# move target station to front\n",
      "targStation = 'CYYZ'\n",
      "stations = [targStation] + [s for s in stations if s != targStation]\n",
      "\n",
      "# training and testing intervals\n",
      "trainStart, trainEnd = '2005-01-01', '2010-12-31'\n",
      "testStart, testEnd = '2011-01-01', '2012-12-31'\n",
      "\n",
      "# independent variables\n",
      "features = ['TempMax','dailyTempRange','PressMax','dailyPressRange',\\\n",
      "            'HumidityMean','isWesterly','isSoutherly','isFoggy']\n",
      "\n",
      "# dependent variables\n",
      "targetVar = 'TempMax'\n",
      "# prediction day (days before forecast day)\n",
      "lag = 1\n",
      "# number of previous days to use\n",
      "order = 1\n",
      "# scale features\n",
      "scale = True\n",
      "# suppress detailed output\n",
      "verbose = False\n",
      "# argument list\n",
      "argsListTrain = [trainStart, trainEnd, features]\n",
      "argsListTest = [testStart, testEnd, True]\n",
      "# argument dictionary\n",
      "argsDict = {'targetVar':   targetVar, \\\n",
      "            'lag':         lag, \\\n",
      "            'order':       order, \\\n",
      "            'scale':       True, \\\n",
      "            'verbose':     verbose }"
     ],
     "language": "python",
     "metadata": {},
     "outputs": [],
     "prompt_number": 59
    },
    {
     "cell_type": "code",
     "collapsed": false,
     "input": [
      "# modelParams_nCity_nOrder_lag"
     ],
     "language": "python",
     "metadata": {},
     "outputs": [],
     "prompt_number": 39
    },
    {
     "cell_type": "heading",
     "level": 2,
     "metadata": {},
     "source": [
      "ONE CITY"
     ]
    },
    {
     "cell_type": "code",
     "collapsed": false,
     "input": [
      "one_city_modelName = []\n",
      "one_city_param = []\n",
      "one_city_perf = []\n",
      "one_city_nvar = []"
     ],
     "language": "python",
     "metadata": {},
     "outputs": [],
     "prompt_number": 69
    },
    {
     "cell_type": "code",
     "collapsed": false,
     "input": [
      "# one-city, one-day model\n",
      "argsDict['order']=0\n",
      "nv = len(features)*1*(1+argsDict['order'])\n",
      "featureData, target, modelParams = Reg.multiCityInteractionModel(['CYYZ'], *argsListTrain, **argsDict)\n",
      "date_list, pred, target, modelPerf = Reg.multiCityInteractionPredict(modelParams, *argsListTest)\n",
      "name='station00_order01_lag01'\n",
      "one_city_modelName.append(name)\n",
      "one_city_param.append(modelParams)\n",
      "one_city_perf.append(modelPerf)\n",
      "one_city_nvar.append(nv)"
     ],
     "language": "python",
     "metadata": {},
     "outputs": [
      {
       "output_type": "stream",
       "stream": "stdout",
       "text": [
        "R^2: 0.89547158595\n",
        "R^2_mean:\t0.875042428159"
       ]
      },
      {
       "output_type": "stream",
       "stream": "stdout",
       "text": [
        "\n",
        "R^2_base:\t0.20810290632\n",
        "RMSE:\t\t3.8678606913\n"
       ]
      }
     ],
     "prompt_number": 70
    },
    {
     "cell_type": "code",
     "collapsed": false,
     "input": [
      "# one-city, two-day model\n",
      "argsDict['order']=1\n",
      "nv = len(features)*1*(1+argsDict['order'])\n",
      "featureData, target, modelParams = Reg.multiCityInteractionModel(['CYYZ'], *argsListTrain, **argsDict)\n",
      "date_list, pred, target, modelPerf = Reg.multiCityInteractionPredict(modelParams, *argsListTest)\n",
      "name = 'station01_order01_lag01'\n",
      "one_city_modelName.append(name)\n",
      "one_city_param.append(modelParams)\n",
      "one_city_perf.append(modelPerf)\n",
      "one_city_nvar.append(nv)"
     ],
     "language": "python",
     "metadata": {},
     "outputs": [
      {
       "output_type": "stream",
       "stream": "stdout",
       "text": [
        "R^2: 0.905700848876\n",
        "R^2_mean:\t0.889995652422"
       ]
      },
      {
       "output_type": "stream",
       "stream": "stdout",
       "text": [
        "\n",
        "R^2_base:\t0.29807944332\n",
        "RMSE:\t\t3.62797657176\n"
       ]
      }
     ],
     "prompt_number": 71
    },
    {
     "cell_type": "code",
     "collapsed": false,
     "input": [
      "# one-city, three-day model\n",
      "argsDict['order']=2\n",
      "nv = len(features)*1*(1+argsDict['order'])\n",
      "featureData, target, modelParams = Reg.multiCityInteractionModel(['CYYZ'], *argsListTrain, **argsDict)\n",
      "date_list, pred_station, target, modelPerf = Reg.multiCityInteractionPredict(modelParams, *argsListTest)\n",
      "name = 'station01_order02_lag01'\n",
      "one_city_modelName.append(name)\n",
      "one_city_param.append(modelParams)\n",
      "one_city_perf.append(modelPerf)\n",
      "one_city_nvar.append(nv)"
     ],
     "language": "python",
     "metadata": {},
     "outputs": [
      {
       "output_type": "stream",
       "stream": "stdout",
       "text": [
        "R^2: 0.90789047915\n",
        "R^2_mean:\t0.894798807218"
       ]
      },
      {
       "output_type": "stream",
       "stream": "stdout",
       "text": [
        "\n",
        "R^2_base:\t0.33021552822\n",
        "RMSE:\t\t3.5462571092\n"
       ]
      }
     ],
     "prompt_number": 72
    },
    {
     "cell_type": "code",
     "collapsed": false,
     "input": [
      "# one-city, four-day model\n",
      "argsDict['order']=3\n",
      "nv = len(features)*1*(1+argsDict['order'])\n",
      "featureData, target, modelParams = Reg.multiCityInteractionModel(['CYYZ'], *argsListTrain, **argsDict)\n",
      "date_list, pred_station, target, modelPerf = Reg.multiCityInteractionPredict(modelParams, *argsListTest)\n",
      "name = 'station01_order03_lag01'\n",
      "one_city_modelName.append(name)\n",
      "one_city_param.append(modelParams)\n",
      "one_city_perf.append(modelPerf)\n",
      "one_city_nvar.append(nv)"
     ],
     "language": "python",
     "metadata": {},
     "outputs": [
      {
       "output_type": "stream",
       "stream": "stdout",
       "text": [
        "R^2: 0.909647874744\n",
        "R^2_mean:\t0.896157807358"
       ]
      },
      {
       "output_type": "stream",
       "stream": "stdout",
       "text": [
        "\n",
        "R^2_base:\t0.340133380872\n",
        "RMSE:\t\t3.52219469967\n"
       ]
      }
     ],
     "prompt_number": 73
    },
    {
     "cell_type": "code",
     "collapsed": false,
     "input": [
      "# one-city, five-day model\n",
      "argsDict['order']=4\n",
      "nv = len(features)*1*(1+argsDict['order'])\n",
      "featureData, target, modelParams = Reg.multiCityInteractionModel(['CYYZ'], *argsListTrain, **argsDict)\n",
      "date_list, pred_station, target, modelPerf = Reg.multiCityInteractionPredict(modelParams, *argsListTest)\n",
      "name = 'station01_order04_lag01'\n",
      "one_city_modelName.append(name)\n",
      "one_city_param.append(modelParams)\n",
      "one_city_perf.append(modelPerf)\n",
      "one_city_nvar.append(nv)"
     ],
     "language": "python",
     "metadata": {},
     "outputs": [
      {
       "output_type": "stream",
       "stream": "stdout",
       "text": [
        "R^2: 0.911949128255\n",
        "R^2_mean:\t0.895980862536"
       ]
      },
      {
       "output_type": "stream",
       "stream": "stdout",
       "text": [
        "\n",
        "R^2_base:\t0.340567372191\n",
        "RMSE:\t\t3.52294474918\n"
       ]
      }
     ],
     "prompt_number": 74
    },
    {
     "cell_type": "heading",
     "level": 2,
     "metadata": {},
     "source": [
      "TWO CITY"
     ]
    },
    {
     "cell_type": "code",
     "collapsed": false,
     "input": [
      "two_city_modelName = []\n",
      "two_city_param = []\n",
      "two_city_perf = []\n",
      "two_city_nvar = []"
     ],
     "language": "python",
     "metadata": {},
     "outputs": [],
     "prompt_number": 145
    },
    {
     "cell_type": "code",
     "collapsed": false,
     "input": [
      "stations = ['CYYZ','KORD']"
     ],
     "language": "python",
     "metadata": {},
     "outputs": [],
     "prompt_number": 146
    },
    {
     "cell_type": "code",
     "collapsed": false,
     "input": [
      "# two-city, one-day model\n",
      "argsDict['order']=0\n",
      "nv = len(features)*len(stations)*(1+argsDict['order'])\n",
      "featureData, target, modelParams = Reg.multiCityInteractionModel(stations, *argsListTrain, **argsDict)\n",
      "date_list, pred_station, target, modelPerf = Reg.multiCityInteractionPredict(modelParams, *argsListTest)\n",
      "name = 'station02_order00_lag01'\n",
      "two_city_modelName.append(name)\n",
      "two_city_param.append(modelParams)\n",
      "two_city_perf.append(modelPerf)\n",
      "two_city_nvar.append(nv)"
     ],
     "language": "python",
     "metadata": {},
     "outputs": [
      {
       "output_type": "stream",
       "stream": "stdout",
       "text": [
        "R^2: 0.927447976823\n",
        "R^2_mean:\t0.916204772814"
       ]
      },
      {
       "output_type": "stream",
       "stream": "stdout",
       "text": [
        "\n",
        "R^2_base:\t0.468962177362\n",
        "RMSE:\t\t3.16737275252\n"
       ]
      }
     ],
     "prompt_number": 147
    },
    {
     "cell_type": "code",
     "collapsed": false,
     "input": [
      "# two-city, two-day model\n",
      "argsDict['order']=1\n",
      "nv = len(features)*len(stations)*(1+argsDict['order'])\n",
      "featureData, target, modelParams = Reg.multiCityInteractionModel(stations, *argsListTrain, **argsDict)\n",
      "date_list, pred_station, target, modelPerf = Reg.multiCityInteractionPredict(modelParams, *argsListTest)\n",
      "name = 'station02_order01_lag01'\n",
      "two_city_modelName.append(name)\n",
      "two_city_param.append(modelParams)\n",
      "two_city_perf.append(modelPerf)\n",
      "two_city_nvar.append(nv)"
     ],
     "language": "python",
     "metadata": {},
     "outputs": [
      {
       "output_type": "stream",
       "stream": "stdout",
       "text": [
        "R^2: 0.933222833196\n",
        "R^2_mean:\t0.923633957647"
       ]
      },
      {
       "output_type": "stream",
       "stream": "stdout",
       "text": [
        "\n",
        "R^2_base:\t0.512720213885\n",
        "RMSE:\t\t3.02280193155\n"
       ]
      }
     ],
     "prompt_number": 148
    },
    {
     "cell_type": "code",
     "collapsed": false,
     "input": [
      "# two-city, three-day model\n",
      "argsDict['order']=2\n",
      "nv = len(features)*len(stations)*(1+argsDict['order'])\n",
      "featureData, target, modelParams = Reg.multiCityInteractionModel(stations, *argsListTrain, **argsDict)\n",
      "date_list, pred_station, target, modelPerf = Reg.multiCityInteractionPredict(modelParams, *argsListTest)\n",
      "name = 'station02_order02_lag01'\n",
      "two_city_modelName.append(name)\n",
      "two_city_param.append(modelParams)\n",
      "two_city_perf.append(modelPerf)\n",
      "two_city_nvar.append(nv)"
     ],
     "language": "python",
     "metadata": {},
     "outputs": [
      {
       "output_type": "stream",
       "stream": "stdout",
       "text": [
        "R^2: 0.934907503258\n",
        "R^2_mean:\t0.925782179666"
       ]
      },
      {
       "output_type": "stream",
       "stream": "stdout",
       "text": [
        "\n",
        "R^2_base:\t0.527477376689\n",
        "RMSE:\t\t2.97861234609\n"
       ]
      }
     ],
     "prompt_number": 149
    },
    {
     "cell_type": "code",
     "collapsed": false,
     "input": [
      "# two-city, four-day model\n",
      "argsDict['order']=3\n",
      "nv = len(features)*len(stations)*(1+argsDict['order'])\n",
      "featureData, target, modelParams = Reg.multiCityInteractionModel(stations, *argsListTrain, **argsDict)\n",
      "date_list, pred_station, target, modelPerf = Reg.multiCityInteractionPredict(modelParams, *argsListTest)\n",
      "name = 'station02_order03_lag01'\n",
      "two_city_modelName.append(name)\n",
      "two_city_param.append(modelParams)\n",
      "two_city_perf.append(modelPerf)\n",
      "two_city_nvar.append(nv)"
     ],
     "language": "python",
     "metadata": {},
     "outputs": [
      {
       "output_type": "stream",
       "stream": "stdout",
       "text": [
        "R^2: 0.936314473099\n",
        "R^2_mean:\t0.926297602811"
       ]
      },
      {
       "output_type": "stream",
       "stream": "stdout",
       "text": [
        "\n",
        "R^2_base:\t0.531657119159\n",
        "RMSE:\t\t2.96733952304\n"
       ]
      }
     ],
     "prompt_number": 150
    },
    {
     "cell_type": "code",
     "collapsed": false,
     "input": [
      "# two-city, five-day model\n",
      "argsDict['order']=4\n",
      "nv = len(features)*len(stations)*(1+argsDict['order'])\n",
      "featureData, target, modelParams = Reg.multiCityInteractionModel(stations, *argsListTrain, **argsDict)\n",
      "date_list, pred_station, target, modelPerf = Reg.multiCityInteractionPredict(modelParams, *argsListTest)\n",
      "name = 'station02_order04_lag01'\n",
      "two_city_modelName.append(name)\n",
      "two_city_param.append(modelParams)\n",
      "two_city_perf.append(modelPerf)\n",
      "two_city_nvar.append(nv)"
     ],
     "language": "python",
     "metadata": {},
     "outputs": [
      {
       "output_type": "stream",
       "stream": "stdout",
       "text": [
        "R^2: 0.937625077942\n",
        "R^2_mean:\t0.926126121644"
       ]
      },
      {
       "output_type": "stream",
       "stream": "stdout",
       "text": [
        "\n",
        "R^2_base:\t0.531674200357\n",
        "RMSE:\t\t2.9688937673\n"
       ]
      }
     ],
     "prompt_number": 151
    },
    {
     "cell_type": "heading",
     "level": 2,
     "metadata": {},
     "source": [
      "FIVE CITY"
     ]
    },
    {
     "cell_type": "code",
     "collapsed": false,
     "input": [
      "five_city_modelName = []\n",
      "five_city_param = []\n",
      "five_city_perf = []\n",
      "five_city_nvar = []"
     ],
     "language": "python",
     "metadata": {},
     "outputs": [],
     "prompt_number": 116
    },
    {
     "cell_type": "code",
     "collapsed": false,
     "input": [
      "stations = ['CYYZ','KBUF','KCLE','KDTW','KORD']"
     ],
     "language": "python",
     "metadata": {},
     "outputs": [],
     "prompt_number": 117
    },
    {
     "cell_type": "code",
     "collapsed": false,
     "input": [
      "# five-city, one-day model\n",
      "argsDict['order']=0\n",
      "nv = len(features)*len(stations)*(1+argsDict['order'])\n",
      "featureData, target, modelParams = Reg.multiCityInteractionModel(stations, *argsListTrain, **argsDict)\n",
      "date_list, pred_station, target, modelPerf = Reg.multiCityInteractionPredict(modelParams, *argsListTest)\n",
      "name = 'station05_order00_lag01'\n",
      "five_city_modelName.append(name)\n",
      "five_city_param.append(modelParams)\n",
      "five_city_perf.append(modelPerf)\n",
      "five_city_nvar.append(nv)"
     ],
     "language": "python",
     "metadata": {},
     "outputs": [
      {
       "output_type": "stream",
       "stream": "stdout",
       "text": [
        "R^2: 0.933833013675\n",
        "R^2_mean:\t0.924461717441"
       ]
      },
      {
       "output_type": "stream",
       "stream": "stdout",
       "text": [
        "\n",
        "R^2_base:\t0.521289142073\n",
        "RMSE:\t\t3.00727461417\n"
       ]
      }
     ],
     "prompt_number": 118
    },
    {
     "cell_type": "code",
     "collapsed": false,
     "input": [
      "# five-city, two-day model\n",
      "argsDict['order']=1\n",
      "nv = len(features)*len(stations)*(1+argsDict['order'])\n",
      "featureData, target, modelParams = Reg.multiCityInteractionModel(stations, *argsListTrain, **argsDict)\n",
      "date_list, pred_station, target, modelPerf = Reg.multiCityInteractionPredict(modelParams, *argsListTest)\n",
      "name = 'station05_order01_lag01'\n",
      "five_city_modelName.append(name)\n",
      "five_city_param.append(modelParams)\n",
      "five_city_perf.append(modelPerf)\n",
      "five_city_nvar.append(nv)"
     ],
     "language": "python",
     "metadata": {},
     "outputs": [
      {
       "output_type": "stream",
       "stream": "stdout",
       "text": [
        "R^2: 0.939071591193\n",
        "R^2_mean:\t0.930317207314"
       ]
      },
      {
       "output_type": "stream",
       "stream": "stdout",
       "text": [
        "\n",
        "R^2_base:\t0.555364985933\n",
        "RMSE:\t\t2.88750219385\n"
       ]
      }
     ],
     "prompt_number": 119
    },
    {
     "cell_type": "code",
     "collapsed": false,
     "input": [
      "# five-city, three-day model\n",
      "argsDict['order']=2\n",
      "nv = len(features)*len(stations)*(1+argsDict['order'])\n",
      "featureData, target, modelParams = Reg.multiCityInteractionModel(stations, *argsListTrain, **argsDict)\n",
      "date_list, pred_station, target, modelPerf = Reg.multiCityInteractionPredict(modelParams, *argsListTest)\n",
      "name = 'station05_order02_lag01'\n",
      "five_city_modelName.append(name)\n",
      "five_city_param.append(modelParams)\n",
      "five_city_perf.append(modelPerf)\n",
      "five_city_nvar.append(nv)"
     ],
     "language": "python",
     "metadata": {},
     "outputs": [
      {
       "output_type": "stream",
       "stream": "stdout",
       "text": [
        "R^2: 0.941212618763\n",
        "R^2_mean:\t0.932667629301"
       ]
      },
      {
       "output_type": "stream",
       "stream": "stdout",
       "text": [
        "\n",
        "R^2_base:\t0.571314971346\n",
        "RMSE:\t\t2.83708168642\n"
       ]
      }
     ],
     "prompt_number": 120
    },
    {
     "cell_type": "code",
     "collapsed": false,
     "input": [
      "# five-city, four-day model\n",
      "argsDict['order']=3\n",
      "nv = len(features)*len(stations)*(1+argsDict['order'])\n",
      "featureData, target, modelParams = Reg.multiCityInteractionModel(stations, *argsListTrain, **argsDict)\n",
      "date_list, pred_station, target, modelPerf = Reg.multiCityInteractionPredict(modelParams, *argsListTest)\n",
      "name = 'station05_order03_lag01'\n",
      "five_city_modelName.append(name)\n",
      "five_city_param.append(modelParams)\n",
      "five_city_perf.append(modelPerf)\n",
      "five_city_nvar.append(nv)"
     ],
     "language": "python",
     "metadata": {},
     "outputs": [
      {
       "output_type": "stream",
       "stream": "stdout",
       "text": [
        "R^2: 0.9437697607\n",
        "R^2_mean:\t0.931754489804"
       ]
      },
      {
       "output_type": "stream",
       "stream": "stdout",
       "text": [
        "\n",
        "R^2_base:\t0.566332981441\n",
        "RMSE:\t\t2.85537713013\n"
       ]
      }
     ],
     "prompt_number": 121
    },
    {
     "cell_type": "heading",
     "level": 2,
     "metadata": {},
     "source": [
      "MULTI CITY"
     ]
    },
    {
     "cell_type": "code",
     "collapsed": false,
     "input": [
      "multi_city_modelName = []\n",
      "multi_city_param = []\n",
      "multi_city_perf = []\n",
      "multi_city_nvar = []"
     ],
     "language": "python",
     "metadata": {},
     "outputs": [],
     "prompt_number": 88
    },
    {
     "cell_type": "code",
     "collapsed": false,
     "input": [
      "stations = Util.getStationList()\n",
      "# move target station to front\n",
      "targStation = 'CYYZ'\n",
      "stations = [targStation] + [s for s in stations if s != targStation]"
     ],
     "language": "python",
     "metadata": {},
     "outputs": []
    },
    {
     "cell_type": "code",
     "collapsed": false,
     "input": [
      "# multi-city, one-day model\n",
      "argsDict['order']=0\n",
      "nv = len(features)*len(stations)*(1+argsDict['order'])\n",
      "featureData, target, modelParams = Reg.multiCityInteractionModel(stations, *argsListTrain, **argsDict)\n",
      "date_list, pred_station, target, modelPerf = Reg.multiCityInteractionPredict(modelParams, *argsListTest)\n",
      "name = 'station29_order00_lag01'\n",
      "multi_city_modelName.append(name)\n",
      "multi_city_param.append(modelParams)\n",
      "multi_city_perf.append(modelPerf)\n",
      "multi_city_nvar.append(nv)"
     ],
     "language": "python",
     "metadata": {},
     "outputs": [
      {
       "output_type": "stream",
       "stream": "stdout",
       "text": [
        "R^2: 0.961706270978\n",
        "R^2_mean:\t0.948316499861"
       ]
      },
      {
       "output_type": "stream",
       "stream": "stdout",
       "text": [
        "\n",
        "R^2_base:\t0.67246471784\n",
        "RMSE:\t\t2.48751377122\n"
       ]
      }
     ],
     "prompt_number": 89
    },
    {
     "cell_type": "code",
     "collapsed": false,
     "input": [
      "# multi-city, two-day model\n",
      "argsDict['order']=1\n",
      "nv = len(features)*len(stations)*(1+argsDict['order'])\n",
      "featureData, target, modelParams = Reg.multiCityInteractionModel(stations, *argsListTrain, **argsDict)\n",
      "date_list, pred_station, target, modelPerf = Reg.multiCityInteractionPredict(modelParams, *argsListTest)\n",
      "name = 'station29_order01_lag01'\n",
      "multi_city_modelName.append(name)\n",
      "multi_city_param.append(modelParams)\n",
      "multi_city_perf.append(modelPerf)\n",
      "multi_city_nvar.append(nv)"
     ],
     "language": "python",
     "metadata": {},
     "outputs": [
      {
       "output_type": "stream",
       "stream": "stdout",
       "text": [
        "R^2: 0.968230625716\n",
        "R^2_mean:\t0.943370311096"
       ]
      },
      {
       "output_type": "stream",
       "stream": "stdout",
       "text": [
        "\n",
        "R^2_base:\t0.638654801965\n",
        "RMSE:\t\t2.60304476598\n"
       ]
      }
     ],
     "prompt_number": 90
    },
    {
     "cell_type": "code",
     "collapsed": false,
     "input": [
      "# multi-city, three-day model\n",
      "argsDict['order']=2\n",
      "nv = len(features)*len(stations)*(1+argsDict['order'])\n",
      "featureData, target, modelParams = Reg.multiCityInteractionModel(stations, *argsListTrain, **argsDict)\n",
      "date_list, pred_station, target, modelPerf = Reg.multiCityInteractionPredict(modelParams, *argsListTest)\n",
      "name = 'station29_order02_lag01'\n",
      "multi_city_modelName.append(name)\n",
      "multi_city_param.append(modelParams)\n",
      "multi_city_perf.append(modelPerf)\n",
      "multi_city_nvar.append(nv)"
     ],
     "language": "python",
     "metadata": {},
     "outputs": [
      {
       "output_type": "stream",
       "stream": "stdout",
       "text": [
        "R^2: 0.97264736614\n",
        "R^2_mean:\t0.936159930236"
       ]
      },
      {
       "output_type": "stream",
       "stream": "stdout",
       "text": [
        "\n",
        "R^2_base:\t0.593549404958\n",
        "RMSE:\t\t2.76252720727\n"
       ]
      }
     ],
     "prompt_number": 91
    },
    {
     "cell_type": "heading",
     "level": 2,
     "metadata": {},
     "source": [
      "PCA_01"
     ]
    },
    {
     "cell_type": "code",
     "collapsed": false,
     "input": [
      "argsDict.pop('scale',None)"
     ],
     "language": "python",
     "metadata": {},
     "outputs": [],
     "prompt_number": 156
    },
    {
     "cell_type": "code",
     "collapsed": false,
     "input": [
      "PCA1_modelName = []\n",
      "PCA1_param = []\n",
      "PCA1_perf = []\n",
      "PCA1_nvar = []"
     ],
     "language": "python",
     "metadata": {},
     "outputs": [],
     "prompt_number": 157
    },
    {
     "cell_type": "code",
     "collapsed": false,
     "input": [
      "# PCA 1-component one-day model\n",
      "argsDict['order']=0\n",
      "argsDict['ncomp']=len(features)*[1]\n",
      "nv = sum(argsDict['ncomp'])*(1+argsDict['order'])\n",
      "featureData, target, modelParams = Reg.pcaTaylorModel(stations, *argsListTrain, **argsDict)\n",
      "date_list, pred, target, modelPerf = Reg.pcaTaylorPredict(modelParams, *argsListTest)\n",
      "name = 'PCA01_order00_lag01'\n",
      "PCA1_modelName.append(name)\n",
      "PCA1_param.append(modelParams)\n",
      "PCA1_perf.append(modelPerf)\n",
      "PCA1_nvar.append(nv)"
     ],
     "language": "python",
     "metadata": {},
     "outputs": [
      {
       "output_type": "stream",
       "stream": "stdout",
       "text": [
        "R^2: 0.925332102796\n",
        "R^2_mean:\t0.914939696836"
       ]
      },
      {
       "output_type": "stream",
       "stream": "stdout",
       "text": [
        "\n",
        "R^2_base:\t0.460944976199\n",
        "RMSE:\t\t3.19119246687\n"
       ]
      }
     ],
     "prompt_number": 158
    },
    {
     "cell_type": "code",
     "collapsed": false,
     "input": [
      "# PCA 1-component two-day model\n",
      "argsDict['order']=1\n",
      "argsDict['ncomp']=len(features)*[1]\n",
      "nv = sum(argsDict['ncomp'])*(1+argsDict['order'])\n",
      "featureData, target, modelParams = Reg.pcaTaylorModel(stations, *argsListTrain, **argsDict)\n",
      "date_list, pred, target, modelPerf = Reg.pcaTaylorPredict(modelParams, *argsListTest)\n",
      "name = 'PCA01_order01_lag01'\n",
      "PCA1_modelName.append(name)\n",
      "PCA1_param.append(modelParams)\n",
      "PCA1_perf.append(modelPerf)\n",
      "PCA1_nvar.append(nv)"
     ],
     "language": "python",
     "metadata": {},
     "outputs": [
      {
       "output_type": "stream",
       "stream": "stdout",
       "text": [
        "R^2: 0.929676567836\n",
        "R^2_mean:\t0.920923562636"
       ]
      },
      {
       "output_type": "stream",
       "stream": "stdout",
       "text": [
        "\n",
        "R^2_base:\t0.495425606745\n",
        "RMSE:\t\t3.07597708963\n"
       ]
      }
     ],
     "prompt_number": 159
    },
    {
     "cell_type": "code",
     "collapsed": false,
     "input": [
      "# PCA 1-component three-day model\n",
      "argsDict['order']=2\n",
      "argsDict['ncomp']=len(features)*[1]\n",
      "nv = sum(argsDict['ncomp'])*(1+argsDict['order'])\n",
      "featureData, target, modelParams = Reg.pcaTaylorModel(stations, *argsListTrain, **argsDict)\n",
      "date_list, pred, target, modelPerf = Reg.pcaTaylorPredict(modelParams, *argsListTest)\n",
      "name = 'PCA01_order02_lag01'\n",
      "PCA1_modelName.append(name)\n",
      "PCA1_param.append(modelParams)\n",
      "PCA1_perf.append(modelPerf)\n",
      "PCA1_nvar.append(nv)"
     ],
     "language": "python",
     "metadata": {},
     "outputs": [
      {
       "output_type": "stream",
       "stream": "stdout",
       "text": [
        "R^2: 0.931089836573\n",
        "R^2_mean:\t0.922501722152"
       ]
      },
      {
       "output_type": "stream",
       "stream": "stdout",
       "text": [
        "\n",
        "R^2_base:\t0.506591686656\n",
        "RMSE:\t\t3.04372851778\n"
       ]
      }
     ],
     "prompt_number": 160
    },
    {
     "cell_type": "code",
     "collapsed": false,
     "input": [
      "# PCA 1-component four-day model\n",
      "argsDict['order']=3\n",
      "argsDict['ncomp']=len(features)*[1]\n",
      "nv = sum(argsDict['ncomp'])*(1+argsDict['order'])\n",
      "featureData, target, modelParams = Reg.pcaTaylorModel(stations, *argsListTrain, **argsDict)\n",
      "date_list, pred, target, modelPerf = Reg.pcaTaylorPredict(modelParams, *argsListTest)\n",
      "name = 'PCA01_order03_lag01'\n",
      "PCA1_modelName.append(name)\n",
      "PCA1_param.append(modelParams)\n",
      "PCA1_perf.append(modelPerf)\n",
      "PCA1_nvar.append(nv)"
     ],
     "language": "python",
     "metadata": {},
     "outputs": [
      {
       "output_type": "stream",
       "stream": "stdout",
       "text": [
        "R^2: 0.932044324024\n",
        "R^2_mean:\t0.922717285357"
       ]
      },
      {
       "output_type": "stream",
       "stream": "stdout",
       "text": [
        "\n",
        "R^2_base:\t0.508905943428\n",
        "RMSE:\t\t3.03855861662\n"
       ]
      }
     ],
     "prompt_number": 161
    },
    {
     "cell_type": "heading",
     "level": 2,
     "metadata": {},
     "source": [
      "PCA_03"
     ]
    },
    {
     "cell_type": "code",
     "collapsed": false,
     "input": [
      "argsDict.pop('scale',None)"
     ],
     "language": "python",
     "metadata": {},
     "outputs": [
      {
       "metadata": {},
       "output_type": "pyout",
       "prompt_number": 96,
       "text": [
        "True"
       ]
      }
     ],
     "prompt_number": 96
    },
    {
     "cell_type": "code",
     "collapsed": false,
     "input": [
      "PCA3_modelName = []\n",
      "PCA3_param = []\n",
      "PCA3_perf = []\n",
      "PCA3_nvar = []"
     ],
     "language": "python",
     "metadata": {},
     "outputs": [],
     "prompt_number": 106
    },
    {
     "cell_type": "code",
     "collapsed": false,
     "input": [
      "# PCA 3-component one-day model\n",
      "argsDict['order']=0\n",
      "argsDict['ncomp']=len(features)*[3]\n",
      "nv = sum(argsDict['ncomp'])*(1+argsDict['order'])\n",
      "featureData, target, modelParams = Reg.pcaTaylorModel(stations, *argsListTrain, **argsDict)\n",
      "date_list, pred, target, modelPerf = Reg.pcaTaylorPredict(modelParams, *argsListTest)\n",
      "name = 'PCA03_order00_lag01'\n",
      "PCA3_modelName.append(name)\n",
      "PCA3_param.append(modelParams)\n",
      "PCA3_perf.append(modelPerf)\n",
      "PCA3_nvar.append(nv)"
     ],
     "language": "python",
     "metadata": {},
     "outputs": [
      {
       "output_type": "stream",
       "stream": "stdout",
       "text": [
        "R^2: 0.948376589715\n",
        "R^2_mean:\t0.944915869639"
       ]
      },
      {
       "output_type": "stream",
       "stream": "stdout",
       "text": [
        "\n",
        "R^2_base:\t0.650913809397\n",
        "RMSE:\t\t2.56804591097\n"
       ]
      }
     ],
     "prompt_number": 107
    },
    {
     "cell_type": "code",
     "collapsed": false,
     "input": [
      "# PCA 3-component two-day model\n",
      "argsDict['order']=1\n",
      "argsDict['ncomp']=len(features)*[3]\n",
      "nv = sum(argsDict['ncomp'])*(1+argsDict['order'])\n",
      "featureData, target, modelParams = Reg.pcaTaylorModel(stations, *argsListTrain, **argsDict)\n",
      "date_list, pred, target, modelPerf = Reg.pcaTaylorPredict(modelParams, *argsListTest)\n",
      "name = 'PCA03_order01_lag01'\n",
      "PCA3_modelName.append(name)\n",
      "PCA3_param.append(modelParams)\n",
      "PCA3_perf.append(modelPerf)\n",
      "PCA3_nvar.append(nv)"
     ],
     "language": "python",
     "metadata": {},
     "outputs": [
      {
       "output_type": "stream",
       "stream": "stdout",
       "text": [
        "R^2: 0.951623745427\n",
        "R^2_mean:\t0.944807840133"
       ]
      },
      {
       "output_type": "stream",
       "stream": "stdout",
       "text": [
        "\n",
        "R^2_base:\t0.647827450177\n",
        "RMSE:\t\t2.56979360486\n"
       ]
      }
     ],
     "prompt_number": 108
    },
    {
     "cell_type": "code",
     "collapsed": false,
     "input": [
      "# PCA 3-component two-day model\n",
      "argsDict['order']=2\n",
      "argsDict['ncomp']=len(features)*[3]\n",
      "nv = sum(argsDict['ncomp'])*(1+argsDict['order'])\n",
      "featureData, target, modelParams = Reg.pcaTaylorModel(stations, *argsListTrain, **argsDict)\n",
      "date_list, pred, target, modelPerf = Reg.pcaTaylorPredict(modelParams, *argsListTest)\n",
      "name = 'PCA03_order02_lag01'\n",
      "PCA3_modelName.append(name)\n",
      "PCA3_param.append(modelParams)\n",
      "PCA3_perf.append(modelPerf)\n",
      "PCA3_nvar.append(nv)"
     ],
     "language": "python",
     "metadata": {},
     "outputs": [
      {
       "output_type": "stream",
       "stream": "stdout",
       "text": [
        "R^2: 0.952444275492\n",
        "R^2_mean:\t0.944315599654"
       ]
      },
      {
       "output_type": "stream",
       "stream": "stdout",
       "text": [
        "\n",
        "R^2_base:\t0.645474108366\n",
        "RMSE:\t\t2.58004131833\n"
       ]
      }
     ],
     "prompt_number": 109
    },
    {
     "cell_type": "heading",
     "level": 2,
     "metadata": {},
     "source": [
      "PCA_05"
     ]
    },
    {
     "cell_type": "code",
     "collapsed": false,
     "input": [
      "PCA5_modelName = []\n",
      "PCA5_param = []\n",
      "PCA5_perf = []\n",
      "PCA5_nvar = []"
     ],
     "language": "python",
     "metadata": {},
     "outputs": [],
     "prompt_number": 110
    },
    {
     "cell_type": "code",
     "collapsed": false,
     "input": [
      "# PCA 5-component one-day model\n",
      "argsDict['order']=0\n",
      "argsDict['ncomp']=len(features)*[5]\n",
      "nv = sum(argsDict['ncomp'])*(1+argsDict['order'])\n",
      "featureData, target, modelParams = Reg.pcaTaylorModel(stations, *argsListTrain, **argsDict)\n",
      "date_list, pred, target, modelPerf = Reg.pcaTaylorPredict(modelParams, *argsListTest)\n",
      "name = 'PCA05_order00_lag01'\n",
      "PCA5_modelName.append(name)\n",
      "PCA5_param.append(modelParams)\n",
      "PCA5_perf.append(modelPerf)\n",
      "PCA5_nvar.append(nv)"
     ],
     "language": "python",
     "metadata": {},
     "outputs": [
      {
       "output_type": "stream",
       "stream": "stdout",
       "text": [
        "R^2: 0.953228016322\n",
        "R^2_mean:\t0.947426442519"
       ]
      },
      {
       "output_type": "stream",
       "stream": "stdout",
       "text": [
        "\n",
        "R^2_base:\t0.666824132702\n",
        "RMSE:\t\t2.50884145776\n"
       ]
      }
     ],
     "prompt_number": 111
    },
    {
     "cell_type": "code",
     "collapsed": false,
     "input": [
      "# PCA 5-component two-day model\n",
      "argsDict['order']=1\n",
      "argsDict['ncomp']=len(features)*[5]\n",
      "nv = sum(argsDict['ncomp'])*(1+argsDict['order'])\n",
      "featureData, target, modelParams = Reg.pcaTaylorModel(stations, *argsListTrain, **argsDict)\n",
      "date_list, pred, target, modelPerf = Reg.pcaTaylorPredict(modelParams, *argsListTest)\n",
      "name = 'PCA05_order01_lag01'\n",
      "PCA5_modelName.append(name)\n",
      "PCA5_param.append(modelParams)\n",
      "PCA5_perf.append(modelPerf)\n",
      "PCA5_nvar.append(nv)"
     ],
     "language": "python",
     "metadata": {},
     "outputs": [
      {
       "output_type": "stream",
       "stream": "stdout",
       "text": [
        "R^2: 0.957225478116\n",
        "R^2_mean:\t0.946001067226"
       ]
      },
      {
       "output_type": "stream",
       "stream": "stdout",
       "text": [
        "\n",
        "R^2_base:\t0.655441245845\n",
        "RMSE:\t\t2.54186298757\n"
       ]
      }
     ],
     "prompt_number": 112
    },
    {
     "cell_type": "code",
     "collapsed": false,
     "input": [
      "# PCA 5-component three-day model\n",
      "argsDict['order']=2\n",
      "argsDict['ncomp']=len(features)*[5]\n",
      "nv = sum(argsDict['ncomp'])*(1+argsDict['order'])\n",
      "featureData, target, modelParams = Reg.pcaTaylorModel(stations, *argsListTrain, **argsDict)\n",
      "date_list, pred, target, modelPerf = Reg.pcaTaylorPredict(modelParams, *argsListTest)\n",
      "name = 'PCA05_order02_lag01'\n",
      "PCA5_modelName.append(name)\n",
      "PCA5_param.append(modelParams)\n",
      "PCA5_perf.append(modelPerf)\n",
      "PCA5_nvar.append(nv)"
     ],
     "language": "python",
     "metadata": {},
     "outputs": [
      {
       "output_type": "stream",
       "stream": "stdout",
       "text": [
        "R^2: 0.958322740235\n",
        "R^2_mean:\t0.945353629998"
       ]
      },
      {
       "output_type": "stream",
       "stream": "stdout",
       "text": [
        "\n",
        "R^2_base:\t0.652082936527\n",
        "RMSE:\t\t2.5558805123\n"
       ]
      }
     ],
     "prompt_number": 113
    },
    {
     "cell_type": "code",
     "collapsed": false,
     "input": [],
     "language": "python",
     "metadata": {},
     "outputs": []
    },
    {
     "cell_type": "code",
     "collapsed": false,
     "input": [],
     "language": "python",
     "metadata": {},
     "outputs": []
    },
    {
     "cell_type": "code",
     "collapsed": false,
     "input": [],
     "language": "python",
     "metadata": {},
     "outputs": []
    },
    {
     "cell_type": "heading",
     "level": 1,
     "metadata": {},
     "source": [
      "VISUALIZE"
     ]
    },
    {
     "cell_type": "code",
     "collapsed": false,
     "input": [
      "import numpy as np\n",
      "rmse_base = np.sqrt(mean((np.array(target[:-1])-np.array(target[1:]))**2))\n",
      "\n",
      "one_city_rmse = [r['RMSE'] for r in one_city_perf]\n",
      "one_city_rsq = [r['R2_base'] for r in one_city_perf]\n",
      "\n",
      "two_city_rmse = [r['RMSE'] for r in two_city_perf]\n",
      "two_city_rsq = [r['R2_base'] for r in two_city_perf]\n",
      "\n",
      "five_city_rmse = [r['RMSE'] for r in five_city_perf]\n",
      "five_city_rsq = [r['R2_base'] for r in five_city_perf]\n",
      "\n",
      "multi_city_rmse = [r['RMSE'] for r in multi_city_perf]\n",
      "multi_city_rsq = [r['R2_base'] for r in multi_city_perf]\n",
      "\n",
      "PCA1_rmse = [r['RMSE'] for r in PCA1_perf]\n",
      "PCA1_rsq = [r['R2_base'] for r in PCA1_perf]\n",
      "\n",
      "PCA3_rmse = [r['RMSE'] for r in PCA3_perf]\n",
      "PCA3_rsq = [r['R2_base'] for r in PCA3_perf]\n",
      "\n",
      "PCA5_rmse = [r['RMSE'] for r in PCA5_perf]\n",
      "PCA5_rsq = [r['R2_base'] for r in PCA5_perf]"
     ],
     "language": "python",
     "metadata": {},
     "outputs": [],
     "prompt_number": 191
    },
    {
     "cell_type": "code",
     "collapsed": false,
     "input": [
      "import matplotlib.pyplot as plt\n",
      "fig = plt.figure(figsize=(7.0,5.0))\n",
      "ax = plt.subplot(111)\n",
      "\n",
      "plt.plot(one_city_nvar,one_city_rmse,color='blue',linewidth=2)\n",
      "p1=plt.scatter(one_city_nvar,one_city_rmse,color='blue',marker='o',s=60)\n",
      "\n",
      "plt.plot(two_city_nvar,two_city_rmse,color='mediumaquamarine',linewidth=2)\n",
      "p2=plt.scatter(two_city_nvar,two_city_rmse,color='mediumaquamarine',marker='o',s=60)\n",
      "\n",
      "plt.plot(five_city_nvar,five_city_rmse,color='peru',linewidth=2)\n",
      "p5=plt.scatter(five_city_nvar,five_city_rmse,color='peru',marker='o',s=60)\n",
      "\n",
      "plt.plot(multi_city_nvar,multi_city_rmse,color='red',linewidth=2)\n",
      "p29=plt.scatter(multi_city_nvar,multi_city_rmse,color='red',s=60)\n",
      "\n",
      "plt.plot(PCA1_nvar,PCA1_rmse,color='darkorchid',linewidth=2)\n",
      "pPCA1=plt.scatter(PCA1_nvar,PCA1_rmse,color='darkorchid',marker='D',s=60)\n",
      "\n",
      "plt.plot(PCA3_nvar,PCA3_rmse,color='green',linewidth=2)\n",
      "pPCA3=plt.scatter(PCA3_nvar,PCA3_rmse,color='green',marker='D',s=60)\n",
      "\n",
      "plt.plot(PCA5_nvar,PCA5_rmse,color='black',linewidth=2)\n",
      "pPCA5=plt.scatter(PCA5_nvar,PCA5_rmse,color='black',marker='D',s=60)\n",
      "\n",
      "bl = plt.plot([5,2000],[rmse_base,rmse_base],color='gray',linewidth=4,linestyle='--')\n",
      "\n",
      "ax.legend([p1,p2,p5,p29,pPCA1,pPCA3,pPCA5], \\\n",
      "          ['one-city','two-city','five-city','29-city','PCA1','PCA3','PCA5'])\n",
      "\n",
      "ax.set_xlim([5,2000])\n",
      "ax.set_xscale('log')\n",
      "ax.set_xlabel('Number of Independent Variables',size=16)\n",
      "ax.set_xticklabels(ax.get_xticks(), fontsize=12)\n",
      "\n",
      "ax.set_ylabel('RMSE',size=16)\n",
      "ax.set_yticklabels(ax.get_yticks(), fontsize=12)\n",
      "\n",
      "ax.set_title('Accuracy v. Model Complexity\\n for 1-Day Tmax Predictions at CYYZ',size=18)\n",
      "\n",
      "ax.grid(True,which='major')\n",
      "ax.grid(True,which='minor')\n",
      "\n",
      "plt.show()"
     ],
     "language": "python",
     "metadata": {},
     "outputs": [
      {
       "metadata": {},
       "output_type": "display_data",
       "png": "[encoded data removed]",
       "text": [
        "<matplotlib.figure.Figure at 0x1c72e690>"
       ]
      }
     ],
     "prompt_number": 197
    },
    {
     "cell_type": "code",
     "collapsed": false,
     "input": [],
     "language": "python",
     "metadata": {},
     "outputs": []
    }
   ],
   "metadata": {}
  }
 ]
}