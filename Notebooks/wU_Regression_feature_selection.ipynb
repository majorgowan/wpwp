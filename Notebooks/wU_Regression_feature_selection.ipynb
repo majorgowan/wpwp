{
 "metadata": {
  "name": "",
  "signature": "sha256:b6956af908eeb429e6ea014d4863f825c436d795c9d2df767ff5b1d5ee454028"
 },
 "nbformat": 3,
 "nbformat_minor": 0,
 "worksheets": [
  {
   "cells": [
    {
     "cell_type": "code",
     "collapsed": false,
     "input": [
      "cd D:/mfruman/Documents/wpwp/Python"
     ],
     "language": "python",
     "metadata": {},
     "outputs": [
      {
       "output_type": "stream",
       "stream": "stdout",
       "text": [
        "D:\\mfruman\\Documents\\wpwp\\Python\n"
       ]
      }
     ],
     "prompt_number": 1
    },
    {
     "cell_type": "code",
     "collapsed": false,
     "input": [
      "pylab.rcParams['figure.figsize'] = (6.0, 5.0)"
     ],
     "language": "python",
     "metadata": {},
     "outputs": [],
     "prompt_number": 2
    },
    {
     "cell_type": "heading",
     "level": 2,
     "metadata": {},
     "source": [
      "Feature selection with PCA"
     ]
    },
    {
     "cell_type": "code",
     "collapsed": false,
     "input": [
      "# construct PCA model with all variables and 4 PCA each\n",
      "import wUUtils as Util\n",
      "import wURegression as Reg\n",
      "import wUClusterRegression as ClustReg\n",
      "\n",
      "stations = Util.getStationList()\n",
      "targStation = 'CYYZ'\n",
      "stations = [targStation] + [s for s in stations if s != targStation]\n",
      "startDate, endDate = '2005-01-01', '2010-12-31'\n",
      "features = ['TempMean', 'TempMin', 'TempMax', 'VisibilityMean', \\\n",
      "            'PressMean', 'PressMin', 'PressMax', 'HumidityMean', \\\n",
      "            'WindMaxSpd', 'WindMeanX', 'WindMeanY', \\\n",
      "            'dailyTempRange', 'dailyPressRange', \\\n",
      "            'isSoutherly', 'isWesterly', 'isFoggy', \\\n",
      "            'isMorningMinTemp', 'isMorningMaxTemp', \\\n",
      "            'isDaytimeMinPress', 'isDaytimeMaxPress', \\\n",
      "            'isMorningMaxWind' ]\n",
      "\n",
      "# more arguments\n",
      "argsDict = {'clusterVars': [('TempMax',2),('PressMax',2)], \\\n",
      "            'ncomp':       21*[5], \\\n",
      "            'targetVar':   'TempMax', \\\n",
      "            'lag':         1, \\\n",
      "            'order':       1, \\\n",
      "            'nclusters':   1, \\\n",
      "            'verbose':     False }\n",
      "\n",
      "# build models\n",
      "print('Train model with all features ...')\n",
      "featureData, target, modelParams = ClustReg.pcaClusterModel(stations, startDate, endDate, features, ranseed=401, **argsDict)\n",
      "\n",
      "print('\\nIn-sample ...')\n",
      "date_list, pred1, targTest, featureDataTest, classP1, mPerf1 = ClustReg.pcaClusterPredict(modelParams, \\\n",
      "                                                                            startDate, endDate, actual=True)\n",
      "print('\\nOut-of-sample ...')\n",
      "date_list, pred1, targTest, featureDataTest, classP1, mPerf1 = ClustReg.pcaClusterPredict(modelParams, \\\n",
      "                                                                            '2011-01-01', '2012-12-31', actual=True)"
     ],
     "language": "python",
     "metadata": {},
     "outputs": [
      {
       "output_type": "stream",
       "stream": "stdout",
       "text": [
        "Train model with all features ...\n",
        "columns for clustering: [12, 32]"
       ]
      },
      {
       "output_type": "stream",
       "stream": "stdout",
       "text": [
        "\n",
        "Cluster 0, nrows 2189, R^2 0.963791"
       ]
      },
      {
       "output_type": "stream",
       "stream": "stdout",
       "text": [
        "\n",
        "\n",
        "In-sample ...\n",
        "Cluster 0, 2189 rows:"
       ]
      },
      {
       "output_type": "stream",
       "stream": "stdout",
       "text": [
        "\n",
        "  R^2_mean:\t0.963790598298\n",
        "  RMSE:\t\t2.14588199278\n",
        "\n",
        "Overall performance:\n",
        "  RMSE:\t2.14588199278\n",
        "\n",
        "Out-of-sample ...\n",
        "Cluster 0, 729 rows:"
       ]
      },
      {
       "output_type": "stream",
       "stream": "stdout",
       "text": [
        "\n",
        "  R^2_mean:\t0.94809047719\n",
        "  RMSE:\t\t2.49220100795\n",
        "\n",
        "Overall performance:\n",
        "  RMSE:\t2.49220100795\n"
       ]
      }
     ],
     "prompt_number": 20
    },
    {
     "cell_type": "code",
     "collapsed": false,
     "input": [
      "all_features = [[f+'_PC'+str(i) for i in range(5)] for f in features]\n",
      "all_features = [f for feat in all_features for f in feat]\n",
      "\n",
      "order = 1\n",
      "for ord in range(order):\n",
      "    all_features = all_features + [f + '_D' for f in all_features]\n",
      "\n",
      "print(all_features)"
     ],
     "language": "python",
     "metadata": {},
     "outputs": [
      {
       "output_type": "stream",
       "stream": "stdout",
       "text": [
        "['TempMean_PC0', 'TempMean_PC1', 'TempMean_PC2', 'TempMean_PC3', 'TempMean_PC4', 'TempMin_PC0', 'TempMin_PC1', 'TempMin_PC2', 'TempMin_PC3', 'TempMin_PC4', 'TempMax_PC0', 'TempMax_PC1', 'TempMax_PC2', 'TempMax_PC3', 'TempMax_PC4', 'VisibilityMean_PC0', 'VisibilityMean_PC1', 'VisibilityMean_PC2', 'VisibilityMean_PC3', 'VisibilityMean_PC4', 'PressMean_PC0', 'PressMean_PC1', 'PressMean_PC2', 'PressMean_PC3', 'PressMean_PC4', 'PressMin_PC0', 'PressMin_PC1', 'PressMin_PC2', 'PressMin_PC3', 'PressMin_PC4', 'PressMax_PC0', 'PressMax_PC1', 'PressMax_PC2', 'PressMax_PC3', 'PressMax_PC4', 'HumidityMean_PC0', 'HumidityMean_PC1', 'HumidityMean_PC2', 'HumidityMean_PC3', 'HumidityMean_PC4', 'WindMaxSpd_PC0', 'WindMaxSpd_PC1', 'WindMaxSpd_PC2', 'WindMaxSpd_PC3', 'WindMaxSpd_PC4', 'WindMeanX_PC0', 'WindMeanX_PC1', 'WindMeanX_PC2', 'WindMeanX_PC3', 'WindMeanX_PC4', 'WindMeanY_PC0', 'WindMeanY_PC1', 'WindMeanY_PC2', 'WindMeanY_PC3', 'WindMeanY_PC4', 'dailyTempRange_PC0', 'dailyTempRange_PC1', 'dailyTempRange_PC2', 'dailyTempRange_PC3', 'dailyTempRange_PC4', 'dailyPressRange_PC0', 'dailyPressRange_PC1', 'dailyPressRange_PC2', 'dailyPressRange_PC3', 'dailyPressRange_PC4', 'isSoutherly_PC0', 'isSoutherly_PC1', 'isSoutherly_PC2', 'isSoutherly_PC3', 'isSoutherly_PC4', 'isWesterly_PC0', 'isWesterly_PC1', 'isWesterly_PC2', 'isWesterly_PC3', 'isWesterly_PC4', 'isFoggy_PC0', 'isFoggy_PC1', 'isFoggy_PC2', 'isFoggy_PC3', 'isFoggy_PC4', 'isMorningMinTemp_PC0', 'isMorningMinTemp_PC1', 'isMorningMinTemp_PC2', 'isMorningMinTemp_PC3', 'isMorningMinTemp_PC4', 'isMorningMaxTemp_PC0', 'isMorningMaxTemp_PC1', 'isMorningMaxTemp_PC2', 'isMorningMaxTemp_PC3', 'isMorningMaxTemp_PC4', 'isDaytimeMinPress_PC0', 'isDaytimeMinPress_PC1', 'isDaytimeMinPress_PC2', 'isDaytimeMinPress_PC3', 'isDaytimeMinPress_PC4', 'isDaytimeMaxPress_PC0', 'isDaytimeMaxPress_PC1', 'isDaytimeMaxPress_PC2', 'isDaytimeMaxPress_PC3', 'isDaytimeMaxPress_PC4', 'isMorningMaxWind_PC0', 'isMorningMaxWind_PC1', 'isMorningMaxWind_PC2', 'isMorningMaxWind_PC3', 'isMorningMaxWind_PC4', 'TempMean_PC0_D', 'TempMean_PC1_D', 'TempMean_PC2_D', 'TempMean_PC3_D', 'TempMean_PC4_D', 'TempMin_PC0_D', 'TempMin_PC1_D', 'TempMin_PC2_D', 'TempMin_PC3_D', 'TempMin_PC4_D', 'TempMax_PC0_D', 'TempMax_PC1_D', 'TempMax_PC2_D', 'TempMax_PC3_D', 'TempMax_PC4_D', 'VisibilityMean_PC0_D', 'VisibilityMean_PC1_D', 'VisibilityMean_PC2_D', 'VisibilityMean_PC3_D', 'VisibilityMean_PC4_D', 'PressMean_PC0_D', 'PressMean_PC1_D', 'PressMean_PC2_D', 'PressMean_PC3_D', 'PressMean_PC4_D', 'PressMin_PC0_D', 'PressMin_PC1_D', 'PressMin_PC2_D', 'PressMin_PC3_D', 'PressMin_PC4_D', 'PressMax_PC0_D', 'PressMax_PC1_D', 'PressMax_PC2_D', 'PressMax_PC3_D', 'PressMax_PC4_D', 'HumidityMean_PC0_D', 'HumidityMean_PC1_D', 'HumidityMean_PC2_D', 'HumidityMean_PC3_D', 'HumidityMean_PC4_D', 'WindMaxSpd_PC0_D', 'WindMaxSpd_PC1_D', 'WindMaxSpd_PC2_D', 'WindMaxSpd_PC3_D', 'WindMaxSpd_PC4_D', 'WindMeanX_PC0_D', 'WindMeanX_PC1_D', 'WindMeanX_PC2_D', 'WindMeanX_PC3_D', 'WindMeanX_PC4_D', 'WindMeanY_PC0_D', 'WindMeanY_PC1_D', 'WindMeanY_PC2_D', 'WindMeanY_PC3_D', 'WindMeanY_PC4_D', 'dailyTempRange_PC0_D', 'dailyTempRange_PC1_D', 'dailyTempRange_PC2_D', 'dailyTempRange_PC3_D', 'dailyTempRange_PC4_D', 'dailyPressRange_PC0_D', 'dailyPressRange_PC1_D', 'dailyPressRange_PC2_D', 'dailyPressRange_PC3_D', 'dailyPressRange_PC4_D', 'isSoutherly_PC0_D', 'isSoutherly_PC1_D', 'isSoutherly_PC2_D', 'isSoutherly_PC3_D', 'isSoutherly_PC4_D', 'isWesterly_PC0_D', 'isWesterly_PC1_D', 'isWesterly_PC2_D', 'isWesterly_PC3_D', 'isWesterly_PC4_D', 'isFoggy_PC0_D', 'isFoggy_PC1_D', 'isFoggy_PC2_D', 'isFoggy_PC3_D', 'isFoggy_PC4_D', 'isMorningMinTemp_PC0_D', 'isMorningMinTemp_PC1_D', 'isMorningMinTemp_PC2_D', 'isMorningMinTemp_PC3_D', 'isMorningMinTemp_PC4_D', 'isMorningMaxTemp_PC0_D', 'isMorningMaxTemp_PC1_D', 'isMorningMaxTemp_PC2_D', 'isMorningMaxTemp_PC3_D', 'isMorningMaxTemp_PC4_D', 'isDaytimeMinPress_PC0_D', 'isDaytimeMinPress_PC1_D', 'isDaytimeMinPress_PC2_D', 'isDaytimeMinPress_PC3_D', 'isDaytimeMinPress_PC4_D', 'isDaytimeMaxPress_PC0_D', 'isDaytimeMaxPress_PC1_D', 'isDaytimeMaxPress_PC2_D', 'isDaytimeMaxPress_PC3_D', 'isDaytimeMaxPress_PC4_D', 'isMorningMaxWind_PC0_D', 'isMorningMaxWind_PC1_D', 'isMorningMaxWind_PC2_D', 'isMorningMaxWind_PC3_D', 'isMorningMaxWind_PC4_D']\n"
       ]
      }
     ],
     "prompt_number": 21
    },
    {
     "cell_type": "code",
     "collapsed": false,
     "input": [
      "# stepwise feature selection\n",
      "from sklearn.feature_selection import RFE\n",
      "from sklearn import linear_model\n",
      "\n",
      "# make a new regression object\n",
      "regr = linear_model.LinearRegression()\n",
      "rfe = RFE(regr, n_features_to_select=20)\n",
      "# fit it using the training set\n",
      "rfe.fit(np.array(featureData).T, target)\n",
      "\n",
      "best_features = [f for i,f in enumerate(all_features) if rfe.support_[i]]\n",
      "print('Best features: ')\n",
      "print(best_features)"
     ],
     "language": "python",
     "metadata": {},
     "outputs": [
      {
       "output_type": "stream",
       "stream": "stdout",
       "text": [
        "Best features: \n",
        "['TempMean_PC0', 'TempMean_PC4', 'TempMin_PC0', 'TempMin_PC1', 'TempMin_PC3', 'TempMin_PC4', 'TempMax_PC0', 'TempMax_PC2', 'TempMax_PC3', 'TempMax_PC4', 'WindMeanY_PC1', 'dailyTempRange_PC4', 'dailyPressRange_PC3', 'isMorningMinTemp_PC3', 'TempMean_PC4_D', 'TempMin_PC0_D', 'PressMean_PC2_D', 'PressMin_PC2_D', 'PressMax_PC2_D', 'dailyTempRange_PC0_D']\n"
       ]
      }
     ],
     "prompt_number": 33
    },
    {
     "cell_type": "code",
     "collapsed": false,
     "input": [
      "features_new = rfe.transform(np.array(featureData).T)\n",
      "regr.fit(features_new, target)\n",
      "pred = regr.predict(features_new)\n",
      "print(\"R^2: \" + str(regr.score(features_new,target)))\n",
      "print(\"rmse: \" + str(np.sqrt(mean((pred - target)**2))))\n",
      "print(\"Regression coefficients:\")\n",
      "print(\"  intercept\" + \":\\t\" + str(regr.intercept_) + \"\\n\")\n",
      "#for ii, feature in enumerate(best_features):\n",
      "#    print(\"  %s: \\t %.2f\" % (feature, regr.coef_[ii]))\n",
      "\n",
      "for (abscoef,coef,ft) in sorted(zip(abs(regr.coef_),regr.coef_,best_features),\n",
      "                                reverse=True):\n",
      "    print(\"  %s: \\t %.2f\" % (ft, coef))"
     ],
     "language": "python",
     "metadata": {},
     "outputs": [
      {
       "output_type": "stream",
       "stream": "stdout",
       "text": [
        "R^2: 0.954117937554\n",
        "rmse: 2.41555331097\n",
        "Regression coefficients:\n",
        "  intercept:\t13.1964737274\n",
        "\n",
        "  TempMean_PC4: \t 2.87\n",
        "  TempMean_PC0: \t 2.71\n",
        "  TempMax_PC2: \t 1.22\n",
        "  TempMin_PC4: \t 1.19\n",
        "  TempMax_PC4: \t -1.17\n",
        "  TempMin_PC0: \t -1.01\n",
        "  TempMin_PC3: \t 0.98\n",
        "  TempMean_PC4_D: \t -0.69\n",
        "  PressMax_PC2_D: \t 0.66\n",
        "  PressMean_PC2_D: \t -0.63\n",
        "  TempMin_PC0_D: \t 0.61\n",
        "  TempMin_PC1: \t 0.58\n",
        "  TempMax_PC3: \t -0.56\n",
        "  PressMin_PC2_D: \t -0.41\n",
        "  dailyPressRange_PC3: \t -0.38\n",
        "  TempMax_PC0: \t 0.38\n",
        "  WindMeanY_PC1: \t -0.35\n",
        "  dailyTempRange_PC4: \t -0.35\n",
        "  dailyTempRange_PC0_D: \t 0.33\n",
        "  isMorningMinTemp_PC3: \t -0.10\n"
       ]
      }
     ],
     "prompt_number": 40
    },
    {
     "cell_type": "code",
     "collapsed": false,
     "input": [
      "# out-of-sample predictions\n",
      "features_new = rfe.transform(np.array(featureDataTest).T)\n",
      "pred = regr.predict(features_new)\n",
      "print(\"R^2: \" + str(regr.score(features_new,targTest)))\n",
      "print(\"rmse: \" + str(np.sqrt(mean((pred - targTest)**2))))"
     ],
     "language": "python",
     "metadata": {},
     "outputs": [
      {
       "output_type": "stream",
       "stream": "stdout",
       "text": [
        "R^2: 0.949692331599\n",
        "rmse: 2.45344679209\n"
       ]
      }
     ],
     "prompt_number": 7
    },
    {
     "cell_type": "heading",
     "level": 3,
     "metadata": {},
     "source": [
      "Performance versus n_features_to_select"
     ]
    },
    {
     "cell_type": "code",
     "collapsed": false,
     "input": [
      "rmse_insamp = []\n",
      "rmse_outsamp = []\n",
      "nfeat = [1, 2, 3, 4, 6, 8, 10, 15, 20, 25, 40, 60, 100]\n",
      "for nf in nfeat:\n",
      "    # make a new regression object\n",
      "    regr = linear_model.LinearRegression()\n",
      "    rfe = RFE(regr, n_features_to_select=nf)\n",
      "    # fit it using the training set\n",
      "    rfe.fit(np.array(featureData).T, target)\n",
      "\n",
      "    # in-sample:\n",
      "    features_new = rfe.transform(np.array(featureData).T)\n",
      "    regr.fit(features_new, target)\n",
      "    pred = regr.predict(features_new)\n",
      "    rmse_insamp.append(np.sqrt(mean((pred - target)**2)))\n",
      "    # out-of-sample:\n",
      "    features_new = rfe.transform(np.array(featureDataTest).T)\n",
      "    pred = regr.predict(features_new)\n",
      "    rmse_outsamp.append(np.sqrt(mean((pred - targTest)**2)))"
     ],
     "language": "python",
     "metadata": {},
     "outputs": [],
     "prompt_number": 23
    },
    {
     "cell_type": "code",
     "collapsed": false,
     "input": [
      "import matplotlib.pyplot as plt\n",
      "\n",
      "fig = plt.figure(figsize=(8.0,4.0))\n",
      "ax = plt.subplot(111)\n",
      "plt.plot(nfeat, rmse_insamp, color='r', linewidth=1)\n",
      "plt.plot(nfeat, rmse_outsamp, color='b', linewidth=1)\n",
      "plt.scatter(nfeat, rmse_insamp, color='r', s=50)\n",
      "plt.scatter(nfeat, rmse_outsamp, color='b', s=50)\n",
      "ax.legend(['in-sample', 'out-of-sample'])\n",
      "ax.set_xlim([0,50])\n",
      "ax.grid(True)\n",
      "\n",
      "ax.set_xlabel('Number of \"best features\"',size=16)\n",
      "ax.set_xticklabels(ax.get_xticks(), fontsize=12)\n",
      "\n",
      "ax.set_ylabel('RMSE',size=16)\n",
      "ax.set_yticklabels(ax.get_yticks(), fontsize=12)\n",
      "\n",
      "ax.set_title('Accuracy v. Model Complexity\\n for 1-Day Tmax Predictions at CYYZ',size=18)\n",
      "\n",
      "plt.show()"
     ],
     "language": "python",
     "metadata": {},
     "outputs": [
      {
       "metadata": {},
       "output_type": "display_data",
       "png": "[encoded data removed]",
       "text": [
        "<matplotlib.figure.Figure at 0x103c2b90>"
       ]
      }
     ],
     "prompt_number": 32
    },
    {
     "cell_type": "code",
     "collapsed": false,
     "input": [],
     "language": "python",
     "metadata": {},
     "outputs": []
    }
   ],
   "metadata": {}
  }
 ]
}