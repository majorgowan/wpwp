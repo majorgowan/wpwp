{
 "metadata": {
  "name": "",
  "signature": "sha256:bef2fee86d7dc06f32c27716b23067f571566e54ae0ffcfafc6126d89f2b7b0a"
 },
 "nbformat": 3,
 "nbformat_minor": 0,
 "worksheets": [
  {
   "cells": [
    {
     "cell_type": "heading",
     "level": 2,
     "metadata": {},
     "source": [
      "Comparison of predictability by lag-day"
     ]
    },
    {
     "cell_type": "code",
     "collapsed": false,
     "input": [
      "cd I:/wpwp/Python"
     ],
     "language": "python",
     "metadata": {},
     "outputs": [
      {
       "output_type": "stream",
       "stream": "stdout",
       "text": [
        "I:\\wpwp\\Python\n"
       ]
      }
     ],
     "prompt_number": 1
    },
    {
     "cell_type": "code",
     "collapsed": false,
     "input": [
      "cd D:/mfruman/Documents/wpwp/Python"
     ],
     "language": "python",
     "metadata": {},
     "outputs": [
      {
       "output_type": "stream",
       "stream": "stdout",
       "text": [
        "D:\\mfruman\\Documents\\wpwp\\Python\n"
       ]
      }
     ],
     "prompt_number": 1
    },
    {
     "cell_type": "code",
     "collapsed": false,
     "input": [
      "pylab.rcParams['figure.figsize'] = (6.0, 5.0)"
     ],
     "language": "python",
     "metadata": {},
     "outputs": [],
     "prompt_number": 2
    },
    {
     "cell_type": "code",
     "collapsed": false,
     "input": [
      "import wURegression as Reg\n",
      "import wUClusterRegression as ClustReg\n",
      "import wUUtils as Util"
     ],
     "language": "python",
     "metadata": {},
     "outputs": [],
     "prompt_number": 3
    },
    {
     "cell_type": "heading",
     "level": 3,
     "metadata": {},
     "source": [
      "Common parameters"
     ]
    },
    {
     "cell_type": "code",
     "collapsed": false,
     "input": [
      "# regression model using data from one city on a single day\n",
      "# to predict maximum temperature the next day\n",
      "\n",
      "# load station list\n",
      "stations = Util.getStationList()\n",
      "# move target station to front\n",
      "targStation = 'CYYZ'\n",
      "stations = [targStation] + [s for s in stations if s != targStation]\n",
      "\n",
      "# training and testing intervals\n",
      "trainStart, trainEnd = '2005-01-01', '2010-12-31'\n",
      "testStart, testEnd = '2011-01-01', '2012-12-31'\n",
      "\n",
      "# independent variables\n",
      "features = ['TempMax','dailyTempRange','PressMax','dailyPressRange',\\\n",
      "            'HumidityMean','isWesterly','isSoutherly','isFoggy']\n",
      "\n",
      "# dependent variables\n",
      "targetVar = 'TempMax'\n",
      "# prediction day (days before forecast day)\n",
      "lag = 1\n",
      "# number of previous days to use\n",
      "order = 1\n",
      "# scale features\n",
      "scale = True\n",
      "# suppress detailed output\n",
      "verbose = False\n",
      "# argument list\n",
      "argsListTrain = [trainStart, trainEnd, features]\n",
      "argsListTest = [testStart, testEnd, True]\n",
      "# argument dictionary\n",
      "argsDict = {'targetVar':   targetVar, \\\n",
      "            'lag':         lag, \\\n",
      "            'order':       order, \\\n",
      "            'scale':       True, \\\n",
      "            'verbose':     verbose }"
     ],
     "language": "python",
     "metadata": {},
     "outputs": [],
     "prompt_number": 4
    },
    {
     "cell_type": "code",
     "collapsed": false,
     "input": [
      "# modelParams_nCity_lag"
     ],
     "language": "python",
     "metadata": {},
     "outputs": [],
     "prompt_number": 39
    },
    {
     "cell_type": "heading",
     "level": 2,
     "metadata": {},
     "source": [
      "ONE CITY - CYYZ"
     ]
    },
    {
     "cell_type": "code",
     "collapsed": false,
     "input": [
      "one_city_CYYZ_modelName = []\n",
      "one_city_CYYZ_param = []\n",
      "one_city_CYYZ_perf = []\n",
      "one_city_CYYZ_lag = []"
     ],
     "language": "python",
     "metadata": {},
     "outputs": [],
     "prompt_number": 32
    },
    {
     "cell_type": "code",
     "collapsed": false,
     "input": [
      "# one-city, lag1\n",
      "argsDict['lag']=1\n",
      "featureData, target, modelParams = Reg.multiCityInteractionModel(['CYYZ'], *argsListTrain, **argsDict)\n",
      "date_list, pred, target, modelPerf = Reg.multiCityInteractionPredict(modelParams, *argsListTest)\n",
      "name='CYYZ_lag_'+str(argsDict['lag'])\n",
      "one_city_CYYZ_modelName.append(name)\n",
      "one_city_CYYZ_param.append(modelParams)\n",
      "one_city_CYYZ_perf.append(modelPerf)\n",
      "one_city_CYYZ_lag.append(argsDict['lag'])"
     ],
     "language": "python",
     "metadata": {},
     "outputs": [
      {
       "output_type": "stream",
       "stream": "stdout",
       "text": [
        "R^2: 0.90563609616\n",
        "R^2_mean:\t0.888725638379"
       ]
      },
      {
       "output_type": "stream",
       "stream": "stdout",
       "text": [
        "\n",
        "R^2_base:\t0.289975682121\n",
        "RMSE:\t\t3.64885919474\n"
       ]
      }
     ],
     "prompt_number": 33
    },
    {
     "cell_type": "code",
     "collapsed": false,
     "input": [
      "# one-city, lag2\n",
      "argsDict['lag']=2\n",
      "featureData, target, modelParams = Reg.multiCityInteractionModel(['CYYZ'], *argsListTrain, **argsDict)\n",
      "date_list, pred, target, modelPerf = Reg.multiCityInteractionPredict(modelParams, *argsListTest)\n",
      "name='CYYZ_lag_'+str(argsDict['lag'])\n",
      "one_city_CYYZ_modelName.append(name)\n",
      "one_city_CYYZ_param.append(modelParams)\n",
      "one_city_CYYZ_perf.append(modelPerf)\n",
      "one_city_CYYZ_lag.append(argsDict['lag'])"
     ],
     "language": "python",
     "metadata": {},
     "outputs": [
      {
       "output_type": "stream",
       "stream": "stdout",
       "text": [
        "R^2: 0.831947144333\n",
        "R^2_mean:\t0.818873839131"
       ]
      },
      {
       "output_type": "stream",
       "stream": "stdout",
       "text": [
        "\n",
        "R^2_base:\t0.31197020286\n",
        "RMSE:\t\t4.65318670383\n"
       ]
      }
     ],
     "prompt_number": 34
    },
    {
     "cell_type": "code",
     "collapsed": false,
     "input": [
      "# one-city, lag3\n",
      "argsDict['lag']=3\n",
      "featureData, target, modelParams = Reg.multiCityInteractionModel(['CYYZ'], *argsListTrain, **argsDict)\n",
      "date_list, pred, target, modelPerf = Reg.multiCityInteractionPredict(modelParams, *argsListTest)\n",
      "name='CYYZ_lag_'+str(argsDict['lag'])\n",
      "one_city_CYYZ_modelName.append(name)\n",
      "one_city_CYYZ_param.append(modelParams)\n",
      "one_city_CYYZ_perf.append(modelPerf)\n",
      "one_city_CYYZ_lag.append(argsDict['lag'])"
     ],
     "language": "python",
     "metadata": {},
     "outputs": [
      {
       "output_type": "stream",
       "stream": "stdout",
       "text": [
        "R^2: 0.791312450348\n",
        "R^2_mean:\t0.786830240403"
       ]
      },
      {
       "output_type": "stream",
       "stream": "stdout",
       "text": [
        "\n",
        "R^2_base:\t0.26529611868\n",
        "RMSE:\t\t5.04648785073\n"
       ]
      }
     ],
     "prompt_number": 35
    },
    {
     "cell_type": "code",
     "collapsed": false,
     "input": [
      "# one-city, lag4\n",
      "argsDict['lag']=4\n",
      "featureData, target, modelParams = Reg.multiCityInteractionModel(['CYYZ'], *argsListTrain, **argsDict)\n",
      "date_list, pred, target, modelPerf = Reg.multiCityInteractionPredict(modelParams, *argsListTest)\n",
      "name='CYYZ_lag_'+str(argsDict['lag'])\n",
      "one_city_CYYZ_modelName.append(name)\n",
      "one_city_CYYZ_param.append(modelParams)\n",
      "one_city_CYYZ_perf.append(modelPerf)\n",
      "one_city_CYYZ_lag.append(argsDict['lag'])"
     ],
     "language": "python",
     "metadata": {},
     "outputs": [
      {
       "output_type": "stream",
       "stream": "stdout",
       "text": [
        "R^2: 0.767862784414\n",
        "R^2_mean:\t0.769806031332"
       ]
      },
      {
       "output_type": "stream",
       "stream": "stdout",
       "text": [
        "\n",
        "R^2_base:\t0.244575862338\n",
        "RMSE:\t\t5.24078300694\n"
       ]
      }
     ],
     "prompt_number": 36
    },
    {
     "cell_type": "code",
     "collapsed": false,
     "input": [
      "# one-city, lag5\n",
      "argsDict['lag']=5\n",
      "featureData, target, modelParams = Reg.multiCityInteractionModel(['CYYZ'], *argsListTrain, **argsDict)\n",
      "date_list, pred, target, modelPerf = Reg.multiCityInteractionPredict(modelParams, *argsListTest)\n",
      "name='CYYZ_lag_'+str(argsDict['lag'])\n",
      "one_city_CYYZ_modelName.append(name)\n",
      "one_city_CYYZ_param.append(modelParams)\n",
      "one_city_CYYZ_perf.append(modelPerf)\n",
      "one_city_CYYZ_lag.append(argsDict['lag'])"
     ],
     "language": "python",
     "metadata": {},
     "outputs": [
      {
       "output_type": "stream",
       "stream": "stdout",
       "text": [
        "R^2: 0.75356228544\n",
        "R^2_mean:\t0.757994350135"
       ]
      },
      {
       "output_type": "stream",
       "stream": "stdout",
       "text": [
        "\n",
        "R^2_base:\t0.243880576175\n",
        "RMSE:\t\t5.36911949295\n"
       ]
      }
     ],
     "prompt_number": 37
    },
    {
     "cell_type": "code",
     "collapsed": false,
     "input": [
      "# one-city, lag6\n",
      "argsDict['lag']=6\n",
      "featureData, target, modelParams = Reg.multiCityInteractionModel(['CYYZ'], *argsListTrain, **argsDict)\n",
      "date_list, pred, target, modelPerf = Reg.multiCityInteractionPredict(modelParams, *argsListTest)\n",
      "name='CYYZ_lag_'+str(argsDict['lag'])\n",
      "one_city_CYYZ_modelName.append(name)\n",
      "one_city_CYYZ_param.append(modelParams)\n",
      "one_city_CYYZ_perf.append(modelPerf)\n",
      "one_city_CYYZ_lag.append(argsDict['lag'])"
     ],
     "language": "python",
     "metadata": {},
     "outputs": [
      {
       "output_type": "stream",
       "stream": "stdout",
       "text": [
        "R^2: 0.748387389756\n",
        "R^2_mean:\t0.741039196072"
       ]
      },
      {
       "output_type": "stream",
       "stream": "stdout",
       "text": [
        "\n",
        "R^2_base:\t0.225858584492\n",
        "RMSE:\t\t5.54716612428\n"
       ]
      }
     ],
     "prompt_number": 38
    },
    {
     "cell_type": "code",
     "collapsed": false,
     "input": [
      "# one-city, lag7\n",
      "argsDict['lag']=7\n",
      "featureData, target, modelParams = Reg.multiCityInteractionModel(['CYYZ'], *argsListTrain, **argsDict)\n",
      "date_list, pred, target, modelPerf = Reg.multiCityInteractionPredict(modelParams, *argsListTest)\n",
      "name='CYYZ_lag_'+str(argsDict['lag'])\n",
      "one_city_CYYZ_modelName.append(name)\n",
      "one_city_CYYZ_param.append(modelParams)\n",
      "one_city_CYYZ_perf.append(modelPerf)\n",
      "one_city_CYYZ_lag.append(argsDict['lag'])"
     ],
     "language": "python",
     "metadata": {},
     "outputs": [
      {
       "output_type": "stream",
       "stream": "stdout",
       "text": [
        "R^2: 0.743125167363\n",
        "R^2_mean:\t0.724175460331"
       ]
      },
      {
       "output_type": "stream",
       "stream": "stdout",
       "text": [
        "\n",
        "R^2_base:\t0.222901528383\n",
        "RMSE:\t\t5.71655308361\n"
       ]
      }
     ],
     "prompt_number": 39
    },
    {
     "cell_type": "heading",
     "level": 2,
     "metadata": {},
     "source": [
      "ONE CITY - KJFK"
     ]
    },
    {
     "cell_type": "code",
     "collapsed": false,
     "input": [
      "one_city_KJFK_modelName = []\n",
      "one_city_KJFK_param = []\n",
      "one_city_KJFK_perf = []\n",
      "one_city_KJFK_lag = []"
     ],
     "language": "python",
     "metadata": {},
     "outputs": [],
     "prompt_number": 40
    },
    {
     "cell_type": "code",
     "collapsed": false,
     "input": [
      "# one-city, lag1\n",
      "argsDict['lag']=1\n",
      "featureData, target, modelParams = Reg.multiCityInteractionModel(['KJFK'], *argsListTrain, **argsDict)\n",
      "date_list, pred, target, modelPerf = Reg.multiCityInteractionPredict(modelParams, *argsListTest)\n",
      "name='KJFK_lag_'+str(argsDict['lag'])\n",
      "one_city_KJFK_modelName.append(name)\n",
      "one_city_KJFK_param.append(modelParams)\n",
      "one_city_KJFK_perf.append(modelPerf)\n",
      "one_city_KJFK_lag.append(argsDict['lag'])"
     ],
     "language": "python",
     "metadata": {},
     "outputs": [
      {
       "output_type": "stream",
       "stream": "stdout",
       "text": [
        "R^2: 0.886733794785\n",
        "R^2_mean:\t0.879506781317"
       ]
      },
      {
       "output_type": "stream",
       "stream": "stdout",
       "text": [
        "\n",
        "R^2_base:\t0.252390492557\n",
        "RMSE:\t\t3.20083541358\n"
       ]
      }
     ],
     "prompt_number": 41
    },
    {
     "cell_type": "code",
     "collapsed": false,
     "input": [
      "# one-city, lag2\n",
      "argsDict['lag']=2\n",
      "featureData, target, modelParams = Reg.multiCityInteractionModel(['KJFK'], *argsListTrain, **argsDict)\n",
      "date_list, pred, target, modelPerf = Reg.multiCityInteractionPredict(modelParams, *argsListTest)\n",
      "name='KJFK_lag_'+str(argsDict['lag'])\n",
      "one_city_KJFK_modelName.append(name)\n",
      "one_city_KJFK_param.append(modelParams)\n",
      "one_city_KJFK_perf.append(modelPerf)\n",
      "one_city_KJFK_lag.append(argsDict['lag'])"
     ],
     "language": "python",
     "metadata": {},
     "outputs": [
      {
       "output_type": "stream",
       "stream": "stdout",
       "text": [
        "R^2: 0.811470833264\n",
        "R^2_mean:\t0.790617431941"
       ]
      },
      {
       "output_type": "stream",
       "stream": "stdout",
       "text": [
        "\n",
        "R^2_base:\t0.226417226201\n",
        "RMSE:\t\t4.21455327921\n"
       ]
      }
     ],
     "prompt_number": 42
    },
    {
     "cell_type": "code",
     "collapsed": false,
     "input": [
      "# one-city, lag3\n",
      "argsDict['lag']=3\n",
      "featureData, target, modelParams = Reg.multiCityInteractionModel(['KJFK'], *argsListTrain, **argsDict)\n",
      "date_list, pred, target, modelPerf = Reg.multiCityInteractionPredict(modelParams, *argsListTest)\n",
      "name='KJFK_lag_'+str(argsDict['lag'])\n",
      "one_city_KJFK_modelName.append(name)\n",
      "one_city_KJFK_param.append(modelParams)\n",
      "one_city_KJFK_perf.append(modelPerf)\n",
      "one_city_KJFK_lag.append(argsDict['lag'])"
     ],
     "language": "python",
     "metadata": {},
     "outputs": [
      {
       "output_type": "stream",
       "stream": "stdout",
       "text": [
        "R^2: 0.772803322099\n",
        "R^2_mean:\t0.761944570837"
       ]
      },
      {
       "output_type": "stream",
       "stream": "stdout",
       "text": [
        "\n",
        "R^2_base:\t0.238188234679\n",
        "RMSE:\t\t4.48980936082\n"
       ]
      }
     ],
     "prompt_number": 43
    },
    {
     "cell_type": "code",
     "collapsed": false,
     "input": [
      "# one-city, lag4\n",
      "argsDict['lag']=4\n",
      "featureData, target, modelParams = Reg.multiCityInteractionModel(['KJFK'], *argsListTrain, **argsDict)\n",
      "date_list, pred, target, modelPerf = Reg.multiCityInteractionPredict(modelParams, *argsListTest)\n",
      "name='KJFK_lag_'+str(argsDict['lag'])\n",
      "one_city_KJFK_modelName.append(name)\n",
      "one_city_KJFK_param.append(modelParams)\n",
      "one_city_KJFK_perf.append(modelPerf)\n",
      "one_city_KJFK_lag.append(argsDict['lag'])"
     ],
     "language": "python",
     "metadata": {},
     "outputs": [
      {
       "output_type": "stream",
       "stream": "stdout",
       "text": [
        "R^2: 0.747464805718\n",
        "R^2_mean:\t0.758206883627"
       ]
      },
      {
       "output_type": "stream",
       "stream": "stdout",
       "text": [
        "\n",
        "R^2_base:\t0.255216531356\n",
        "RMSE:\t\t4.52188629258\n"
       ]
      }
     ],
     "prompt_number": 44
    },
    {
     "cell_type": "code",
     "collapsed": false,
     "input": [
      "# one-city, lag5\n",
      "argsDict['lag']=5\n",
      "featureData, target, modelParams = Reg.multiCityInteractionModel(['KJFK'], *argsListTrain, **argsDict)\n",
      "date_list, pred, target, modelPerf = Reg.multiCityInteractionPredict(modelParams, *argsListTest)\n",
      "name='KJFK_lag_'+str(argsDict['lag'])\n",
      "one_city_KJFK_modelName.append(name)\n",
      "one_city_KJFK_param.append(modelParams)\n",
      "one_city_KJFK_perf.append(modelPerf)\n",
      "one_city_KJFK_lag.append(argsDict['lag'])"
     ],
     "language": "python",
     "metadata": {},
     "outputs": [
      {
       "output_type": "stream",
       "stream": "stdout",
       "text": [
        "R^2: 0.731548844709\n",
        "R^2_mean:\t0.774839848559"
       ]
      },
      {
       "output_type": "stream",
       "stream": "stdout",
       "text": [
        "\n",
        "R^2_base:\t0.234832175447\n",
        "RMSE:\t\t4.35719809031\n"
       ]
      }
     ],
     "prompt_number": 45
    },
    {
     "cell_type": "code",
     "collapsed": false,
     "input": [
      "# one-city, lag6\n",
      "argsDict['lag']=6\n",
      "featureData, target, modelParams = Reg.multiCityInteractionModel(['KJFK'], *argsListTrain, **argsDict)\n",
      "date_list, pred, target, modelPerf = Reg.multiCityInteractionPredict(modelParams, *argsListTest)\n",
      "name='KJFK_lag_'+str(argsDict['lag'])\n",
      "one_city_KJFK_modelName.append(name)\n",
      "one_city_KJFK_param.append(modelParams)\n",
      "one_city_KJFK_perf.append(modelPerf)\n",
      "one_city_KJFK_lag.append(argsDict['lag'])"
     ],
     "language": "python",
     "metadata": {},
     "outputs": [
      {
       "output_type": "stream",
       "stream": "stdout",
       "text": [
        "R^2: 0.722102282873\n",
        "R^2_mean:\t0.77011170717"
       ]
      },
      {
       "output_type": "stream",
       "stream": "stdout",
       "text": [
        "\n",
        "R^2_base:\t0.191189031673\n",
        "RMSE:\t\t4.39745101773\n"
       ]
      }
     ],
     "prompt_number": 46
    },
    {
     "cell_type": "code",
     "collapsed": false,
     "input": [
      "# one-city, lag7\n",
      "argsDict['lag']=7\n",
      "featureData, target, modelParams = Reg.multiCityInteractionModel(['KJFK'], *argsListTrain, **argsDict)\n",
      "date_list, pred, target, modelPerf = Reg.multiCityInteractionPredict(modelParams, *argsListTest)\n",
      "name='KJFK_lag_'+str(argsDict['lag'])\n",
      "one_city_KJFK_modelName.append(name)\n",
      "one_city_KJFK_param.append(modelParams)\n",
      "one_city_KJFK_perf.append(modelPerf)\n",
      "one_city_KJFK_lag.append(argsDict['lag'])"
     ],
     "language": "python",
     "metadata": {},
     "outputs": [
      {
       "output_type": "stream",
       "stream": "stdout",
       "text": [
        "R^2: 0.718461459869\n",
        "R^2_mean:\t0.748234026387"
       ]
      },
      {
       "output_type": "stream",
       "stream": "stdout",
       "text": [
        "\n",
        "R^2_base:\t0.201371344682\n",
        "RMSE:\t\t4.59367573681\n"
       ]
      }
     ],
     "prompt_number": 47
    },
    {
     "cell_type": "heading",
     "level": 2,
     "metadata": {},
     "source": [
      "PCA_03 CYYZ"
     ]
    },
    {
     "cell_type": "code",
     "collapsed": false,
     "input": [
      "argsDict.pop('scale',None)"
     ],
     "language": "python",
     "metadata": {},
     "outputs": [
      {
       "metadata": {},
       "output_type": "pyout",
       "prompt_number": 48,
       "text": [
        "True"
       ]
      }
     ],
     "prompt_number": 48
    },
    {
     "cell_type": "code",
     "collapsed": false,
     "input": [
      "PCA3_CYYZ_modelName = []\n",
      "PCA3_CYYZ_param = []\n",
      "PCA3_CYYZ_perf = []\n",
      "PCA3_CYYZ_lag = []"
     ],
     "language": "python",
     "metadata": {},
     "outputs": [],
     "prompt_number": 55
    },
    {
     "cell_type": "code",
     "collapsed": false,
     "input": [
      "stations = Util.getStationList()\n",
      "# move target station to front\n",
      "targStation = 'CYYZ'\n",
      "stations = [targStation] + [s for s in stations if s != targStation]"
     ],
     "language": "python",
     "metadata": {},
     "outputs": [],
     "prompt_number": 56
    },
    {
     "cell_type": "code",
     "collapsed": false,
     "input": [
      "# PCA 3-component, lag1\n",
      "argsDict['lag']=1\n",
      "argsDict['ncomp']=len(features)*[3]\n",
      "featureData, target, modelParams = Reg.pcaTaylorModel(stations, *argsListTrain, **argsDict)\n",
      "date_list, pred, target, modelPerf = Reg.pcaTaylorPredict(modelParams, *argsListTest)\n",
      "name='CYYZ_PCA03_lag_'+str(argsDict['lag'])\n",
      "PCA3_CYYZ_modelName.append(name)\n",
      "PCA3_CYYZ_param.append(modelParams)\n",
      "PCA3_CYYZ_perf.append(modelPerf)\n",
      "PCA3_CYYZ_lag.append(argsDict['lag'])"
     ],
     "language": "python",
     "metadata": {},
     "outputs": [
      {
       "output_type": "stream",
       "stream": "stdout",
       "text": [
        "R^2: 0.951340639122\n",
        "R^2_mean:\t0.944771854268"
       ]
      },
      {
       "output_type": "stream",
       "stream": "stdout",
       "text": [
        "\n",
        "R^2_base:\t0.647597829993\n",
        "RMSE:\t\t2.57063123449\n"
       ]
      }
     ],
     "prompt_number": 57
    },
    {
     "cell_type": "code",
     "collapsed": false,
     "input": [
      "# PCA 3-component, lag2\n",
      "argsDict['lag']=2\n",
      "argsDict['ncomp']=len(features)*[3]\n",
      "featureData, target, modelParams = Reg.pcaTaylorModel(stations, *argsListTrain, **argsDict)\n",
      "date_list, pred, target, modelPerf = Reg.pcaTaylorPredict(modelParams, *argsListTest)\n",
      "name='CYYZ_PCA03_lag_'+str(argsDict['lag'])\n",
      "PCA3_CYYZ_modelName.append(name)\n",
      "PCA3_CYYZ_param.append(modelParams)\n",
      "PCA3_CYYZ_perf.append(modelPerf)\n",
      "PCA3_CYYZ_lag.append(argsDict['lag'])"
     ],
     "language": "python",
     "metadata": {},
     "outputs": [
      {
       "output_type": "stream",
       "stream": "stdout",
       "text": [
        "R^2: 0.905610288886\n",
        "R^2_mean:\t0.896152549822"
       ]
      },
      {
       "output_type": "stream",
       "stream": "stdout",
       "text": [
        "\n",
        "R^2_base:\t0.605522803903\n",
        "RMSE:\t\t3.52336638216\n"
       ]
      }
     ],
     "prompt_number": 58
    },
    {
     "cell_type": "code",
     "collapsed": false,
     "input": [
      "# PCA 3-component, lag3\n",
      "argsDict['lag']=3\n",
      "argsDict['ncomp']=len(features)*[3]\n",
      "featureData, target, modelParams = Reg.pcaTaylorModel(stations, *argsListTrain, **argsDict)\n",
      "date_list, pred, target, modelPerf = Reg.pcaTaylorPredict(modelParams, *argsListTest)\n",
      "name='CYYZ_PCA03_lag_'+str(argsDict['lag'])\n",
      "PCA3_CYYZ_modelName.append(name)\n",
      "PCA3_CYYZ_param.append(modelParams)\n",
      "PCA3_CYYZ_perf.append(modelPerf)\n",
      "PCA3_CYYZ_lag.append(argsDict['lag'])"
     ],
     "language": "python",
     "metadata": {},
     "outputs": [
      {
       "output_type": "stream",
       "stream": "stdout",
       "text": [
        "R^2: 0.855024056212\n",
        "R^2_mean:\t0.833887260957"
       ]
      },
      {
       "output_type": "stream",
       "stream": "stdout",
       "text": [
        "\n",
        "R^2_base:\t0.427481297806\n",
        "RMSE:\t\t4.45479685133\n"
       ]
      }
     ],
     "prompt_number": 59
    },
    {
     "cell_type": "code",
     "collapsed": false,
     "input": [
      "# PCA 3-component, lag4\n",
      "argsDict['lag']=4\n",
      "argsDict['ncomp']=len(features)*[3]\n",
      "featureData, target, modelParams = Reg.pcaTaylorModel(stations, *argsListTrain, **argsDict)\n",
      "date_list, pred, target, modelPerf = Reg.pcaTaylorPredict(modelParams, *argsListTest)\n",
      "name='CYYZ_PCA03_lag_'+str(argsDict['lag'])\n",
      "PCA3_CYYZ_modelName.append(name)\n",
      "PCA3_CYYZ_param.append(modelParams)\n",
      "PCA3_CYYZ_perf.append(modelPerf)\n",
      "PCA3_CYYZ_lag.append(argsDict['lag'])"
     ],
     "language": "python",
     "metadata": {},
     "outputs": [
      {
       "output_type": "stream",
       "stream": "stdout",
       "text": [
        "R^2: 0.827475250598\n",
        "R^2_mean:\t0.813937153518"
       ]
      },
      {
       "output_type": "stream",
       "stream": "stdout",
       "text": [
        "\n",
        "R^2_base:\t0.389400312404\n",
        "RMSE:\t\t4.71171527343\n"
       ]
      }
     ],
     "prompt_number": 60
    },
    {
     "cell_type": "code",
     "collapsed": false,
     "input": [
      "# PCA 3-component, lag5\n",
      "argsDict['lag']=5\n",
      "argsDict['ncomp']=len(features)*[3]\n",
      "featureData, target, modelParams = Reg.pcaTaylorModel(stations, *argsListTrain, **argsDict)\n",
      "date_list, pred, target, modelPerf = Reg.pcaTaylorPredict(modelParams, *argsListTest)\n",
      "name='CYYZ_PCA03_lag_'+str(argsDict['lag'])\n",
      "PCA3_CYYZ_modelName.append(name)\n",
      "PCA3_CYYZ_param.append(modelParams)\n",
      "PCA3_CYYZ_perf.append(modelPerf)\n",
      "PCA3_CYYZ_lag.append(argsDict['lag'])"
     ],
     "language": "python",
     "metadata": {},
     "outputs": [
      {
       "output_type": "stream",
       "stream": "stdout",
       "text": [
        "R^2: 0.814914106667\n",
        "R^2_mean:\t0.796041955475"
       ]
      },
      {
       "output_type": "stream",
       "stream": "stdout",
       "text": [
        "\n",
        "R^2_base:\t0.362756038148\n",
        "RMSE:\t\t4.92902177461\n"
       ]
      }
     ],
     "prompt_number": 61
    },
    {
     "cell_type": "code",
     "collapsed": false,
     "input": [
      "# PCA 3-component, lag6\n",
      "argsDict['lag']=6\n",
      "argsDict['ncomp']=len(features)*[3]\n",
      "featureData, target, modelParams = Reg.pcaTaylorModel(stations, *argsListTrain, **argsDict)\n",
      "date_list, pred, target, modelPerf = Reg.pcaTaylorPredict(modelParams, *argsListTest)\n",
      "name='CYYZ_PCA03_lag_'+str(argsDict['lag'])\n",
      "PCA3_CYYZ_modelName.append(name)\n",
      "PCA3_CYYZ_param.append(modelParams)\n",
      "PCA3_CYYZ_perf.append(modelPerf)\n",
      "PCA3_CYYZ_lag.append(argsDict['lag'])"
     ],
     "language": "python",
     "metadata": {},
     "outputs": [
      {
       "output_type": "stream",
       "stream": "stdout",
       "text": [
        "R^2: 0.80664058382\n",
        "R^2_mean:\t0.784689551269"
       ]
      },
      {
       "output_type": "stream",
       "stream": "stdout",
       "text": [
        "\n",
        "R^2_base:\t0.356347628576\n",
        "RMSE:\t\t5.05809180833\n"
       ]
      }
     ],
     "prompt_number": 62
    },
    {
     "cell_type": "code",
     "collapsed": false,
     "input": [
      "# PCA 3-component, lag7\n",
      "argsDict['lag']=7\n",
      "argsDict['ncomp']=len(features)*[3]\n",
      "featureData, target, modelParams = Reg.pcaTaylorModel(stations, *argsListTrain, **argsDict)\n",
      "date_list, pred, target, modelPerf = Reg.pcaTaylorPredict(modelParams, *argsListTest)\n",
      "name='CYYZ_PCA03_lag_'+str(argsDict['lag'])\n",
      "PCA3_CYYZ_modelName.append(name)\n",
      "PCA3_CYYZ_param.append(modelParams)\n",
      "PCA3_CYYZ_perf.append(modelPerf)\n",
      "PCA3_CYYZ_lag.append(argsDict['lag'])"
     ],
     "language": "python",
     "metadata": {},
     "outputs": [
      {
       "output_type": "stream",
       "stream": "stdout",
       "text": [
        "R^2: 0.803890414614\n",
        "R^2_mean:\t0.772579478222"
       ]
      },
      {
       "output_type": "stream",
       "stream": "stdout",
       "text": [
        "\n",
        "R^2_base:\t0.359273326079\n",
        "RMSE:\t\t5.19077991431\n"
       ]
      }
     ],
     "prompt_number": 63
    },
    {
     "cell_type": "code",
     "collapsed": false,
     "input": [],
     "language": "python",
     "metadata": {},
     "outputs": []
    },
    {
     "cell_type": "heading",
     "level": 2,
     "metadata": {},
     "source": [
      "PCA_03 KJFK"
     ]
    },
    {
     "cell_type": "code",
     "collapsed": false,
     "input": [
      "argsDict.pop('scale',None)"
     ],
     "language": "python",
     "metadata": {},
     "outputs": [],
     "prompt_number": 64
    },
    {
     "cell_type": "code",
     "collapsed": false,
     "input": [
      "PCA3_KJFK_modelName = []\n",
      "PCA3_KJFK_param = []\n",
      "PCA3_KJFK_perf = []\n",
      "PCA3_KJFK_lag = []"
     ],
     "language": "python",
     "metadata": {},
     "outputs": [],
     "prompt_number": 65
    },
    {
     "cell_type": "code",
     "collapsed": false,
     "input": [
      "stations = Util.getStationList()\n",
      "# move target station to front\n",
      "targStation = 'KJFK'\n",
      "stations = [targStation] + [s for s in stations if s != targStation]"
     ],
     "language": "python",
     "metadata": {},
     "outputs": [],
     "prompt_number": 66
    },
    {
     "cell_type": "code",
     "collapsed": false,
     "input": [
      "# PCA 3-component, lag1\n",
      "argsDict['lag']=1\n",
      "argsDict['ncomp']=len(features)*[3]\n",
      "featureData, target, modelParams = Reg.pcaTaylorModel(stations, *argsListTrain, **argsDict)\n",
      "date_list, pred, target, modelPerf = Reg.pcaTaylorPredict(modelParams, *argsListTest)\n",
      "name='KJFK_PCA03_lag_'+str(argsDict['lag'])\n",
      "PCA3_KJFK_modelName.append(name)\n",
      "PCA3_KJFK_param.append(modelParams)\n",
      "PCA3_KJFK_perf.append(modelPerf)\n",
      "PCA3_KJFK_lag.append(argsDict['lag'])"
     ],
     "language": "python",
     "metadata": {},
     "outputs": [
      {
       "output_type": "stream",
       "stream": "stdout",
       "text": [
        "R^2: 0.934806341375\n",
        "R^2_mean:\t0.92245764577"
       ]
      },
      {
       "output_type": "stream",
       "stream": "stdout",
       "text": [
        "\n",
        "R^2_base:\t0.518882457576\n",
        "RMSE:\t\t2.56774286839\n"
       ]
      }
     ],
     "prompt_number": 67
    },
    {
     "cell_type": "code",
     "collapsed": false,
     "input": [
      "# PCA 3-component, lag2\n",
      "argsDict['lag']=2\n",
      "argsDict['ncomp']=len(features)*[3]\n",
      "featureData, target, modelParams = Reg.pcaTaylorModel(stations, *argsListTrain, **argsDict)\n",
      "date_list, pred, target, modelPerf = Reg.pcaTaylorPredict(modelParams, *argsListTest)\n",
      "name='KJFK_PCA03_lag_'+str(argsDict['lag'])\n",
      "PCA3_KJFK_modelName.append(name)\n",
      "PCA3_KJFK_param.append(modelParams)\n",
      "PCA3_KJFK_perf.append(modelPerf)\n",
      "PCA3_KJFK_lag.append(argsDict['lag'])"
     ],
     "language": "python",
     "metadata": {},
     "outputs": [
      {
       "output_type": "stream",
       "stream": "stdout",
       "text": [
        "R^2: 0.901753947119\n",
        "R^2_mean:\t0.874163742095"
       ]
      },
      {
       "output_type": "stream",
       "stream": "stdout",
       "text": [
        "\n",
        "R^2_base:\t0.535086600873\n",
        "RMSE:\t\t3.26726367841\n"
       ]
      }
     ],
     "prompt_number": 68
    },
    {
     "cell_type": "code",
     "collapsed": false,
     "input": [
      "# PCA 3-component, lag3\n",
      "argsDict['lag']=3\n",
      "argsDict['ncomp']=len(features)*[3]\n",
      "featureData, target, modelParams = Reg.pcaTaylorModel(stations, *argsListTrain, **argsDict)\n",
      "date_list, pred, target, modelPerf = Reg.pcaTaylorPredict(modelParams, *argsListTest)\n",
      "name='KJFK_PCA03_lag_'+str(argsDict['lag'])\n",
      "PCA3_KJFK_modelName.append(name)\n",
      "PCA3_KJFK_param.append(modelParams)\n",
      "PCA3_KJFK_perf.append(modelPerf)\n",
      "PCA3_KJFK_lag.append(argsDict['lag'])"
     ],
     "language": "python",
     "metadata": {},
     "outputs": [
      {
       "output_type": "stream",
       "stream": "stdout",
       "text": [
        "R^2: 0.859144557102\n",
        "R^2_mean:\t0.82790816802"
       ]
      },
      {
       "output_type": "stream",
       "stream": "stdout",
       "text": [
        "\n",
        "R^2_base:\t0.449281275462\n",
        "RMSE:\t\t3.8174115634\n"
       ]
      }
     ],
     "prompt_number": 69
    },
    {
     "cell_type": "code",
     "collapsed": false,
     "input": [
      "# PCA 3-component, lag4\n",
      "argsDict['lag']=4\n",
      "argsDict['ncomp']=len(features)*[3]\n",
      "featureData, target, modelParams = Reg.pcaTaylorModel(stations, *argsListTrain, **argsDict)\n",
      "date_list, pred, target, modelPerf = Reg.pcaTaylorPredict(modelParams, *argsListTest)\n",
      "name='KJFK_PCA03_lag_'+str(argsDict['lag'])\n",
      "PCA3_KJFK_modelName.append(name)\n",
      "PCA3_KJFK_param.append(modelParams)\n",
      "PCA3_KJFK_perf.append(modelPerf)\n",
      "PCA3_KJFK_lag.append(argsDict['lag'])"
     ],
     "language": "python",
     "metadata": {},
     "outputs": [
      {
       "output_type": "stream",
       "stream": "stdout",
       "text": [
        "R^2: 0.82794077574\n",
        "R^2_mean:\t0.810622210033"
       ]
      },
      {
       "output_type": "stream",
       "stream": "stdout",
       "text": [
        "\n",
        "R^2_base:\t0.416668888629\n",
        "RMSE:\t\t4.00186278005\n"
       ]
      }
     ],
     "prompt_number": 70
    },
    {
     "cell_type": "code",
     "collapsed": false,
     "input": [
      "# PCA 3-component, lag5\n",
      "argsDict['lag']=5\n",
      "argsDict['ncomp']=len(features)*[3]\n",
      "featureData, target, modelParams = Reg.pcaTaylorModel(stations, *argsListTrain, **argsDict)\n",
      "date_list, pred, target, modelPerf = Reg.pcaTaylorPredict(modelParams, *argsListTest)\n",
      "name='KJFK_PCA03_lag_'+str(argsDict['lag'])\n",
      "PCA3_KJFK_modelName.append(name)\n",
      "PCA3_KJFK_param.append(modelParams)\n",
      "PCA3_KJFK_perf.append(modelPerf)\n",
      "PCA3_KJFK_lag.append(argsDict['lag'])"
     ],
     "language": "python",
     "metadata": {},
     "outputs": [
      {
       "output_type": "stream",
       "stream": "stdout",
       "text": [
        "R^2: 0.811146644147\n",
        "R^2_mean:\t0.807739430805"
       ]
      },
      {
       "output_type": "stream",
       "stream": "stdout",
       "text": [
        "\n",
        "R^2_base:\t0.346635714458\n",
        "RMSE:\t\t4.02630481485\n"
       ]
      }
     ],
     "prompt_number": 71
    },
    {
     "cell_type": "code",
     "collapsed": false,
     "input": [
      "# PCA 3-component, lag6\n",
      "argsDict['lag']=6\n",
      "argsDict['ncomp']=len(features)*[3]\n",
      "featureData, target, modelParams = Reg.pcaTaylorModel(stations, *argsListTrain, **argsDict)\n",
      "date_list, pred, target, modelPerf = Reg.pcaTaylorPredict(modelParams, *argsListTest)\n",
      "name='KJFK_PCA03_lag_'+str(argsDict['lag'])\n",
      "PCA3_KJFK_modelName.append(name)\n",
      "PCA3_KJFK_param.append(modelParams)\n",
      "PCA3_KJFK_perf.append(modelPerf)\n",
      "PCA3_KJFK_lag.append(argsDict['lag'])"
     ],
     "language": "python",
     "metadata": {},
     "outputs": [
      {
       "output_type": "stream",
       "stream": "stdout",
       "text": [
        "R^2: 0.80671165604\n",
        "R^2_mean:\t0.797561263061"
       ]
      },
      {
       "output_type": "stream",
       "stream": "stdout",
       "text": [
        "\n",
        "R^2_base:\t0.287764205674\n",
        "RMSE:\t\t4.12657167226\n"
       ]
      }
     ],
     "prompt_number": 72
    },
    {
     "cell_type": "code",
     "collapsed": false,
     "input": [
      "# PCA 3-component, lag7\n",
      "argsDict['lag']=7\n",
      "argsDict['ncomp']=len(features)*[3]\n",
      "featureData, target, modelParams = Reg.pcaTaylorModel(stations, *argsListTrain, **argsDict)\n",
      "date_list, pred, target, modelPerf = Reg.pcaTaylorPredict(modelParams, *argsListTest)\n",
      "name='KJFK_PCA03_lag_'+str(argsDict['lag'])\n",
      "PCA3_KJFK_modelName.append(name)\n",
      "PCA3_KJFK_param.append(modelParams)\n",
      "PCA3_KJFK_perf.append(modelPerf)\n",
      "PCA3_KJFK_lag.append(argsDict['lag'])"
     ],
     "language": "python",
     "metadata": {},
     "outputs": [
      {
       "output_type": "stream",
       "stream": "stdout",
       "text": [
        "R^2: 0.803890518452\n",
        "R^2_mean:\t0.783022514469"
       ]
      },
      {
       "output_type": "stream",
       "stream": "stdout",
       "text": [
        "\n",
        "R^2_base:\t0.311724157887\n",
        "RMSE:\t\t4.26451016835\n"
       ]
      }
     ],
     "prompt_number": 73
    },
    {
     "cell_type": "heading",
     "level": 1,
     "metadata": {},
     "source": [
      "VISUALIZE"
     ]
    },
    {
     "cell_type": "code",
     "collapsed": false,
     "input": [
      "import numpy as np\n",
      "rmse_base = np.sqrt(mean((np.array(target[:-1])-np.array(target[1:]))**2))\n",
      "\n",
      "one_city_CYYZ_rmse = [r['RMSE'] for r in one_city_CYYZ_perf]\n",
      "one_city_CYYZ_rsq = [r['R2_base'] for r in one_city_CYYZ_perf]\n",
      "\n",
      "one_city_KJFK_rmse = [r['RMSE'] for r in one_city_KJFK_perf]\n",
      "one_city_KJFK_rsq = [r['R2_base'] for r in one_city_KJFK_perf]\n",
      "\n",
      "PCA3_CYYZ_rmse = [r['RMSE'] for r in PCA3_CYYZ_perf]\n",
      "PCA3_CYYZ_rsq = [r['R2_base'] for r in PCA3_CYYZ_perf]\n",
      "\n",
      "PCA3_KJFK_rmse = [r['RMSE'] for r in PCA3_KJFK_perf]\n",
      "PCA3_KJFK_rsq = [r['R2_base'] for r in PCA3_KJFK_perf]"
     ],
     "language": "python",
     "metadata": {},
     "outputs": [],
     "prompt_number": 74
    },
    {
     "cell_type": "code",
     "collapsed": false,
     "input": [
      "import matplotlib.pyplot as plt\n",
      "fig = plt.figure(figsize=(12.0,5.0))\n",
      "\n",
      "#################################### RMSE\n",
      "\n",
      "ax = plt.subplot(121)\n",
      "p1_cyyz=plt.plot(one_city_CYYZ_lag,one_city_CYYZ_rmse,color='blue',linewidth=2)\n",
      "p1_kjfk=plt.plot(one_city_KJFK_lag,one_city_KJFK_rmse,color='red',linewidth=2)\n",
      "pPCA_cyyz=plt.plot(PCA3_CYYZ_lag,PCA3_CYYZ_rmse,color='blue',linewidth=2,linestyle='--')\n",
      "pPCA_kjfk=plt.plot(PCA3_KJFK_lag,PCA3_KJFK_rmse,color='red',linewidth=2,linestyle='--')\n",
      "\n",
      "#bl = plt.plot([5,2000],[rmse_base,rmse_base],color='gray',linewidth=4,linestyle='--')\n",
      "\n",
      "ax.legend(['CYYZ (one city)','KJFK (one city)','CYYZ (PCA3)','KJFK (PCA3)'], \\\n",
      "          loc='lower right', fontsize=12)\n",
      "\n",
      "plt.scatter(one_city_CYYZ_lag,one_city_CYYZ_rmse,color='blue',marker='o',s=30)\n",
      "plt.scatter(one_city_KJFK_lag,one_city_KJFK_rmse,color='red',marker='o',s=30)\n",
      "plt.scatter(PCA3_CYYZ_lag,PCA3_CYYZ_rmse,color='blue',marker='o',s=30)\n",
      "plt.scatter(PCA3_KJFK_lag,PCA3_KJFK_rmse,color='red',marker='o',s=30)\n",
      "\n",
      "#ax.set_yscale('log')\n",
      "\n",
      "ax.set_xlabel('prediction lag (days)',size=12)\n",
      "ax.set_xticklabels(ax.get_xticks(), fontsize=12)\n",
      "\n",
      "ax.set_ylabel('RMSE',size=12)\n",
      "ax.set_yticklabels(ax.get_yticks(), fontsize=12)\n",
      "\n",
      "ax.set_title('Accuracy v. Prediction Lag',size=14)\n",
      "\n",
      "ax.grid(True,which='major')\n",
      "#ax.grid(True,which='minor')\n",
      "\n",
      "#################################### R2\n",
      "ax = plt.subplot(122)\n",
      "\n",
      "p1_cyyz=plt.plot(one_city_CYYZ_lag,one_city_CYYZ_rsq,color='blue',linewidth=2)\n",
      "p1_kjfk=plt.plot(one_city_KJFK_lag,one_city_KJFK_rsq,color='red',linewidth=2)\n",
      "pPCA_cyyz=plt.plot(PCA3_CYYZ_lag,PCA3_CYYZ_rsq,color='blue',linewidth=2,linestyle='--')\n",
      "pPCA_kjfk=plt.plot(PCA3_KJFK_lag,PCA3_KJFK_rsq,color='red',linewidth=2,linestyle='--')\n",
      "\n",
      "#bl = plt.plot([5,2000],[rmse_base,rmse_base],color='gray',linewidth=4,linestyle='--')\n",
      "\n",
      "ax.legend(['CYYZ (one city)','KJFK (one city)','CYYZ (PCA3)','KJFK (PCA3)'], \\\n",
      "          loc='upper right', fontsize=12)\n",
      "\n",
      "plt.scatter(one_city_CYYZ_lag,one_city_CYYZ_rsq,color='blue',marker='o',s=30)\n",
      "plt.scatter(one_city_KJFK_lag,one_city_KJFK_rsq,color='red',marker='o',s=30)\n",
      "plt.scatter(PCA3_CYYZ_lag,PCA3_CYYZ_rsq,color='blue',marker='o',s=30)\n",
      "plt.scatter(PCA3_KJFK_lag,PCA3_KJFK_rsq,color='red',marker='o',s=30)\n",
      "\n",
      "ax.set_xlabel('prediction lag (days)',size=12)\n",
      "ax.set_xticklabels(ax.get_xticks(), fontsize=12)\n",
      "\n",
      "ax.set_ylabel('Rsq_base',size=12)\n",
      "ax.set_yticklabels(ax.get_yticks(), fontsize=12)\n",
      "\n",
      "ax.set_title('Accuracy v. Prediction Lag',size=14)\n",
      "\n",
      "ax.grid(True,which='major')\n",
      "#ax.grid(True,which='minor')\n",
      "\n",
      "plt.show()"
     ],
     "language": "python",
     "metadata": {},
     "outputs": [
      {
       "metadata": {},
       "output_type": "display_data",
       "png": "[encoded data removed]",
       "text": [
        "<matplotlib.figure.Figure at 0x10c956b0>"
       ]
      }
     ],
     "prompt_number": 101
    },
    {
     "cell_type": "code",
     "collapsed": false,
     "input": [],
     "language": "python",
     "metadata": {},
     "outputs": []
    }
   ],
   "metadata": {}
  }
 ]
}