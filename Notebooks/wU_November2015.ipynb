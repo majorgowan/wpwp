{
 "metadata": {
  "name": "",
  "signature": "sha256:88c524b4d0dfd2a756dd832a02223e8b16221ab3443684a4b18294763e814053"
 },
 "nbformat": 3,
 "nbformat_minor": 0,
 "worksheets": [
  {
   "cells": [
    {
     "cell_type": "code",
     "collapsed": false,
     "input": [
      "cd I:/wpwp/Python"
     ],
     "language": "python",
     "metadata": {},
     "outputs": [
      {
       "output_type": "stream",
       "stream": "stdout",
       "text": [
        "I:\\wpwp\\Python\n"
       ]
      }
     ],
     "prompt_number": 1
    },
    {
     "cell_type": "code",
     "collapsed": false,
     "input": [
      "cd D:/mfruman/Documents/wpwp/Python"
     ],
     "language": "python",
     "metadata": {},
     "outputs": [
      {
       "output_type": "stream",
       "stream": "stdout",
       "text": [
        "D:\\mfruman\\Documents\\wpwp\\Python\n"
       ]
      }
     ],
     "prompt_number": 1
    },
    {
     "cell_type": "code",
     "collapsed": false,
     "input": [
      "pylab.rcParams['figure.figsize'] = (6.0, 4.0)"
     ],
     "language": "python",
     "metadata": {},
     "outputs": [],
     "prompt_number": 95
    },
    {
     "cell_type": "code",
     "collapsed": false,
     "input": [
      "import wUUtils as Util\n",
      "import wURegression as Reg"
     ],
     "language": "python",
     "metadata": {},
     "outputs": [],
     "prompt_number": 3
    },
    {
     "cell_type": "heading",
     "level": 2,
     "metadata": {},
     "source": [
      "Predictions for CYYZ, KDTW and CYUL from wunderground.com"
     ]
    },
    {
     "cell_type": "code",
     "collapsed": false,
     "input": [
      "# read text file with wunderground predictions\n",
      "import numpy as np\n",
      "import datetime\n",
      "\n",
      "date = []\n",
      "cyul = []\n",
      "cyyz = []\n",
      "kdtw = []\n",
      "\n",
      "with open('../Forecasts/Forecasts.txt','r') as infile:\n",
      "    infile.readline()\n",
      "    for nline in infile:\n",
      "        val = nline.split(', ')\n",
      "        date.append(val[0])\n",
      "        val = [val[0]] + [float(v) for v in val[1:]]\n",
      "        cyul.append(val[1:7])\n",
      "        cyyz.append(val[7:13])\n",
      "        kdtw.append(val[13:19])\n",
      "\n",
      "cyul = np.array(cyul).T.tolist()\n",
      "cyyz = np.array(cyyz).T.tolist()\n",
      "kdtw = np.array(kdtw).T.tolist()\n",
      "\n",
      "date = [datetime.datetime.strptime(d,'%Y-%m-%d') for d in date]"
     ],
     "language": "python",
     "metadata": {},
     "outputs": [],
     "prompt_number": 165
    },
    {
     "cell_type": "code",
     "collapsed": false,
     "input": [
      "# get actual temperatures\n",
      "date_list = Util.dateList('2015-11-10','2015-11-23')\n",
      "\n",
      "cyul_Tmax = Util.loadDailyVariableRange('CYUL','2015-11-10','2015-11-23','TempMax',castFloat=True)\n",
      "cyyz_Tmax = Util.loadDailyVariableRange('CYYZ','2015-11-10','2015-11-23','TempMax',castFloat=True)\n",
      "kdtw_Tmax = Util.loadDailyVariableRange('KDTW','2015-11-10','2015-11-23','TempMax',castFloat=True)\n",
      "\n",
      "cyul_Tmin = Util.loadDailyVariableRange('CYUL','2015-11-10','2015-11-23','TempMin',castFloat=True)\n",
      "cyyz_Tmin = Util.loadDailyVariableRange('CYYZ','2015-11-10','2015-11-23','TempMin',castFloat=True)\n",
      "kdtw_Tmin = Util.loadDailyVariableRange('KDTW','2015-11-10','2015-11-23','TempMin',castFloat=True)"
     ],
     "language": "python",
     "metadata": {},
     "outputs": [],
     "prompt_number": 166
    },
    {
     "cell_type": "heading",
     "level": 3,
     "metadata": {},
     "source": [
      "Error in wunderground.com forecast"
     ]
    },
    {
     "cell_type": "code",
     "collapsed": false,
     "input": [
      "err = np.array(cyyz[1][:-1]) - cyyz_Tmax[1:]\n",
      "print('CYYZ Tmax NEXT DAY: %.2f' % np.sqrt(mean(err**2)))\n",
      "err = np.array(cyyz[3][:-2]) - cyyz_Tmax[2:]\n",
      "print('CYYZ Tmax IN 2 DAYS: %.2f' % np.sqrt(mean(err**2)))\n",
      "err = np.array(cyyz[5][:-3]) - cyyz_Tmax[3:]\n",
      "print('CYYZ Tmax IN 3 DAYS: %.2f\\n' % np.sqrt(mean(err**2)))\n",
      "\n",
      "err = np.array(cyyz[0][:-1]) - cyyz_Tmin[1:]\n",
      "print('CYYZ Tmin NEXT DAY: %.2f' % np.sqrt(mean(err**2)))\n",
      "err = np.array(cyyz[2][:-2]) - cyyz_Tmin[2:]\n",
      "print('CYYZ Tmin IN 2 DAYS: %.2f' % np.sqrt(mean(err**2)))\n",
      "err = np.array(cyyz[4][:-3]) - cyyz_Tmin[3:]\n",
      "print('CYYZ Tmin IN 3 DAYS: %.2f\\n\\n' % np.sqrt(mean(err**2)))\n",
      "\n",
      "err = np.array(cyul[1][:-1]) - cyul_Tmax[1:]\n",
      "print('CYUL Tmax NEXT DAY: %.2f' % np.sqrt(mean(err**2)))\n",
      "err = np.array(cyul[3][:-2]) - cyul_Tmax[2:]\n",
      "print('CYUL Tmax IN 2 DAYS: %.2f' % np.sqrt(mean(err**2)))\n",
      "err = np.array(cyul[5][:-3]) - cyul_Tmax[3:]\n",
      "print('CYUL Tmax IN 3 DAYS: %.2f\\n' % np.sqrt(mean(err**2)))\n",
      "\n",
      "err = np.array(cyul[0][:-1]) - cyul_Tmin[1:]\n",
      "print('CYUL Tmin NEXT DAY: %.2f' % np.sqrt(mean(err**2)))\n",
      "err = np.array(cyul[2][:-2]) - cyul_Tmin[2:]\n",
      "print('CYUL Tmin IN 2 DAYS: %.2f' % np.sqrt(mean(err**2)))\n",
      "err = np.array(cyul[4][:-3]) - cyul_Tmin[3:]\n",
      "print('CYUL Tmin IN 3 DAYS: %.2f\\n\\n' % np.sqrt(mean(err**2)))\n",
      "\n",
      "err = np.array(kdtw[1][:-1]) - kdtw_Tmax[1:]\n",
      "print('KDTW Tmax NEXT DAY: %.2f' % np.sqrt(mean(err**2)))\n",
      "err = np.array(kdtw[3][:-2]) - kdtw_Tmax[2:]\n",
      "print('KDTW Tmax IN 2 DAYS: %.2f' % np.sqrt(mean(err**2)))\n",
      "err = np.array(kdtw[5][:-3]) - kdtw_Tmax[3:]\n",
      "print('KDTW Tmax IN 3 DAYS: %.2f\\n' % np.sqrt(mean(err**2)))\n",
      "\n",
      "err = np.array(kdtw[0][:-1]) - kdtw_Tmin[1:]\n",
      "print('KDTW Tmin NEXT DAY: %.2f' % np.sqrt(mean(err**2)))\n",
      "err = np.array(kdtw[2][:-2]) - kdtw_Tmin[2:]\n",
      "print('KDTW Tmin IN 2 DAYS: %.2f' % np.sqrt(mean(err**2)))\n",
      "err = np.array(kdtw[4][:-3]) - kdtw_Tmin[3:]\n",
      "print('KDTW Tmin IN 3 DAYS: %.2f\\n\\n' % np.sqrt(mean(err**2)))"
     ],
     "language": "python",
     "metadata": {},
     "outputs": [
      {
       "output_type": "stream",
       "stream": "stdout",
       "text": [
        "CYYZ Tmax NEXT DAY: 1.80\n",
        "CYYZ Tmax IN 2 DAYS: 1.68\n",
        "CYYZ Tmax IN 3 DAYS: 1.45\n",
        "\n",
        "CYYZ Tmin NEXT DAY: 2.65\n",
        "CYYZ Tmin IN 2 DAYS: 2.61\n",
        "CYYZ Tmin IN 3 DAYS: 2.95\n",
        "\n",
        "\n",
        "CYUL Tmax NEXT DAY: 3.16\n",
        "CYUL Tmax IN 2 DAYS: 3.43\n",
        "CYUL Tmax IN 3 DAYS: 3.72\n",
        "\n",
        "CYUL Tmin NEXT DAY: 6.11\n",
        "CYUL Tmin IN 2 DAYS: 6.30\n",
        "CYUL Tmin IN 3 DAYS: 6.47\n",
        "\n",
        "\n",
        "KDTW Tmax NEXT DAY: 3.81\n",
        "KDTW Tmax IN 2 DAYS: 4.12\n",
        "KDTW Tmax IN 3 DAYS: 3.66\n",
        "\n",
        "KDTW Tmin NEXT DAY: 2.24\n",
        "KDTW Tmin IN 2 DAYS: 2.37\n",
        "KDTW Tmin IN 3 DAYS: 2.31\n",
        "\n",
        "\n"
       ]
      }
     ],
     "prompt_number": 172
    },
    {
     "cell_type": "code",
     "collapsed": false,
     "input": [],
     "language": "python",
     "metadata": {},
     "outputs": []
    },
    {
     "cell_type": "code",
     "collapsed": false,
     "input": [],
     "language": "python",
     "metadata": {},
     "outputs": []
    },
    {
     "cell_type": "code",
     "collapsed": false,
     "input": [
      "import matplotlib.pyplot as plt\n",
      "\n",
      "fig = plt.figure()\n",
      "\n",
      "plt.plot(date[3:],cyul[4][:-3],'b')\n",
      "plt.plot(date[2:],cyul[2][:-2],'r')\n",
      "plt.plot(date[1:],cyul[0][:-1],'g')\n",
      "\n",
      "plt.plot(date[3:],cyul[5][:-3],'b--')\n",
      "plt.plot(date[2:],cyul[3][:-2],'r--')\n",
      "plt.plot(date[1:],cyul[1][:-1],'g--')\n",
      "\n",
      "plt.scatter(date_list,cyul_Tmin,color='plum',alpha=0.8,s=70)\n",
      "plt.scatter(date_list,cyul_Tmax,color='steelblue',alpha=0.8,s=70)\n",
      "\n",
      "plt.legend(['3-day','2-day','1-day'])\n",
      "fig.autofmt_xdate()\n",
      "plt.show()"
     ],
     "language": "python",
     "metadata": {},
     "outputs": [
      {
       "metadata": {},
       "output_type": "display_data",
       "png": "[encoded data removed]",
       "text": [
        "<matplotlib.figure.Figure at 0x110de030>"
       ]
      }
     ],
     "prompt_number": 100
    },
    {
     "cell_type": "code",
     "collapsed": false,
     "input": [
      "import matplotlib.pyplot as plt\n",
      "\n",
      "fig = plt.figure()\n",
      "\n",
      "plt.plot(date[3:],cyyz[4][:-3],'b')\n",
      "plt.plot(date[2:],cyyz[2][:-2],'r')\n",
      "plt.plot(date[1:],cyyz[0][:-1],'g')\n",
      "\n",
      "plt.plot(date[3:],cyyz[5][:-3],'b--')\n",
      "plt.plot(date[2:],cyyz[3][:-2],'r--')\n",
      "plt.plot(date[1:],cyyz[1][:-1],'g--')\n",
      "\n",
      "plt.scatter(date_list,cyyz_Tmin,color='plum',alpha=0.8,s=70)\n",
      "plt.scatter(date_list,cyyz_Tmax,color='steelblue',alpha=0.8,s=70)\n",
      "\n",
      "plt.legend(['3-day','2-day','1-day'])\n",
      "\n",
      "fig.autofmt_xdate()\n",
      "plt.show()"
     ],
     "language": "python",
     "metadata": {},
     "outputs": [
      {
       "metadata": {},
       "output_type": "display_data",
       "png": "[encoded data removed]",
       "text": [
        "<matplotlib.figure.Figure at 0x112255d0>"
       ]
      }
     ],
     "prompt_number": 101
    },
    {
     "cell_type": "code",
     "collapsed": false,
     "input": [
      "err = np.array(cyyz[1][:-1]) - cyyz_Tmax[1:]\n",
      "print(err)\n",
      "print(np.sqrt(mean(err**2)))"
     ],
     "language": "python",
     "metadata": {},
     "outputs": [
      {
       "output_type": "stream",
       "stream": "stdout",
       "text": [
        "[-1. -1. -1.  1. -2. -3.  1. -1. -3.  1. -2. -3.  0.]\n",
        "1.79743406855\n"
       ]
      }
     ],
     "prompt_number": 83
    },
    {
     "cell_type": "code",
     "collapsed": false,
     "input": [
      "err = np.array(cyyz[0][:-1]) - cyyz_Tmin[1:]\n",
      "print(err)\n",
      "print(np.sqrt(mean(err**2)))"
     ],
     "language": "python",
     "metadata": {},
     "outputs": [
      {
       "output_type": "stream",
       "stream": "stdout",
       "text": [
        "[-1. -1. -2.  1.  1.  0.  5.  4. -4. -3. -1.  0.  4.]\n",
        "2.64575131106\n"
       ]
      }
     ],
     "prompt_number": 80
    },
    {
     "cell_type": "code",
     "collapsed": false,
     "input": [
      "yul = np.array([float(c) for c in cyul[1][:-1]])\n",
      "yul - cyul_Tmax[1:]"
     ],
     "language": "python",
     "metadata": {},
     "outputs": [
      {
       "metadata": {},
       "output_type": "pyout",
       "prompt_number": 15,
       "text": [
        "array([ 1., -1., -1.,  3.,  6.,  2.,  4.,  4.,  0., -4., -1., -5.,  2.])"
       ]
      }
     ],
     "prompt_number": 15
    },
    {
     "cell_type": "code",
     "collapsed": false,
     "input": [
      "np.sqrt(mean((yul - cyul_Tmax[1:])**2))"
     ],
     "language": "python",
     "metadata": {},
     "outputs": [
      {
       "metadata": {},
       "output_type": "pyout",
       "prompt_number": 16,
       "text": [
        "3.1622776601683795"
       ]
      }
     ],
     "prompt_number": 16
    },
    {
     "cell_type": "code",
     "collapsed": false,
     "input": [
      "reload(ClustReg)"
     ],
     "language": "python",
     "metadata": {},
     "outputs": [
      {
       "metadata": {},
       "output_type": "pyout",
       "prompt_number": 34,
       "text": [
        "<module 'wUClusterRegression' from 'wUClusterRegression.py'>"
       ]
      }
     ],
     "prompt_number": 34
    },
    {
     "cell_type": "heading",
     "level": 3,
     "metadata": {},
     "source": [
      "Predict with a PCA model with clustering"
     ]
    },
    {
     "cell_type": "code",
     "collapsed": false,
     "input": [
      "# PCA models\n",
      "# using data from multiple cities on multiple days\n",
      "import wUClusterRegression as ClustReg\n",
      "reload(ClustReg)\n",
      "\n",
      "# get list of all available stations\n",
      "import wUUtils as Util\n",
      "stations = Util.getStationList()\n",
      "# move target station to front\n",
      "targStation = 'CYYZ'\n",
      "stations = [targStation] + [s for s in stations if s != targStation]\n",
      "features = ['TempMax','dailyTempRange','PressMax','dailyPressRange',\\\n",
      "            'HumidityMean','isSoutherly','isWesterly','isFoggy']\n",
      "clusterVars=[('TempMax',2),('PressMax',2)]\n",
      "ncomp=[3, 3, 3, 3, 3, 3, 3, 3]\n",
      "nclusters=4\n",
      "# build lag1 model\n",
      "featureData, target, modelParams = ClustReg.pcaClusterModel(stations,'2005-01-01','2010-12-31',\\\n",
      "                                                            features, clusterVars=clusterVars, nclusters=nclusters, ncomp=ncomp, \\\n",
      "                                                            targetVar='TempMax',lag=1,order=0,verbose=False)\n",
      "date_list, pred1, target, \\\n",
      "     pred_featureData, pred_classes, modelPerf = ClustReg.pcaClusterPredict(modelParams,'2015-11-10','2015-11-23',actual=True)"
     ],
     "language": "python",
     "metadata": {},
     "outputs": [
      {
       "output_type": "stream",
       "stream": "stdout",
       "text": [
        "columns for clustering: [2, 8]\n",
        "Cluster 0, nrows 626, R^2 0.947033"
       ]
      },
      {
       "output_type": "stream",
       "stream": "stdout",
       "text": [
        "\n",
        "Cluster 1, nrows 356, R^2 0.923212\n",
        "Cluster 2, nrows 584, R^2 0.963160\n",
        "Cluster 3, nrows 624, R^2 0.951205\n",
        "Cluster 0, 4 rows:"
       ]
      },
      {
       "output_type": "stream",
       "stream": "stdout",
       "text": [
        "\n",
        "  R^2_mean:\t0.705644928252\n",
        "  RMSE:\t\t2.07926432093\n",
        "Cluster 1, 0 rows:\n",
        "Cluster 2, 8 rows:\n",
        "  R^2_mean:\t0.540524124363\n",
        "  RMSE:\t\t3.04559833849\n",
        "Cluster 3, 1 rows:\n",
        "  R^2_mean:\t0.0\n",
        "  RMSE:\t\t0.765540797631\n",
        "\n",
        "Overall performance:\n",
        "  RMSE:\t2.66147395677\n"
       ]
      }
     ],
     "prompt_number": 156
    },
    {
     "cell_type": "code",
     "collapsed": false,
     "input": [
      "# visualize clusters\n",
      "nclusters = 4\n",
      "clusterColumns = [2,8]\n",
      "train_data0 = featureData[clusterColumns[0]]\n",
      "train_data1 = featureData[clusterColumns[1]]\n",
      "test_data0 = pred_featureData[clusterColumns[0]]\n",
      "test_data1 = pred_featureData[clusterColumns[1]]\n",
      "\n",
      "train_classes = modelParams['classes']\n",
      "\n",
      "colors = ['blue','red','green','steelblue','salmon','honeydew']\n",
      "\n",
      "fig = plt.figure(figsize=(8.0,5.0))\n",
      "ax = fig.add_subplot(1,1,1)\n",
      "plt.plot([0,0],[-6,6],color='gray',linestyle='--',linewidth=1)\n",
      "plt.plot([-3,3],[0,0],color='gray',linestyle='--',linewidth=1)\n",
      "ax.set_xlim([-3,3])\n",
      "ax.set_ylim([-6,6])\n",
      "legs=[]\n",
      "scatPlots = []\n",
      "trainPlots = []\n",
      "for icl in range(nclusters):\n",
      "     cl0 = [t for i,t in enumerate(train_data0) if train_classes[i]==icl]\n",
      "     cl1 = [t for i,t in enumerate(train_data1) if train_classes[i]==icl]\n",
      "     trainPlots.append(ax.scatter(cl0,cl1,color=colors[icl],alpha=0.2,s=10,marker='D'))\n",
      "\n",
      "     cl0 = [t for i,t in enumerate(test_data0) if pred_classes[i]==icl]\n",
      "     cl1 = [t for i,t in enumerate(test_data1) if pred_classes[i]==icl]\n",
      "     scatPlots.append(ax.scatter(cl0,cl1,color=colors[icl],alpha=1,edgecolor='peru',linewidth=2,marker='o',s=100))\n",
      "     \n",
      "     if modelPerf['RMSE'][icl] is not None:\n",
      "          legs.append('cl%d: RMSE=%.2f' % (icl,modelPerf['RMSE'][icl]))\n",
      "     else:\n",
      "          legs.append('cl%d:' % (icl))\n",
      "\n",
      "plt.legend(scatPlots,legs,fontsize=10)\n",
      "\n",
      "ax.grid(True)\n",
      "ax.set_title('k-Means clusters',size=16)\n",
      "ax.set_xlabel('Temperature PC2',size=12)\n",
      "ax.set_ylabel('Pressure PC2',size=12)\n",
      "plt.show()"
     ],
     "language": "python",
     "metadata": {},
     "outputs": [
      {
       "metadata": {},
       "output_type": "display_data",
       "png": "[encoded data removed]",
       "text": [
        "<matplotlib.figure.Figure at 0x10d58610>"
       ]
      }
     ],
     "prompt_number": 157
    },
    {
     "cell_type": "code",
     "collapsed": false,
     "input": [
      "# build lag2 model\n",
      "featureData, target, modelParams = ClustReg.pcaClusterModel(stations,'2005-01-01','2010-12-31',\\\n",
      "                                                            features, clusterVars=clusterVars, nclusters=nclusters, ncomp=ncomp, \\\n",
      "                                                            targetVar='TempMax',lag=2,order=0,verbose=False)\n",
      "date_list2, pred2, target2, \\\n",
      "     pred_featureData, pred_classes2, modelPerf = ClustReg.pcaClusterPredict(modelParams,'2015-11-10','2015-11-23',actual=True)"
     ],
     "language": "python",
     "metadata": {},
     "outputs": [
      {
       "output_type": "stream",
       "stream": "stdout",
       "text": [
        "columns for clustering: [2, 8]\n",
        "Cluster 0, nrows 585, R^2 0.911191"
       ]
      },
      {
       "output_type": "stream",
       "stream": "stdout",
       "text": [
        "\n",
        "Cluster 1, nrows 624, R^2 0.899755\n",
        "Cluster 2, nrows 625, R^2 0.909332\n",
        "Cluster 3, nrows 355, R^2 0.874574\n",
        "Cluster 0, 7 rows:"
       ]
      },
      {
       "output_type": "stream",
       "stream": "stdout",
       "text": [
        "\n",
        "  R^2_mean:\t-0.554463103807\n",
        "  RMSE:\t\t4.61030407504\n",
        "Cluster 1, 4 rows:\n",
        "  R^2_mean:\t0.82183181972\n",
        "  RMSE:\t\t2.21350964708\n",
        "Cluster 2, 1 rows:\n",
        "  R^2_mean:\t0.0\n",
        "  RMSE:\t\t0.1724110135\n",
        "Cluster 3, 0 rows:\n",
        "\n",
        "Overall performance:\n",
        "  RMSE:\t3.74624869079\n"
       ]
      }
     ],
     "prompt_number": 152
    },
    {
     "cell_type": "code",
     "collapsed": false,
     "input": [
      "# build lag3 model\n",
      "featureData, target3, modelParams = ClustReg.pcaClusterModel(stations,'2005-01-01','2010-12-31',\\\n",
      "                                                            features, clusterVars=clusterVars, nclusters=nclusters, ncomp=ncomp, \\\n",
      "                                                            targetVar='TempMax',lag=3,order=0,verbose=False)\n",
      "date_list3, pred3, target3, \\\n",
      "     pred_featureData, pred_classes3, modelPerf = ClustReg.pcaClusterPredict(modelParams,'2015-11-10','2015-11-23',actual=True)"
     ],
     "language": "python",
     "metadata": {},
     "outputs": [
      {
       "output_type": "stream",
       "stream": "stdout",
       "text": [
        "columns for clustering: [2, 8]\n",
        "Cluster 0, nrows 580, R^2 0.840499"
       ]
      },
      {
       "output_type": "stream",
       "stream": "stdout",
       "text": [
        "\n",
        "Cluster 1, nrows 625, R^2 0.855864\n",
        "Cluster 2, nrows 363, R^2 0.821968\n",
        "Cluster 3, nrows 620, R^2 0.868039\n",
        "Cluster 0, 7 rows:"
       ]
      },
      {
       "output_type": "stream",
       "stream": "stdout",
       "text": [
        "\n",
        "  R^2_mean:\t0.114729907254\n",
        "  RMSE:\t\t3.90953439073\n",
        "Cluster 1, 3 rows:\n",
        "  R^2_mean:\t-8.2518971502\n",
        "  RMSE:\t\t5.73547158583\n",
        "Cluster 2, 0 rows:\n",
        "Cluster 3, 1 rows:\n",
        "  R^2_mean:\t0.0\n",
        "  RMSE:\t\t2.69354952281\n",
        "\n",
        "Overall performance:\n",
        "  RMSE:\t4.39972443386\n"
       ]
      }
     ],
     "prompt_number": 153
    },
    {
     "cell_type": "code",
     "collapsed": false,
     "input": [
      "import matplotlib.pyplot as plt\n",
      "\n",
      "fig = plt.figure(figsize=(8.0,5.5))\n",
      "\n",
      "ax = plt.subplot(111)\n",
      "plt.plot(date[1:],cyyz[1][:-1],color='gray',linewidth=3,linestyle='-')\n",
      "plt.plot(date[2:],cyyz[3][:-2],color='gray',linewidth=3,linestyle='--')\n",
      "plt.plot(date[3:],cyyz[5][:-3],color='gray',linewidth=3,linestyle=':')\n",
      "\n",
      "plt.plot(date_list, pred1,color='red',linewidth=3,linestyle='-')\n",
      "plt.plot(date_list2, pred2, color='red',linewidth=3,linestyle='--')\n",
      "plt.plot(date_list3, pred3, color='red',linewidth=3,linestyle=':')\n",
      "\n",
      "colors = ['blue','red','green','steelblue','salmon','honeydew']\n",
      "for icl in range(nclusters):\n",
      "     dl = [t for i,t in enumerate(date_list) if pred_classes[i]==icl]\n",
      "     cl = [t for i,t in enumerate(target) if pred_classes[i]==icl]\n",
      "     plt.scatter(dl, cl, color=colors[icl],alpha=1,marker='s',s=80,edgecolor='black')\n",
      "\n",
      "plt.legend(['WU 1-day','WU 2-day','WU 3-day','Reg 1-day','Reg 2-day','Reg 3-day'],\\\n",
      "           fontsize=10)\n",
      "ax.grid()\n",
      "ax.set_ylabel('Max Temp (C) at CYYZ',size=12)\n",
      "ax.set_ylim([-2,22])\n",
      "ax.set_title('Comparison with Wunderground forecast',size=14)\n",
      "fig.autofmt_xdate()\n",
      "plt.show()"
     ],
     "language": "python",
     "metadata": {},
     "outputs": [
      {
       "metadata": {},
       "output_type": "display_data",
       "png": "[encoded data removed]",
       "text": [
        "<matplotlib.figure.Figure at 0x104eb830>"
       ]
      }
     ],
     "prompt_number": 164
    },
    {
     "cell_type": "code",
     "collapsed": false,
     "input": [],
     "language": "python",
     "metadata": {},
     "outputs": []
    },
    {
     "cell_type": "code",
     "collapsed": false,
     "input": [],
     "language": "python",
     "metadata": {},
     "outputs": []
    },
    {
     "cell_type": "code",
     "collapsed": false,
     "input": [],
     "language": "python",
     "metadata": {},
     "outputs": []
    },
    {
     "cell_type": "code",
     "collapsed": false,
     "input": [],
     "language": "python",
     "metadata": {},
     "outputs": []
    },
    {
     "cell_type": "code",
     "collapsed": false,
     "input": [],
     "language": "python",
     "metadata": {},
     "outputs": []
    },
    {
     "cell_type": "heading",
     "level": 2,
     "metadata": {},
     "source": [
      "Toronto, Montreal and Detroit"
     ]
    },
    {
     "cell_type": "code",
     "collapsed": false,
     "input": [
      "# PCA models\n",
      "# using data from multiple cities on multiple days\n",
      "import wUClusterRegression as ClustReg\n",
      "reload(ClustReg)\n",
      "\n",
      "# get list of all available stations\n",
      "import wUUtils as Util\n",
      "stations = Util.getStationList()\n",
      "features = ['TempMax','TempMin','dailyTempRange','PressMax','dailyPressRange',\\\n",
      "            'HumidityMean','isSoutherly','isWesterly','isFoggy']\n",
      "clusterVars=[('TempMax',2),('PressMax',2)]\n",
      "ncomp=[3, 3, 3, 3, 3, 3, 3, 3, 3]\n",
      "nclusters=1\n",
      "\n",
      "\n",
      "########################################## TORONTO #########################\n",
      "# move target station to front\n",
      "targStation = 'CYYZ'\n",
      "stations = [targStation] + [s for s in stations if s != targStation]\n",
      "\n",
      "targetVar = 'TempMax'\n",
      "lag = 1\n",
      "print('\\n\\n' + targStation + ' ' + targetVar + ' lag ' + str(lag))\n",
      "featureData, target, modelParams = ClustReg.pcaClusterModel(stations,'2005-01-01','2010-12-31',\\\n",
      "                                                            features, clusterVars=clusterVars, nclusters=nclusters, ncomp=ncomp, \\\n",
      "                                                            targetVar=targetVar,lag=lag,order=0,verbose=False)\n",
      "date_list, pred, target, \\\n",
      "     pred_featureData, pred_classes, modelPerf = ClustReg.pcaClusterPredict(modelParams,'2015-11-10','2015-11-23',actual=True)\n",
      "\n",
      "######    \n",
      "targetVar = 'TempMax'\n",
      "lag = 2\n",
      "print('\\n\\n' + targetVar + ' lag ' + str(lag))\n",
      "featureData, target, modelParams = ClustReg.pcaClusterModel(stations,'2005-01-01','2010-12-31',\\\n",
      "                                                            features, clusterVars=clusterVars, nclusters=nclusters, ncomp=ncomp, \\\n",
      "                                                            targetVar=targetVar,lag=lag,order=0,verbose=False)\n",
      "date_list, pred, target, \\\n",
      "     pred_featureData, pred_classes, modelPerf = ClustReg.pcaClusterPredict(modelParams,'2015-11-10','2015-11-23',actual=True)\n",
      " \n",
      "######    \n",
      "targetVar = 'TempMax'\n",
      "lag = 3\n",
      "print('\\n\\n' + targetVar + ' lag ' + str(lag))\n",
      "featureData, target, modelParams = ClustReg.pcaClusterModel(stations,'2005-01-01','2010-12-31',\\\n",
      "                                                            features, clusterVars=clusterVars, nclusters=nclusters, ncomp=ncomp, \\\n",
      "                                                            targetVar=targetVar,lag=lag,order=0,verbose=False)\n",
      "date_list, pred, target, \\\n",
      "     pred_featureData, pred_classes, modelPerf = ClustReg.pcaClusterPredict(modelParams,'2015-11-10','2015-11-23',actual=True)\n",
      "  "
     ],
     "language": "python",
     "metadata": {},
     "outputs": [
      {
       "output_type": "stream",
       "stream": "stdout",
       "text": [
        "CYYZ TempMax lag 1\n",
        "columns for clustering: [2, 11]"
       ]
      },
      {
       "output_type": "stream",
       "stream": "stdout",
       "text": [
        "\n",
        "Cluster 0, nrows 2190, R^2 0.950667\n",
        "Cluster 0, 13 rows:"
       ]
      },
      {
       "output_type": "stream",
       "stream": "stdout",
       "text": [
        "\n",
        "  R^2_mean:\t0.735196341407\n",
        "  RMSE:\t\t2.17963230824\n",
        "\n",
        "Overall performance:\n",
        "  RMSE:\t2.17963230824\n",
        "TempMax lag 2\n",
        "columns for clustering: [2, 11]"
       ]
      },
      {
       "output_type": "stream",
       "stream": "stdout",
       "text": [
        "\n",
        "Cluster 0, nrows 2189, R^2 0.905394\n",
        "Cluster 0, 12 rows:"
       ]
      },
      {
       "output_type": "stream",
       "stream": "stdout",
       "text": [
        "\n",
        "  R^2_mean:\t0.155430699367\n",
        "  RMSE:\t\t3.93717737794\n",
        "\n",
        "Overall performance:\n",
        "  RMSE:\t3.93717737794\n",
        "TempMax lag 3\n",
        "columns for clustering: [2, 11]"
       ]
      },
      {
       "output_type": "stream",
       "stream": "stdout",
       "text": [
        "\n",
        "Cluster 0, nrows 2188, R^2 0.853259\n",
        "Cluster 0, 11 rows:"
       ]
      },
      {
       "output_type": "stream",
       "stream": "stdout",
       "text": [
        "\n",
        "  R^2_mean:\t0.100865293327\n",
        "  RMSE:\t\t4.16278488312\n",
        "\n",
        "Overall performance:\n",
        "  RMSE:\t4.16278488312\n"
       ]
      }
     ],
     "prompt_number": 174
    },
    {
     "cell_type": "code",
     "collapsed": false,
     "input": [
      "########################################## TORONTO #########################\n",
      "# move target station to front\n",
      "targStation = 'CYYZ'\n",
      "stations = [targStation] + [s for s in stations if s != targStation]\n",
      "\n",
      "targetVar = 'TempMin'\n",
      "lag = 1\n",
      "print('\\n\\n' + targStation + ' ' + targetVar + ' lag ' + str(lag))\n",
      "featureData, target, modelParams = ClustReg.pcaClusterModel(stations,'2005-01-01','2010-12-31',\\\n",
      "                                                            features, clusterVars=clusterVars, nclusters=nclusters, ncomp=ncomp, \\\n",
      "                                                            targetVar=targetVar,lag=lag,order=0,verbose=False)\n",
      "date_list, pred, target, \\\n",
      "     pred_featureData, pred_classes, modelPerf = ClustReg.pcaClusterPredict(modelParams,'2015-11-10','2015-11-23',actual=True)\n",
      "\n",
      "######    \n",
      "targetVar = 'TempMin'\n",
      "lag = 2\n",
      "print('\\n\\n' + targetVar + ' lag ' + str(lag))\n",
      "featureData, target, modelParams = ClustReg.pcaClusterModel(stations,'2005-01-01','2010-12-31',\\\n",
      "                                                            features, clusterVars=clusterVars, nclusters=nclusters, ncomp=ncomp, \\\n",
      "                                                            targetVar=targetVar,lag=lag,order=0,verbose=False)\n",
      "date_list, pred, target, \\\n",
      "     pred_featureData, pred_classes, modelPerf = ClustReg.pcaClusterPredict(modelParams,'2015-11-10','2015-11-23',actual=True)\n",
      " \n",
      "######    \n",
      "targetVar = 'TempMin'\n",
      "lag = 3\n",
      "print('\\n\\n' + targetVar + ' lag ' + str(lag))\n",
      "featureData, target, modelParams = ClustReg.pcaClusterModel(stations,'2005-01-01','2010-12-31',\\\n",
      "                                                            features, clusterVars=clusterVars, nclusters=nclusters, ncomp=ncomp, \\\n",
      "                                                            targetVar=targetVar,lag=lag,order=0,verbose=False)\n",
      "date_list, pred, target, \\\n",
      "     pred_featureData, pred_classes, modelPerf = ClustReg.pcaClusterPredict(modelParams,'2015-11-10','2015-11-23',actual=True)\n"
     ],
     "language": "python",
     "metadata": {},
     "outputs": [
      {
       "output_type": "stream",
       "stream": "stdout",
       "text": [
        "\n",
        "\n",
        "CYYZ TempMin lag 1\n",
        "columns for clustering: [2, 11]"
       ]
      },
      {
       "output_type": "stream",
       "stream": "stdout",
       "text": [
        "\n",
        "Cluster 0, nrows 2190, R^2 0.955087\n",
        "Cluster 0, 13 rows:"
       ]
      },
      {
       "output_type": "stream",
       "stream": "stdout",
       "text": [
        "\n",
        "  R^2_mean:\t0.742658953642\n",
        "  RMSE:\t\t1.92042896817\n",
        "\n",
        "Overall performance:\n",
        "  RMSE:\t1.92042896817\n",
        "\n",
        "\n",
        "TempMin lag 2\n",
        "columns for clustering: [2, 11]"
       ]
      },
      {
       "output_type": "stream",
       "stream": "stdout",
       "text": [
        "\n",
        "Cluster 0, nrows 2189, R^2 0.910068\n",
        "Cluster 0, 12 rows:"
       ]
      },
      {
       "output_type": "stream",
       "stream": "stdout",
       "text": [
        "\n",
        "  R^2_mean:\t0.498931012674\n",
        "  RMSE:\t\t2.59817488748\n",
        "\n",
        "Overall performance:\n",
        "  RMSE:\t2.59817488748\n",
        "\n",
        "\n",
        "TempMin lag 3\n",
        "columns for clustering: [2, 11]"
       ]
      },
      {
       "output_type": "stream",
       "stream": "stdout",
       "text": [
        "\n",
        "Cluster 0, nrows 2188, R^2 0.860148\n",
        "Cluster 0, 11 rows:"
       ]
      },
      {
       "output_type": "stream",
       "stream": "stdout",
       "text": [
        "\n",
        "  R^2_mean:\t0.137783276092\n",
        "  RMSE:\t\t3.22325227607\n",
        "\n",
        "Overall performance:\n",
        "  RMSE:\t3.22325227607\n"
       ]
      }
     ],
     "prompt_number": 175
    },
    {
     "cell_type": "code",
     "collapsed": false,
     "input": [
      "########################################## MONTREAL #########################\n",
      "# move target station to front\n",
      "targStation = 'CYUL'\n",
      "stations = [targStation] + [s for s in stations if s != targStation]\n",
      "\n",
      "targetVar = 'TempMax'\n",
      "lag = 1\n",
      "print('\\n\\n' + targStation + ' ' + targetVar + ' lag ' + str(lag))\n",
      "featureData, target, modelParams = ClustReg.pcaClusterModel(stations,'2005-01-01','2010-12-31',\\\n",
      "                                                            features, clusterVars=clusterVars, nclusters=nclusters, ncomp=ncomp, \\\n",
      "                                                            targetVar=targetVar,lag=lag,order=0,verbose=False)\n",
      "date_list, pred, target, \\\n",
      "     pred_featureData, pred_classes, modelPerf = ClustReg.pcaClusterPredict(modelParams,'2015-11-10','2015-11-23',actual=True)\n",
      "\n",
      "######    \n",
      "targetVar = 'TempMax'\n",
      "lag = 2\n",
      "print('\\n\\n' + targetVar + ' lag ' + str(lag))\n",
      "featureData, target, modelParams = ClustReg.pcaClusterModel(stations,'2005-01-01','2010-12-31',\\\n",
      "                                                            features, clusterVars=clusterVars, nclusters=nclusters, ncomp=ncomp, \\\n",
      "                                                            targetVar=targetVar,lag=lag,order=0,verbose=False)\n",
      "date_list, pred, target, \\\n",
      "     pred_featureData, pred_classes, modelPerf = ClustReg.pcaClusterPredict(modelParams,'2015-11-10','2015-11-23',actual=True)\n",
      " \n",
      "######    \n",
      "targetVar = 'TempMax'\n",
      "lag = 3\n",
      "print('\\n\\n' + targetVar + ' lag ' + str(lag))\n",
      "featureData, target, modelParams = ClustReg.pcaClusterModel(stations,'2005-01-01','2010-12-31',\\\n",
      "                                                            features, clusterVars=clusterVars, nclusters=nclusters, ncomp=ncomp, \\\n",
      "                                                            targetVar=targetVar,lag=lag,order=0,verbose=False)\n",
      "date_list, pred, target, \\\n",
      "     pred_featureData, pred_classes, modelPerf = ClustReg.pcaClusterPredict(modelParams,'2015-11-10','2015-11-23',actual=True)\n"
     ],
     "language": "python",
     "metadata": {},
     "outputs": [
      {
       "output_type": "stream",
       "stream": "stdout",
       "text": [
        "\n",
        "\n",
        "CYUL TempMax lag 1\n",
        "columns for clustering: [2, 11]"
       ]
      },
      {
       "output_type": "stream",
       "stream": "stdout",
       "text": [
        "\n",
        "Cluster 0, nrows 2190, R^2 0.948294\n",
        "Cluster 0, 13 rows:"
       ]
      },
      {
       "output_type": "stream",
       "stream": "stdout",
       "text": [
        "\n",
        "  R^2_mean:\t0.575901831914\n",
        "  RMSE:\t\t2.37090337627\n",
        "\n",
        "Overall performance:\n",
        "  RMSE:\t2.37090337627\n",
        "\n",
        "\n",
        "TempMax lag 2\n",
        "columns for clustering: [2, 11]"
       ]
      },
      {
       "output_type": "stream",
       "stream": "stdout",
       "text": [
        "\n",
        "Cluster 0, nrows 2189, R^2 0.907734\n",
        "Cluster 0, 12 rows:"
       ]
      },
      {
       "output_type": "stream",
       "stream": "stdout",
       "text": [
        "\n",
        "  R^2_mean:\t0.204317876869\n",
        "  RMSE:\t\t3.26732334162\n",
        "\n",
        "Overall performance:\n",
        "  RMSE:\t3.26732334162\n",
        "\n",
        "\n",
        "TempMax lag 3\n",
        "columns for clustering: [2, 11]"
       ]
      },
      {
       "output_type": "stream",
       "stream": "stdout",
       "text": [
        "\n",
        "Cluster 0, nrows 2188, R^2 0.864414\n",
        "Cluster 0, 11 rows:"
       ]
      },
      {
       "output_type": "stream",
       "stream": "stdout",
       "text": [
        "\n",
        "  R^2_mean:\t0.0755292553228\n",
        "  RMSE:\t\t3.41676868501\n",
        "\n",
        "Overall performance:\n",
        "  RMSE:\t3.41676868501\n"
       ]
      }
     ],
     "prompt_number": 176
    },
    {
     "cell_type": "code",
     "collapsed": false,
     "input": [
      "########################################## MONTREAL #########################\n",
      "# move target station to front\n",
      "targStation = 'CYUL'\n",
      "stations = [targStation] + [s for s in stations if s != targStation]\n",
      "\n",
      "targetVar = 'TempMin'\n",
      "lag = 1\n",
      "print('\\n\\n' + targStation + ' ' + targetVar + ' lag ' + str(lag))\n",
      "featureData, target, modelParams = ClustReg.pcaClusterModel(stations,'2005-01-01','2010-12-31',\\\n",
      "                                                            features, clusterVars=clusterVars, nclusters=nclusters, ncomp=ncomp, \\\n",
      "                                                            targetVar=targetVar,lag=lag,order=0,verbose=False)\n",
      "date_list, pred, target, \\\n",
      "     pred_featureData, pred_classes, modelPerf = ClustReg.pcaClusterPredict(modelParams,'2015-11-10','2015-11-23',actual=True)\n",
      "\n",
      "######    \n",
      "targetVar = 'TempMin'\n",
      "lag = 2\n",
      "print('\\n\\n' + targetVar + ' lag ' + str(lag))\n",
      "featureData, target, modelParams = ClustReg.pcaClusterModel(stations,'2005-01-01','2010-12-31',\\\n",
      "                                                            features, clusterVars=clusterVars, nclusters=nclusters, ncomp=ncomp, \\\n",
      "                                                            targetVar=targetVar,lag=lag,order=0,verbose=False)\n",
      "date_list, pred, target, \\\n",
      "     pred_featureData, pred_classes, modelPerf = ClustReg.pcaClusterPredict(modelParams,'2015-11-10','2015-11-23',actual=True)\n",
      " \n",
      "######    \n",
      "targetVar = 'TempMin'\n",
      "lag = 3\n",
      "print('\\n\\n' + targetVar + ' lag ' + str(lag))\n",
      "featureData, target, modelParams = ClustReg.pcaClusterModel(stations,'2005-01-01','2010-12-31',\\\n",
      "                                                            features, clusterVars=clusterVars, nclusters=nclusters, ncomp=ncomp, \\\n",
      "                                                            targetVar=targetVar,lag=lag,order=0,verbose=False)\n",
      "date_list, pred, target, \\\n",
      "     pred_featureData, pred_classes, modelPerf = ClustReg.pcaClusterPredict(modelParams,'2015-11-10','2015-11-23',actual=True)\n"
     ],
     "language": "python",
     "metadata": {},
     "outputs": [
      {
       "output_type": "stream",
       "stream": "stdout",
       "text": [
        "\n",
        "\n",
        "CYUL TempMin lag 1\n",
        "columns for clustering: [2, 11]"
       ]
      },
      {
       "output_type": "stream",
       "stream": "stdout",
       "text": [
        "\n",
        "Cluster 0, nrows 2190, R^2 0.953103\n",
        "Cluster 0, 13 rows:"
       ]
      },
      {
       "output_type": "stream",
       "stream": "stdout",
       "text": [
        "\n",
        "  R^2_mean:\t0.516042026782\n",
        "  RMSE:\t\t2.8427520215\n",
        "\n",
        "Overall performance:\n",
        "  RMSE:\t2.8427520215\n",
        "\n",
        "\n",
        "TempMin lag 2\n",
        "columns for clustering: [2, 11]"
       ]
      },
      {
       "output_type": "stream",
       "stream": "stdout",
       "text": [
        "\n",
        "Cluster 0, nrows 2189, R^2 0.906195\n",
        "Cluster 0, 12 rows:"
       ]
      },
      {
       "output_type": "stream",
       "stream": "stdout",
       "text": [
        "\n",
        "  R^2_mean:\t0.0845247382227\n",
        "  RMSE:\t\t3.93451806172\n",
        "\n",
        "Overall performance:\n",
        "  RMSE:\t3.93451806172\n",
        "\n",
        "\n",
        "TempMin lag 3\n",
        "columns for clustering: [2, 11]"
       ]
      },
      {
       "output_type": "stream",
       "stream": "stdout",
       "text": [
        "\n",
        "Cluster 0, nrows 2188, R^2 0.861815\n",
        "Cluster 0, 11 rows:"
       ]
      },
      {
       "output_type": "stream",
       "stream": "stdout",
       "text": [
        "\n",
        "  R^2_mean:\t-0.206912641153\n",
        "  RMSE:\t\t4.25132522437\n",
        "\n",
        "Overall performance:\n",
        "  RMSE:\t4.25132522437\n"
       ]
      }
     ],
     "prompt_number": 177
    },
    {
     "cell_type": "code",
     "collapsed": false,
     "input": [
      "########################################## DETROIT #########################\n",
      "# move target station to front\n",
      "targStation = 'KDTW'\n",
      "stations = [targStation] + [s for s in stations if s != targStation]\n",
      "\n",
      "targetVar = 'TempMax'\n",
      "lag = 1\n",
      "print('\\n\\n' + targStation + ' ' + targetVar + ' lag ' + str(lag))\n",
      "featureData, target, modelParams = ClustReg.pcaClusterModel(stations,'2005-01-01','2010-12-31',\\\n",
      "                                                            features, clusterVars=clusterVars, nclusters=nclusters, ncomp=ncomp, \\\n",
      "                                                            targetVar=targetVar,lag=lag,order=0,verbose=False)\n",
      "date_list, pred, target, \\\n",
      "     pred_featureData, pred_classes, modelPerf = ClustReg.pcaClusterPredict(modelParams,'2015-11-10','2015-11-23',actual=True)\n",
      "\n",
      "######    \n",
      "targetVar = 'TempMax'\n",
      "lag = 2\n",
      "print('\\n\\n' + targetVar + ' lag ' + str(lag))\n",
      "featureData, target, modelParams = ClustReg.pcaClusterModel(stations,'2005-01-01','2010-12-31',\\\n",
      "                                                            features, clusterVars=clusterVars, nclusters=nclusters, ncomp=ncomp, \\\n",
      "                                                            targetVar=targetVar,lag=lag,order=0,verbose=False)\n",
      "date_list, pred, target, \\\n",
      "     pred_featureData, pred_classes, modelPerf = ClustReg.pcaClusterPredict(modelParams,'2015-11-10','2015-11-23',actual=True)\n",
      " \n",
      "######    \n",
      "targetVar = 'TempMax'\n",
      "lag = 3\n",
      "print('\\n\\n' + targetVar + ' lag ' + str(lag))\n",
      "featureData, target, modelParams = ClustReg.pcaClusterModel(stations,'2005-01-01','2010-12-31',\\\n",
      "                                                            features, clusterVars=clusterVars, nclusters=nclusters, ncomp=ncomp, \\\n",
      "                                                            targetVar=targetVar,lag=lag,order=0,verbose=False)\n",
      "date_list, pred, target, \\\n",
      "     pred_featureData, pred_classes, modelPerf = ClustReg.pcaClusterPredict(modelParams,'2015-11-10','2015-11-23',actual=True)\n"
     ],
     "language": "python",
     "metadata": {},
     "outputs": [
      {
       "output_type": "stream",
       "stream": "stdout",
       "text": [
        "\n",
        "\n",
        "KDTW TempMax lag 1\n",
        "columns for clustering: [2, 11]"
       ]
      },
      {
       "output_type": "stream",
       "stream": "stdout",
       "text": [
        "\n",
        "Cluster 0, nrows 2190, R^2 0.952753\n",
        "Cluster 0, 13 rows:"
       ]
      },
      {
       "output_type": "stream",
       "stream": "stdout",
       "text": [
        "\n",
        "  R^2_mean:\t0.872324352335\n",
        "  RMSE:\t\t2.1637183575\n",
        "\n",
        "Overall performance:\n",
        "  RMSE:\t2.1637183575\n",
        "\n",
        "\n",
        "TempMax lag 2\n",
        "columns for clustering: [2, 11]"
       ]
      },
      {
       "output_type": "stream",
       "stream": "stdout",
       "text": [
        "\n",
        "Cluster 0, nrows 2189, R^2 0.904661\n",
        "Cluster 0, 12 rows:"
       ]
      },
      {
       "output_type": "stream",
       "stream": "stdout",
       "text": [
        "\n",
        "  R^2_mean:\t0.528452344675\n",
        "  RMSE:\t\t4.28535791401\n",
        "\n",
        "Overall performance:\n",
        "  RMSE:\t4.28535791401\n",
        "\n",
        "\n",
        "TempMax lag 3\n",
        "columns for clustering: [2, 11]"
       ]
      },
      {
       "output_type": "stream",
       "stream": "stdout",
       "text": [
        "\n",
        "Cluster 0, nrows 2188, R^2 0.851565\n",
        "Cluster 0, 11 rows:"
       ]
      },
      {
       "output_type": "stream",
       "stream": "stdout",
       "text": [
        "\n",
        "  R^2_mean:\t0.164317801042\n",
        "  RMSE:\t\t5.92826898436\n",
        "\n",
        "Overall performance:\n",
        "  RMSE:\t5.92826898436\n"
       ]
      }
     ],
     "prompt_number": 178
    },
    {
     "cell_type": "code",
     "collapsed": false,
     "input": [
      "########################################## DETROIT #########################\n",
      "# move target station to front\n",
      "targStation = 'KDTW'\n",
      "stations = [targStation] + [s for s in stations if s != targStation]\n",
      "\n",
      "targetVar = 'TempMin'\n",
      "lag = 1\n",
      "print('\\n\\n' + targStation + ' ' + targetVar + ' lag ' + str(lag))\n",
      "featureData, target, modelParams = ClustReg.pcaClusterModel(stations,'2005-01-01','2010-12-31',\\\n",
      "                                                            features, clusterVars=clusterVars, nclusters=nclusters, ncomp=ncomp, \\\n",
      "                                                            targetVar=targetVar,lag=lag,order=0,verbose=False)\n",
      "date_list, pred, target, \\\n",
      "     pred_featureData, pred_classes, modelPerf = ClustReg.pcaClusterPredict(modelParams,'2015-11-10','2015-11-23',actual=True)\n",
      "\n",
      "######    \n",
      "targetVar = 'TempMin'\n",
      "lag = 2\n",
      "print('\\n\\n' + targetVar + ' lag ' + str(lag))\n",
      "featureData, target, modelParams = ClustReg.pcaClusterModel(stations,'2005-01-01','2010-12-31',\\\n",
      "                                                            features, clusterVars=clusterVars, nclusters=nclusters, ncomp=ncomp, \\\n",
      "                                                            targetVar=targetVar,lag=lag,order=0,verbose=False)\n",
      "date_list, pred, target, \\\n",
      "     pred_featureData, pred_classes, modelPerf = ClustReg.pcaClusterPredict(modelParams,'2015-11-10','2015-11-23',actual=True)\n",
      " \n",
      "######    \n",
      "targetVar = 'TempMin'\n",
      "lag = 3\n",
      "print('\\n\\n' + targetVar + ' lag ' + str(lag))\n",
      "featureData, target, modelParams = ClustReg.pcaClusterModel(stations,'2005-01-01','2010-12-31',\\\n",
      "                                                            features, clusterVars=clusterVars, nclusters=nclusters, ncomp=ncomp, \\\n",
      "                                                            targetVar=targetVar,lag=lag,order=0,verbose=False)\n",
      "date_list, pred, target, \\\n",
      "     pred_featureData, pred_classes, modelPerf = ClustReg.pcaClusterPredict(modelParams,'2015-11-10','2015-11-23',actual=True)\n"
     ],
     "language": "python",
     "metadata": {},
     "outputs": [
      {
       "output_type": "stream",
       "stream": "stdout",
       "text": [
        "\n",
        "\n",
        "KDTW TempMin lag 1\n",
        "columns for clustering: [2, 11]"
       ]
      },
      {
       "output_type": "stream",
       "stream": "stdout",
       "text": [
        "\n",
        "Cluster 0, nrows 2190, R^2 0.956577\n",
        "Cluster 0, 13 rows:"
       ]
      },
      {
       "output_type": "stream",
       "stream": "stdout",
       "text": [
        "\n",
        "  R^2_mean:\t0.720686066255\n",
        "  RMSE:\t\t2.68609234668\n",
        "\n",
        "Overall performance:\n",
        "  RMSE:\t2.68609234668\n",
        "\n",
        "\n",
        "TempMin lag 2\n",
        "columns for clustering: [2, 11]"
       ]
      },
      {
       "output_type": "stream",
       "stream": "stdout",
       "text": [
        "\n",
        "Cluster 0, nrows 2189, R^2 0.916303\n",
        "Cluster 0, 12 rows:"
       ]
      },
      {
       "output_type": "stream",
       "stream": "stdout",
       "text": [
        "\n",
        "  R^2_mean:\t0.524631633881\n",
        "  RMSE:\t\t3.64522992996\n",
        "\n",
        "Overall performance:\n",
        "  RMSE:\t3.64522992996\n",
        "\n",
        "\n",
        "TempMin lag 3\n",
        "columns for clustering: [2, 11]"
       ]
      },
      {
       "output_type": "stream",
       "stream": "stdout",
       "text": [
        "\n",
        "Cluster 0, nrows 2188, R^2 0.862788\n",
        "Cluster 0, 11 rows:"
       ]
      },
      {
       "output_type": "stream",
       "stream": "stdout",
       "text": [
        "\n",
        "  R^2_mean:\t0.308241184759\n",
        "  RMSE:\t\t4.40540018923\n",
        "\n",
        "Overall performance:\n",
        "  RMSE:\t4.40540018923\n"
       ]
      }
     ],
     "prompt_number": 179
    },
    {
     "cell_type": "code",
     "collapsed": false,
     "input": [],
     "language": "python",
     "metadata": {},
     "outputs": []
    },
    {
     "cell_type": "code",
     "collapsed": false,
     "input": [],
     "language": "python",
     "metadata": {},
     "outputs": []
    },
    {
     "cell_type": "code",
     "collapsed": false,
     "input": [],
     "language": "python",
     "metadata": {},
     "outputs": []
    },
    {
     "cell_type": "code",
     "collapsed": false,
     "input": [],
     "language": "python",
     "metadata": {},
     "outputs": []
    },
    {
     "cell_type": "code",
     "collapsed": false,
     "input": [
      "date_list, pred, target, \\\n",
      "     pred_featureData, pred_classes, modelPerf = ClustReg.pcaClusterPredict(modelParams, \\\n",
      "                                                                            '2015-11-10', '2015-11-23', \\\n",
      "                                                                            actual=True)"
     ],
     "language": "python",
     "metadata": {},
     "outputs": [
      {
       "output_type": "stream",
       "stream": "stdout",
       "text": [
        "Cluster 0, 4 rows:\n",
        "  R^2_mean:\t-0.65043835058\n",
        "  RMSE:\t\t3.32224419173\n",
        "Cluster 1, 0 rows:\n",
        "Cluster 2, 8 rows:\n",
        "  R^2_mean:\t0.427774297748\n",
        "  RMSE:\t\t3.0596167812\n",
        "Cluster 3, 1 rows:\n",
        "  R^2_mean:\t0.0\n",
        "  RMSE:\t\t0.500407115842\n",
        "\n",
        "Overall performance:\n",
        "  RMSE:\t3.02921253974\n"
       ]
      }
     ],
     "prompt_number": 106
    },
    {
     "cell_type": "code",
     "collapsed": false,
     "input": [
      "ax = Reg.plotModelPred(date_list, pred, target, showIt=False)\n",
      "plt.plot(date[1:],cyul[1][:-1],color='blue',linewidth=2, linestyle='--')\n",
      "plt.scatter(date[1:],cyul[1][:-1],color='blue')\n",
      "\n",
      "plt.plot(date[2:],cyul[3][:-2],color='gray',linewidth=2, linestyle='--')\n",
      "plt.scatter(date[2:],cyul[3][:-2],color='gray')\n",
      "\n",
      "plt.plot(date[3:],cyul[5][:-3],color='steelblue',linewidth=2, linestyle='--')\n",
      "plt.scatter(date[3:],cyul[5][:-3],color='steelblue')\n",
      "\n",
      "plt.show()"
     ],
     "language": "python",
     "metadata": {},
     "outputs": [
      {
       "metadata": {},
       "output_type": "display_data",
       "text": [
        "<matplotlib.figure.Figure at 0x10b706b0>"
       ]
      },
      {
       "metadata": {},
       "output_type": "display_data",
       "png": "[encoded data removed]",
       "text": [
        "<matplotlib.figure.Figure at 0x10b703f0>"
       ]
      }
     ],
     "prompt_number": 107
    },
    {
     "cell_type": "code",
     "collapsed": false,
     "input": [],
     "language": "python",
     "metadata": {},
     "outputs": []
    }
   ],
   "metadata": {}
  }
 ]
}