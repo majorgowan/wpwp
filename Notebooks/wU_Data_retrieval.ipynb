{
 "metadata": {
  "name": "",
  "signature": "sha256:dd5b15ff4f50c018233ba93b68047f34415c8c87f82d2dd29e8c66e4520776a1"
 },
 "nbformat": 3,
 "nbformat_minor": 0,
 "worksheets": [
  {
   "cells": [
    {
     "cell_type": "heading",
     "level": 2,
     "metadata": {},
     "source": [
      "Data retrieval"
     ]
    },
    {
     "cell_type": "code",
     "collapsed": false,
     "input": [
      "cd I:/wpwp/Scraping"
     ],
     "language": "python",
     "metadata": {},
     "outputs": [
      {
       "output_type": "stream",
       "stream": "stdout",
       "text": [
        "I:\\wpwp\\Scraping\n"
       ]
      }
     ],
     "prompt_number": 2
    },
    {
     "cell_type": "code",
     "collapsed": false,
     "input": [
      "cd D:/mfruman/Documents/wpwp/Python"
     ],
     "language": "python",
     "metadata": {},
     "outputs": [
      {
       "output_type": "stream",
       "stream": "stdout",
       "text": [
        "D:\\mfruman\\Documents\\wpwp\\Python\n"
       ]
      }
     ],
     "prompt_number": 1
    },
    {
     "cell_type": "code",
     "collapsed": false,
     "input": [
      "pylab.rcParams['figure.figsize'] = (10.0, 8.0)"
     ],
     "language": "python",
     "metadata": {},
     "outputs": [],
     "prompt_number": 2
    },
    {
     "cell_type": "code",
     "collapsed": false,
     "input": [
      "# load data for all stations for November 2015\n",
      "import wUnderground as wU\n",
      "reload(wU)\n",
      "\n",
      "dates, toronto, tor_fails = wU.readInterval('CYYZ','2015-11','2015-11', verbose=False)\n",
      "dates, montreal, mtl_fails = wU.readInterval('CYUL','2015-11','2015-11', verbose=False)\n",
      "dates, detroit, det_fails = wU.readInterval('KDTW','2015-11','2015-11', verbose=False)"
     ],
     "language": "python",
     "metadata": {},
     "outputs": [
      {
       "output_type": "stream",
       "stream": "stdout",
       "text": [
        "reading CYYZ. . .\n",
        "There were"
       ]
      },
      {
       "output_type": "stream",
       "stream": "stdout",
       "text": [
        " 9 failures!! . . .\n",
        ". . . now [only]"
       ]
      },
      {
       "output_type": "stream",
       "stream": "stdout",
       "text": [
        " 9 failures!! . . .\n",
        ". . . now [only]"
       ]
      },
      {
       "output_type": "stream",
       "stream": "stdout",
       "text": [
        " 9 failures!! . . .\n",
        ". . . now [only]"
       ]
      },
      {
       "output_type": "stream",
       "stream": "stdout",
       "text": [
        " 9 failures!! . . .\n",
        ". . . now [only]"
       ]
      },
      {
       "output_type": "stream",
       "stream": "stdout",
       "text": [
        " 9 failures!! . . .\n",
        ". . . now [only]"
       ]
      },
      {
       "output_type": "stream",
       "stream": "stdout",
       "text": [
        " 9 failures!! . . .\n",
        "reading CYUL. . .\n",
        "There were"
       ]
      },
      {
       "output_type": "stream",
       "stream": "stdout",
       "text": [
        " 9 failures!! . . .\n",
        ". . . now [only]"
       ]
      },
      {
       "output_type": "stream",
       "stream": "stdout",
       "text": [
        " 9 failures!! . . .\n",
        ". . . now [only]"
       ]
      },
      {
       "output_type": "stream",
       "stream": "stdout",
       "text": [
        " 9 failures!! . . .\n",
        ". . . now [only]"
       ]
      },
      {
       "output_type": "stream",
       "stream": "stdout",
       "text": [
        " 9 failures!! . . .\n",
        ". . . now [only]"
       ]
      },
      {
       "output_type": "stream",
       "stream": "stdout",
       "text": [
        " 9 failures!! . . .\n",
        ". . . now [only]"
       ]
      },
      {
       "output_type": "stream",
       "stream": "stdout",
       "text": [
        " 9 failures!! . . .\n",
        "reading KDTW. . .\n",
        "There were"
       ]
      },
      {
       "output_type": "stream",
       "stream": "stdout",
       "text": [
        " 9 failures!! . . .\n",
        ". . . now [only]"
       ]
      },
      {
       "output_type": "stream",
       "stream": "stdout",
       "text": [
        " 9 failures!! . . .\n",
        ". . . now [only]"
       ]
      },
      {
       "output_type": "stream",
       "stream": "stdout",
       "text": [
        " 9 failures!! . . .\n",
        ". . . now [only]"
       ]
      },
      {
       "output_type": "stream",
       "stream": "stdout",
       "text": [
        " 9 failures!! . . .\n",
        ". . . now [only]"
       ]
      },
      {
       "output_type": "stream",
       "stream": "stdout",
       "text": [
        " 9 failures!! . . .\n",
        ". . . now [only]"
       ]
      },
      {
       "output_type": "stream",
       "stream": "stdout",
       "text": [
        " 9 failures!! . . .\n"
       ]
      }
     ],
     "prompt_number": 23
    },
    {
     "cell_type": "code",
     "collapsed": false,
     "input": [
      "# remove failed reads (possibly days in the future)\n",
      "import datetime\n",
      "faildates = [datetime.date(*d[2:]) for d in tor_fails]\n",
      "toronto = [t for i,t in enumerate(toronto) if dates[i] not in faildates]\n",
      "montreal = [t for i,t in enumerate(montreal) if dates[i] not in faildates]\n",
      "detroit = [t for i,t in enumerate(detroit) if dates[i] not in faildates]\n",
      "dates = dates[:len(toronto)]"
     ],
     "language": "python",
     "metadata": {},
     "outputs": [],
     "prompt_number": 24
    },
    {
     "cell_type": "code",
     "collapsed": false,
     "input": [
      "# check ... maximum daily temperature\n",
      "temps=[]\n",
      "for day in toronto:\n",
      "     temps.append([float(hour['TemperatureC']) for hour in day])\n",
      "maxtemp = map(max,temps)\n",
      "print(zip([d.isoformat() for d in dates],maxtemp))\n"
     ],
     "language": "python",
     "metadata": {},
     "outputs": [
      {
       "output_type": "stream",
       "stream": "stdout",
       "text": [
        "[('2015-11-01', 15.0), ('2015-11-02', 14.0), ('2015-11-03', 21.0), ('2015-11-04', 16.0), ('2015-11-05', 20.0), ('2015-11-06', 19.0), ('2015-11-07', 11.0), ('2015-11-08', 10.0), ('2015-11-09', 11.0), ('2015-11-10', 9.0), ('2015-11-11', 13.0), ('2015-11-12', 12.0), ('2015-11-13', 9.0), ('2015-11-14', 6.0), ('2015-11-15', 15.0), ('2015-11-16', 12.0), ('2015-11-17', 8.0), ('2015-11-18', 14.0), ('2015-11-19', 16.0), ('2015-11-20', 6.0), ('2015-11-21', 6.0)]\n"
       ]
      }
     ],
     "prompt_number": 32
    },
    {
     "cell_type": "code",
     "collapsed": false,
     "input": [
      "# save data to JSON files\n",
      "wU.putJSON(dates,toronto,'CYYZ',2015,11)\n",
      "wU.putJSON(dates,montreal,'CYUL',2015,11)\n",
      "wU.putJSON(dates,detroit,'KDTW',2015,11)"
     ],
     "language": "python",
     "metadata": {},
     "outputs": [],
     "prompt_number": 22
    },
    {
     "cell_type": "code",
     "collapsed": false,
     "input": [],
     "language": "python",
     "metadata": {},
     "outputs": []
    }
   ],
   "metadata": {}
  }
 ]
}