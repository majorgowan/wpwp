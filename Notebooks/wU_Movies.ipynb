{
 "metadata": {
  "name": "",
  "signature": "sha256:46181390ee6b0422d247040da6065b3fec5175073c3e7e06509e69f65ac06d62"
 },
 "nbformat": 3,
 "nbformat_minor": 0,
 "worksheets": [
  {
   "cells": [
    {
     "cell_type": "heading",
     "level": 2,
     "metadata": {},
     "source": [
      "Make frames for animated GIFS"
     ]
    },
    {
     "cell_type": "code",
     "collapsed": false,
     "input": [
      "cd I:/wpwp/Python/"
     ],
     "language": "python",
     "metadata": {},
     "outputs": [
      {
       "output_type": "stream",
       "stream": "stdout",
       "text": [
        "I:\\wpwp\\Python\n"
       ]
      }
     ],
     "prompt_number": 1
    },
    {
     "cell_type": "code",
     "collapsed": false,
     "input": [
      "cd D:/mfruman/Documents/wpwp/Python/"
     ],
     "language": "python",
     "metadata": {},
     "outputs": [
      {
       "output_type": "stream",
       "stream": "stdout",
       "text": [
        "D:\\mfruman\\Documents\\wpwp\\Python\n"
       ]
      }
     ],
     "prompt_number": 1
    },
    {
     "cell_type": "code",
     "collapsed": false,
     "input": [
      "pylab.rcParams['figure.figsize'] = (10.0, 8.0)"
     ],
     "language": "python",
     "metadata": {},
     "outputs": [],
     "prompt_number": 2
    },
    {
     "cell_type": "code",
     "collapsed": false,
     "input": [
      "# load plotting libraries\n",
      "import matplotlib.pyplot as plt\n",
      "from mpl_toolkits.basemap import Basemap\n",
      "\n",
      "# module of routines for retrieving data\n",
      "# and plotting on map\n",
      "import wUMovieFrames as Movie\n",
      "import wUUtils as Util"
     ],
     "language": "python",
     "metadata": {},
     "outputs": [],
     "prompt_number": 3
    },
    {
     "cell_type": "code",
     "collapsed": false,
     "input": [
      "reload(Movie)\n",
      "import os\n",
      "import datetime\n",
      "\n",
      "path = '../TemperatureMovie'\n",
      "# check if station folder exists\n",
      "if not os.path.exists(path):\n",
      "    os.mkdir(path)\n",
      "\n",
      "date_list = Util.dateList('2005-01-01','2005-12-31')\n",
      "startFig = 0\n",
      "\n",
      "figname = path + '/TempMax'\n",
      "contours = range(-31,32)\n",
      "for figNum, theDate in enumerate(date_list):\n",
      "    theDateStr = theDate.date().isoformat()\n",
      "    Movie.contourPlotVarOnMapFrame('TempMax',theDateStr, contours, figname=figname, \\\n",
      "                                   frameNum=figNum+startFig, width_fac=18, height_fac=15, \\\n",
      "                                   title='TempMax, %s' % theDateStr, units='deg C')"
     ],
     "language": "python",
     "metadata": {},
     "outputs": []
    },
    {
     "cell_type": "code",
     "collapsed": false,
     "input": [],
     "language": "python",
     "metadata": {},
     "outputs": []
    },
    {
     "cell_type": "code",
     "collapsed": false,
     "input": [],
     "language": "python",
     "metadata": {},
     "outputs": []
    },
    {
     "cell_type": "heading",
     "level": 3,
     "metadata": {},
     "source": [
      "Frames of PC components"
     ]
    },
    {
     "cell_type": "code",
     "collapsed": false,
     "input": [
      "import wUPCA\n",
      "import wUMovieFrames as Movie\n",
      "reload(Movie)\n",
      "import os\n",
      "import datetime\n",
      "\n",
      "path = '../TemperatureMovie_PC'\n",
      "# check if station folder exists\n",
      "if not os.path.exists(path):\n",
      "    os.mkdir(path)\n",
      "\n",
      "startDate, endDate = '2005-01-01', '2010-12-31'\n",
      "features = ['TempMax']\n",
      "ncomp = [3]\n",
      "stations = Util.getStationList()\n",
      "\n",
      "# load feature data and compute PC\n",
      "pcaData, transformParams = wUPCA.pcaConvert(stations, features, startDate, endDate, ncomp)\n",
      "pc = transformParams['pcas'][0]\n",
      "scaler = transformParams['scalers'][0]\n",
      "\n",
      "date_list = Util.dateList('2005-01-01','2005-01-03')\n",
      "startFig = 0\n",
      "\n",
      "figname = path + '/TempMax_PC'\n",
      "contours = range(-31,32,2)\n",
      "for figNum, theDate in enumerate(date_list):\n",
      "    theDateStr = theDate.date().isoformat()\n",
      "    data0 = scaler.inverse_transform(pcaData[0][0][figNum+startFig]*pc.components_[0])\n",
      "    data1 = scaler.inverse_transform(pcaData[0][1][figNum+startFig]*pc.components_[1])\n",
      "    data2 = scaler.inverse_transform(pcaData[0][2][figNum+startFig]*pc.components_[2])\n",
      "    \n",
      "    data = data0 + data1 + data2\n",
      "    \n",
      "    Movie.VariableWithInset(data, [data0,data1,data2], \\\n",
      "                            contours, npts = 20, \\\n",
      "                            figname=figname, frameNum=figNum+startFig, \\\n",
      "                            title='TempMax, %s' % theDateStr, units='deg C', \\\n",
      "                            width_fac=16, height_fac=12)"
     ],
     "language": "python",
     "metadata": {},
     "outputs": [
      {
       "output_type": "stream",
       "stream": "stdout",
       "text": [
        "\n",
        "main axes:\n",
        "[ 27.95458325  25.64377692  13.53198453  17.6082485   26.71985637\n",
        "   7.079016    32.76917646  63.68151027  41.74086017  36.08062192\n",
        "  42.16678667  67.93094107  51.74958125  34.86658437  39.01024258\n",
        "  26.17308821  56.94903149  47.76452449  46.49361626  45.15423012\n",
        "  66.78815533  31.12225879  23.9752015   60.34859447  36.26007456\n",
        "  53.04547964  46.35735186  37.56218163  52.13646267]\n",
        "\n",
        "iax 0:"
       ]
      },
      {
       "output_type": "stream",
       "stream": "stdout",
       "text": [
        "\n",
        "[  5.90524127   5.01371113   2.98028208   2.99374442   5.33808911\n",
        "   1.18633075   7.0490977   15.94083579   9.82383724   7.62331063\n",
        "   9.03066548  17.6266341   11.79147205   9.17287841   8.71267356   6.06936\n",
        "  13.45728537  10.89430101  11.29257833  12.27991944  17.51259168\n",
        "   7.16953502   6.01225372  17.44176185   8.44617638  12.57386271\n",
        "   9.95461853   8.12852433  13.05827909]\n",
        "\n",
        "iax 1:"
       ]
      },
      {
       "output_type": "stream",
       "stream": "stdout",
       "text": [
        "\n",
        "[ 13.56175517  13.79190296   7.14011251   9.98599744  14.18569689\n",
        "   4.90135861  14.9318058   20.45112242  18.13770869  15.80496821\n",
        "  16.53776371  23.14905353  17.69354996  11.51803683  15.50305113\n",
        "  10.80032805  21.53185819  16.16084876  18.86942611  13.72056423\n",
        "  21.0821084   11.84864886   9.38734498  18.65604851  13.0537683\n",
        "  21.09646363  17.84829609  16.68809207  16.22414381]\n",
        "\n",
        "iax 2:"
       ]
      },
      {
       "output_type": "stream",
       "stream": "stdout",
       "text": [
        "\n",
        "[  8.48758681   6.83816282   3.41158994   4.62850664   7.19607036\n",
        "   0.99132663  10.78827296  27.28955206  13.77931424  12.65234308\n",
        "  16.59835748  27.15525344  22.26455924  14.17566914  14.79451789\n",
        "   9.30340016  21.95988793  20.70937472  16.33161182  19.15374646\n",
        "  28.19345524  12.10407491   8.5756028   24.25078411  14.76012989\n",
        "  19.3751533   18.55443724  12.74556523  22.85403978]\n",
        "\n",
        "main axes:"
       ]
      },
      {
       "output_type": "stream",
       "stream": "stdout",
       "text": [
        "\n",
        "[ 24.44431931  21.30471285  13.09770292  14.91707047  22.24892402\n",
        "   7.36798884  29.47162813  64.76351025  37.5862845   32.72464766\n",
        "  40.03517493  67.21997362  51.70837824  37.15356734  37.31746758\n",
        "  25.9153346   54.20622089  48.24831888  43.24556583  48.38012561\n",
        "  68.52127785  31.07018666  25.02171272  63.30451469  36.73092231\n",
        "  49.52951938  44.00772536  33.76544052  54.47499501]\n",
        "\n",
        "iax 0:"
       ]
      },
      {
       "output_type": "stream",
       "stream": "stdout",
       "text": [
        "\n",
        "[  4.81447879   3.78383962   1.76404182   1.74759741   4.136009\n",
        "  -0.19761989   5.90007437  14.96134462   8.8620814    6.50229103\n",
        "   7.90040641  16.81128134  10.67970524   7.95352196   7.53977584\n",
        "   4.82886779  12.43766934   9.74991429  10.3379908   11.17859541\n",
        "  16.55684793   6.01328281   4.69572668  16.51125825   7.23716098\n",
        "  11.54436782   8.85979333   7.00699476  11.94257659]\n",
        "\n",
        "iax 1:"
       ]
      },
      {
       "output_type": "stream",
       "stream": "stdout",
       "text": [
        "\n",
        "[ 11.88177278  11.76376438   9.30332712   9.6849493   11.95647142\n",
        "   8.30194127  13.33061601  21.12343882  15.21526404  13.78999155\n",
        "  15.19037061  22.07848552  17.73493376  15.36992969  15.02685687\n",
        "  12.55651754  19.11546068  16.94914918  16.59123353  17.82432467\n",
        "  22.50477621  13.23714717  12.76882232  22.12597777  14.76846644\n",
        "  18.3156662   15.96966414  14.32716007  18.80800046]\n",
        "\n",
        "iax 2:"
       ]
      },
      {
       "output_type": "stream",
       "stream": "stdout",
       "text": [
        "\n",
        "[  7.74806774   5.75710885   2.03033398   3.48452376   6.15644361\n",
        "  -0.73633254  10.24093774  28.67872681  13.50893906  12.43236508\n",
        "  16.94439791  28.33020676  23.29373924  13.83011569  14.75083487\n",
        "   8.52994927  22.65309087  21.54925541  16.31634149  19.37720553\n",
        "  29.45965371  11.81975669   7.55716372  24.66727868  14.7252949\n",
        "  19.66948535  19.17826789  12.43128569  23.72441795]\n",
        "\n",
        "main axes:"
       ]
      },
      {
       "output_type": "stream",
       "stream": "stdout",
       "text": [
        "\n",
        "[ 25.5729813   22.85927101   6.34688587  13.00014804  24.25934064\n",
        "  -2.17545592  30.31057843  61.30549218  41.42987011  34.42624234\n",
        "  40.35266648  67.58881276  49.25505539  26.96789438  35.83427377\n",
        "  19.88804916  56.86233419  44.25049756  45.80462855  37.90275568\n",
        "  63.62486867  25.92052956  15.61289701  54.43295601  30.80645466\n",
        "  52.91567023  45.44036347  36.16112758  46.95687486]\n",
        "\n",
        "iax 0:"
       ]
      },
      {
       "output_type": "stream",
       "stream": "stdout",
       "text": [
        "\n",
        "[  2.55020801   1.23079789  -0.7607033   -0.83922998   1.64065834\n",
        "  -3.07050839   3.51486222  12.92805757   6.86561044   4.17521071\n",
        "   5.55414624  15.11872273   8.37183241   5.42230806   5.10500378\n",
        "   2.253779    10.32108868   7.37432708   8.35640024   8.89240033\n",
        "  14.57285721   3.61306449   1.96280018  14.57966258   4.72741364\n",
        "   9.40728004   6.58708895   4.67885581   9.62653383]\n",
        "\n",
        "iax 1:"
       ]
      },
      {
       "output_type": "stream",
       "stream": "stdout",
       "text": [
        "\n",
        "[ 15.22944744  15.80520444   4.99272318  10.28484322  16.39861418\n",
        "   1.52565335  16.52128189  19.78372443  21.03877382  17.80520405\n",
        "  17.87529979  24.21178967  17.65246891   7.69432297  15.97576174\n",
        "   9.05698618  23.93057823  15.37831524  21.13095228   9.64682537\n",
        "  19.6698483   10.47030829   6.03060527  15.21150396  11.35161425\n",
        "  23.85691778  19.71318468  19.03175237  13.65918968]\n",
        "\n",
        "iax 2:"
       ]
      },
      {
       "output_type": "stream",
       "stream": "stdout",
       "text": [
        "\n",
        "[  7.79332585   5.82326868   2.11486598   3.5545348    6.22006812\n",
        "  -0.63060088  10.27443432  28.59371018  13.52548585  12.44582759\n",
        "  16.92322045  28.25830035  23.23075407  13.85126334  14.75350825\n",
        "   8.57728398  22.61066728  21.49785523  16.31727603  19.36352998\n",
        "  29.38216315  11.83715679   7.61949155  24.64178947  14.72742678\n",
        "  19.65147241  19.14008984  12.4505194   23.67115135]\n"
       ]
      },
      {
       "metadata": {},
       "output_type": "display_data",
       "text": [
        "<matplotlib.figure.Figure at 0x903cd70>"
       ]
      },
      {
       "metadata": {},
       "output_type": "display_data",
       "text": [
        "<matplotlib.figure.Figure at 0x10dd4a70>"
       ]
      },
      {
       "metadata": {},
       "output_type": "display_data",
       "text": [
        "<matplotlib.figure.Figure at 0x10cd18d0>"
       ]
      }
     ],
     "prompt_number": 4
    },
    {
     "cell_type": "code",
     "collapsed": false,
     "input": [
      "scaler.inverse_transform(pcaData[0][0][40]*pc.components_[0])"
     ],
     "language": "python",
     "metadata": {},
     "outputs": [
      {
       "metadata": {},
       "output_type": "pyout",
       "prompt_number": 41,
       "text": [
        "array([ -2.47456455,  -4.43480275,  -6.36350933,  -6.57980633,\n",
        "        -3.89691676,  -9.44589927,  -1.77829823,   8.4158742 ,\n",
        "         2.43512773,  -0.9889461 ,   0.34742635,  11.3626693 ,\n",
        "         3.25030007,  -0.19485321,  -0.2981379 ,  -3.46074757,\n",
        "         5.62406368,   2.10252588,   3.95893948,   3.81897432,\n",
        "        10.17007015,  -1.71339701,  -4.10199304,  10.29314834,\n",
        "        -0.84210997,   4.66474653,   1.54360089,  -0.48765026,   4.48687112])"
       ]
      }
     ],
     "prompt_number": 41
    },
    {
     "cell_type": "code",
     "collapsed": false,
     "input": [
      "plt.plot(np.array(pcaData[0][2])*pc.components_[2][6] + np.array(pcaData[0][1])*pc.components_[1][6] \\\n",
      "         + np.array(pcaData[0][0])*pc.components_[0][6])"
     ],
     "language": "python",
     "metadata": {},
     "outputs": [
      {
       "metadata": {},
       "output_type": "pyout",
       "prompt_number": 21,
       "text": [
        "[<matplotlib.lines.Line2D at 0x10c896b0>]"
       ]
      },
      {
       "metadata": {},
       "output_type": "display_data",
       "png": "[encoded data removed]",
       "text": [
        "<matplotlib.figure.Figure at 0x13685550>"
       ]
      }
     ],
     "prompt_number": 21
    },
    {
     "cell_type": "code",
     "collapsed": false,
     "input": [
      "stations[6]"
     ],
     "language": "python",
     "metadata": {},
     "outputs": [
      {
       "metadata": {},
       "output_type": "pyout",
       "prompt_number": 20,
       "text": [
        "'CYYZ'"
       ]
      }
     ],
     "prompt_number": 20
    },
    {
     "cell_type": "code",
     "collapsed": false,
     "input": [],
     "language": "python",
     "metadata": {},
     "outputs": []
    }
   ],
   "metadata": {}
  }
 ]
}