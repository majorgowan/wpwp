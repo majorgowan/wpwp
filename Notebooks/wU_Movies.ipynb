{
 "metadata": {
  "name": "",
  "signature": "sha256:9d4b502723a8d1d5e6df3955804d1bc299260698995d097edf0e9ac19bd28f15"
 },
 "nbformat": 3,
 "nbformat_minor": 0,
 "worksheets": [
  {
   "cells": [
    {
     "cell_type": "heading",
     "level": 2,
     "metadata": {},
     "source": [
      "Make frames for animated GIFS"
     ]
    },
    {
     "cell_type": "code",
     "collapsed": false,
     "input": [
      "cd I:/wpwp/Python/"
     ],
     "language": "python",
     "metadata": {},
     "outputs": [
      {
       "output_type": "stream",
       "stream": "stdout",
       "text": [
        "I:\\wpwp\\Python\n"
       ]
      }
     ],
     "prompt_number": 1
    },
    {
     "cell_type": "code",
     "collapsed": false,
     "input": [
      "cd D:/mfruman/Documents/wpwp/Python/"
     ],
     "language": "python",
     "metadata": {},
     "outputs": [
      {
       "output_type": "stream",
       "stream": "stdout",
       "text": [
        "D:\\mfruman\\Documents\\wpwp\\Python\n"
       ]
      }
     ],
     "prompt_number": 1
    },
    {
     "cell_type": "code",
     "collapsed": false,
     "input": [
      "pylab.rcParams['figure.figsize'] = (10.0, 8.0)"
     ],
     "language": "python",
     "metadata": {},
     "outputs": [],
     "prompt_number": 2
    },
    {
     "cell_type": "code",
     "collapsed": false,
     "input": [
      "# load plotting libraries\n",
      "import matplotlib.pyplot as plt\n",
      "from mpl_toolkits.basemap import Basemap\n",
      "\n",
      "# module of routines for retrieving data\n",
      "# and plotting on map\n",
      "import wUMovieFrames as Movie\n",
      "import wUUtils as Util"
     ],
     "language": "python",
     "metadata": {},
     "outputs": [],
     "prompt_number": 3
    },
    {
     "cell_type": "code",
     "collapsed": false,
     "input": [
      "reload(Movie)\n",
      "import os\n",
      "import datetime\n",
      "\n",
      "path = '../TemperatureMovie'\n",
      "# check if station folder exists\n",
      "if not os.path.exists(path):\n",
      "    os.mkdir(path)\n",
      "\n",
      "date_list = Util.dateList('2005-01-01','2005-03-31')\n",
      "startFig = 0\n",
      "\n",
      "figname = path + '/TempMax'\n",
      "contours = range(-31,32,1)\n",
      "for figNum, theDate in enumerate(date_list):\n",
      "    theDateStr = theDate.date().isoformat()\n",
      "    Movie.contourPlotVarOnMapFrame('TempMax',theDateStr, contours, figname=figname, \\\n",
      "                                   frameNum=figNum+startFig, width_fac=18, height_fac=15, \\\n",
      "                                   title='TempMax, %s' % theDateStr, units='deg C')"
     ],
     "language": "python",
     "metadata": {},
     "outputs": [
      {
       "metadata": {},
       "output_type": "display_data",
       "text": [
        "<matplotlib.figure.Figure at 0x13191f50>"
       ]
      },
      {
       "metadata": {},
       "output_type": "display_data",
       "text": [
        "<matplotlib.figure.Figure at 0x16ed4db0>"
       ]
      },
      {
       "metadata": {},
       "output_type": "display_data",
       "text": [
        "<matplotlib.figure.Figure at 0x3864c230>"
       ]
      },
      {
       "metadata": {},
       "output_type": "display_data",
       "text": [
        "<matplotlib.figure.Figure at 0x38f54110>"
       ]
      },
      {
       "metadata": {},
       "output_type": "display_data",
       "text": [
        "<matplotlib.figure.Figure at 0x347aba30>"
       ]
      },
      {
       "metadata": {},
       "output_type": "display_data",
       "text": [
        "<matplotlib.figure.Figure at 0x347a2b70>"
       ]
      },
      {
       "metadata": {},
       "output_type": "display_data",
       "text": [
        "<matplotlib.figure.Figure at 0x39085850>"
       ]
      },
      {
       "metadata": {},
       "output_type": "display_data",
       "text": [
        "<matplotlib.figure.Figure at 0x37ae9310>"
       ]
      },
      {
       "metadata": {},
       "output_type": "display_data",
       "text": [
        "<matplotlib.figure.Figure at 0x392219f0>"
       ]
      },
      {
       "metadata": {},
       "output_type": "display_data",
       "text": [
        "<matplotlib.figure.Figure at 0x38024c90>"
       ]
      },
      {
       "metadata": {},
       "output_type": "display_data",
       "text": [
        "<matplotlib.figure.Figure at 0x3b858e90>"
       ]
      },
      {
       "metadata": {},
       "output_type": "display_data",
       "text": [
        "<matplotlib.figure.Figure at 0x3b640bb0>"
       ]
      },
      {
       "metadata": {},
       "output_type": "display_data",
       "text": [
        "<matplotlib.figure.Figure at 0x39098430>"
       ]
      },
      {
       "metadata": {},
       "output_type": "display_data",
       "text": [
        "<matplotlib.figure.Figure at 0x3b640b50>"
       ]
      },
      {
       "metadata": {},
       "output_type": "display_data",
       "text": [
        "<matplotlib.figure.Figure at 0x3b640c30>"
       ]
      },
      {
       "metadata": {},
       "output_type": "display_data",
       "text": [
        "<matplotlib.figure.Figure at 0x3b640c70>"
       ]
      },
      {
       "metadata": {},
       "output_type": "display_data",
       "text": [
        "<matplotlib.figure.Figure at 0x258e9950>"
       ]
      },
      {
       "metadata": {},
       "output_type": "display_data",
       "text": [
        "<matplotlib.figure.Figure at 0x3b640cf0>"
       ]
      },
      {
       "metadata": {},
       "output_type": "display_data",
       "text": [
        "<matplotlib.figure.Figure at 0x3b640d30>"
       ]
      },
      {
       "metadata": {},
       "output_type": "display_data",
       "text": [
        "<matplotlib.figure.Figure at 0x114a81d0>"
       ]
      },
      {
       "metadata": {},
       "output_type": "display_data",
       "text": [
        "<matplotlib.figure.Figure at 0x3b640d50>"
       ]
      },
      {
       "metadata": {},
       "output_type": "display_data",
       "text": [
        "<matplotlib.figure.Figure at 0x2fbeb550>"
       ]
      },
      {
       "metadata": {},
       "output_type": "display_data",
       "text": [
        "<matplotlib.figure.Figure at 0x8e33bb0>"
       ]
      },
      {
       "metadata": {},
       "output_type": "display_data",
       "text": [
        "<matplotlib.figure.Figure at 0x35ffbdd0>"
       ]
      },
      {
       "metadata": {},
       "output_type": "display_data",
       "text": [
        "<matplotlib.figure.Figure at 0x12ef3430>"
       ]
      },
      {
       "metadata": {},
       "output_type": "display_data",
       "text": [
        "<matplotlib.figure.Figure at 0x35ffbd10>"
       ]
      },
      {
       "metadata": {},
       "output_type": "display_data",
       "text": [
        "<matplotlib.figure.Figure at 0x35ffb090>"
       ]
      },
      {
       "metadata": {},
       "output_type": "display_data",
       "text": [
        "<matplotlib.figure.Figure at 0x23771a10>"
       ]
      },
      {
       "metadata": {},
       "output_type": "display_data",
       "text": [
        "<matplotlib.figure.Figure at 0x15211e10>"
       ]
      },
      {
       "metadata": {},
       "output_type": "display_data",
       "text": [
        "<matplotlib.figure.Figure at 0x14fd71d0>"
       ]
      },
      {
       "metadata": {},
       "output_type": "display_data",
       "text": [
        "<matplotlib.figure.Figure at 0x3881fab0>"
       ]
      },
      {
       "metadata": {},
       "output_type": "display_data",
       "text": [
        "<matplotlib.figure.Figure at 0x90d7390>"
       ]
      },
      {
       "metadata": {},
       "output_type": "display_data",
       "text": [
        "<matplotlib.figure.Figure at 0x3881f8d0>"
       ]
      },
      {
       "metadata": {},
       "output_type": "display_data",
       "text": [
        "<matplotlib.figure.Figure at 0x3881f9b0>"
       ]
      },
      {
       "metadata": {},
       "output_type": "display_data",
       "text": [
        "<matplotlib.figure.Figure at 0x16dde0f0>"
       ]
      },
      {
       "metadata": {},
       "output_type": "display_data",
       "text": [
        "<matplotlib.figure.Figure at 0x14b9df70>"
       ]
      },
      {
       "metadata": {},
       "output_type": "display_data",
       "text": [
        "<matplotlib.figure.Figure at 0x10cc60f0>"
       ]
      },
      {
       "metadata": {},
       "output_type": "display_data",
       "text": [
        "<matplotlib.figure.Figure at 0x16ddef10>"
       ]
      },
      {
       "metadata": {},
       "output_type": "display_data",
       "text": [
        "<matplotlib.figure.Figure at 0x1c0d6330>"
       ]
      },
      {
       "metadata": {},
       "output_type": "display_data",
       "text": [
        "<matplotlib.figure.Figure at 0x10e09a70>"
       ]
      },
      {
       "metadata": {},
       "output_type": "display_data",
       "text": [
        "<matplotlib.figure.Figure at 0x35675f30>"
       ]
      },
      {
       "metadata": {},
       "output_type": "display_data",
       "text": [
        "<matplotlib.figure.Figure at 0x10e205d0>"
       ]
      },
      {
       "metadata": {},
       "output_type": "display_data",
       "text": [
        "<matplotlib.figure.Figure at 0x35e7c570>"
       ]
      },
      {
       "metadata": {},
       "output_type": "display_data",
       "text": [
        "<matplotlib.figure.Figure at 0x14fa4f30>"
       ]
      },
      {
       "metadata": {},
       "output_type": "display_data",
       "text": [
        "<matplotlib.figure.Figure at 0x1a063810>"
       ]
      },
      {
       "metadata": {},
       "output_type": "display_data",
       "text": [
        "<matplotlib.figure.Figure at 0x3493c950>"
       ]
      },
      {
       "metadata": {},
       "output_type": "display_data",
       "text": [
        "<matplotlib.figure.Figure at 0x2c925e10>"
       ]
      },
      {
       "metadata": {},
       "output_type": "display_data",
       "text": [
        "<matplotlib.figure.Figure at 0x1ab21cb0>"
       ]
      },
      {
       "metadata": {},
       "output_type": "display_data",
       "text": [
        "<matplotlib.figure.Figure at 0x1cba8df0>"
       ]
      },
      {
       "metadata": {},
       "output_type": "display_data",
       "text": [
        "<matplotlib.figure.Figure at 0x2c19e190>"
       ]
      },
      {
       "metadata": {},
       "output_type": "display_data",
       "text": [
        "<matplotlib.figure.Figure at 0x14b9deb0>"
       ]
      },
      {
       "metadata": {},
       "output_type": "display_data",
       "text": [
        "<matplotlib.figure.Figure at 0x1ff54930>"
       ]
      },
      {
       "metadata": {},
       "output_type": "display_data",
       "text": [
        "<matplotlib.figure.Figure at 0x1af62810>"
       ]
      },
      {
       "metadata": {},
       "output_type": "display_data",
       "text": [
        "<matplotlib.figure.Figure at 0x309b8b10>"
       ]
      },
      {
       "metadata": {},
       "output_type": "display_data",
       "text": [
        "<matplotlib.figure.Figure at 0x35675ef0>"
       ]
      },
      {
       "metadata": {},
       "output_type": "display_data",
       "text": [
        "<matplotlib.figure.Figure at 0x185d28f0>"
       ]
      },
      {
       "metadata": {},
       "output_type": "display_data",
       "text": [
        "<matplotlib.figure.Figure at 0x1aa41a90>"
       ]
      },
      {
       "metadata": {},
       "output_type": "display_data",
       "text": [
        "<matplotlib.figure.Figure at 0x3677fa30>"
       ]
      },
      {
       "metadata": {},
       "output_type": "display_data",
       "text": [
        "<matplotlib.figure.Figure at 0x36a88370>"
       ]
      },
      {
       "metadata": {},
       "output_type": "display_data",
       "text": [
        "<matplotlib.figure.Figure at 0x36b3be70>"
       ]
      },
      {
       "metadata": {},
       "output_type": "display_data",
       "text": [
        "<matplotlib.figure.Figure at 0x36f5b2d0>"
       ]
      },
      {
       "metadata": {},
       "output_type": "display_data",
       "text": [
        "<matplotlib.figure.Figure at 0x364b7610>"
       ]
      },
      {
       "metadata": {},
       "output_type": "display_data",
       "text": [
        "<matplotlib.figure.Figure at 0x33eecf90>"
       ]
      },
      {
       "metadata": {},
       "output_type": "display_data",
       "text": [
        "<matplotlib.figure.Figure at 0x34336cf0>"
       ]
      },
      {
       "metadata": {},
       "output_type": "display_data",
       "text": [
        "<matplotlib.figure.Figure at 0x219e40d0>"
       ]
      },
      {
       "metadata": {},
       "output_type": "display_data",
       "text": [
        "<matplotlib.figure.Figure at 0x23074570>"
       ]
      },
      {
       "metadata": {},
       "output_type": "display_data",
       "text": [
        "<matplotlib.figure.Figure at 0x14a6b710>"
       ]
      },
      {
       "metadata": {},
       "output_type": "display_data",
       "text": [
        "<matplotlib.figure.Figure at 0x2f0d5870>"
       ]
      },
      {
       "metadata": {},
       "output_type": "display_data",
       "text": [
        "<matplotlib.figure.Figure at 0x2c27af30>"
       ]
      }
     ],
     "prompt_number": 8
    },
    {
     "cell_type": "code",
     "collapsed": false,
     "input": [],
     "language": "python",
     "metadata": {},
     "outputs": []
    },
    {
     "cell_type": "code",
     "collapsed": false,
     "input": [],
     "language": "python",
     "metadata": {},
     "outputs": []
    },
    {
     "cell_type": "heading",
     "level": 3,
     "metadata": {},
     "source": [
      "Frames of PC components"
     ]
    },
    {
     "cell_type": "code",
     "collapsed": false,
     "input": [
      "import wUPCA\n",
      "import wUMovieFrames as Movie\n",
      "reload(Movie)\n",
      "import os\n",
      "import datetime\n",
      "\n",
      "path = '../TemperatureMovie_PC'\n",
      "# check if station folder exists\n",
      "if not os.path.exists(path):\n",
      "    os.mkdir(path)\n",
      "\n",
      "startDate, endDate = '2005-01-01', '2010-12-31'\n",
      "features = ['TempMax']\n",
      "ncomp = [3]\n",
      "stations = Util.getStationList()\n",
      "\n",
      "# load feature data and compute PC\n",
      "pcaData, transformParams = wUPCA.pcaConvert(stations, features, startDate, endDate, ncomp)\n",
      "pc = transformParams['pcas'][0]\n",
      "scaler = transformParams['scalers'][0]\n",
      "\n",
      "date_list = Util.dateList('2005-01-01','2005-03-31')\n",
      "startFig = 0\n",
      "\n",
      "figname = path + '/TempMax_PC'\n",
      "contours = range(-31,32,1)\n",
      "for figNum, theDate in enumerate(date_list):\n",
      "    theDateStr = theDate.date().isoformat()\n",
      "    data0 = scaler.inverse_transform(pcaData[0][0][figNum+startFig]*pc.components_[0])\n",
      "    data1 = scaler.inverse_transform(pcaData[0][1][figNum+startFig]*pc.components_[1])\n",
      "    data2 = scaler.inverse_transform(pcaData[0][2][figNum+startFig]*pc.components_[2])\n",
      "    \n",
      "    data = scaler.inverse_transform(np.array(pcaData[0][0][figNum+startFig]*pc.components_[0]) \\\n",
      "                                    + np.array(pcaData[0][1][figNum+startFig]*pc.components_[1]) \\\n",
      "                                    + np.array(pcaData[0][2][figNum+startFig]*pc.components_[2]))\n",
      "    \n",
      "    Movie.VariableWithInset(data, [data0,data1,data2], \\\n",
      "                            contours, npts = 20, \\\n",
      "                            figname=figname, frameNum=figNum+startFig, \\\n",
      "                            title='TempMax, %s' % theDateStr, units='deg C', \\\n",
      "                            width_fac=16, height_fac=12)"
     ],
     "language": "python",
     "metadata": {},
     "outputs": [
      {
       "output_type": "stream",
       "stream": "stdout",
       "text": [
        "\n",
        "main axes:\n",
        "[  4.47489361   2.45892982  -5.4401743   -1.7107839    3.18357156\n",
        " -10.09944133   6.37848728  21.3210356   11.80411895   8.84109659\n",
        "  12.01370589  23.95485709  16.27272137   3.47589519   9.03698836\n",
        "   0.76332098  19.12639342  13.73303202  13.69608089   8.81219452\n",
        "  21.53822379   4.41335875  -2.13378982  15.51034709   6.43342007\n",
        "  16.88400086  14.73544405   9.30677314  14.08388394]\n",
        "\n",
        "main axes:"
       ]
      },
      {
       "output_type": "stream",
       "stream": "stdout",
       "text": [
        "\n",
        "[  0.96462967  -1.88013426  -5.87445591  -4.40196194  -1.28736078\n",
        "  -9.81046849   3.08093894  22.40303558   7.64954329   5.48512233\n",
        "   9.88209415  23.24388964  16.23151836   5.76287816   7.34421336\n",
        "   0.50556737  16.38358282  14.21682641  10.44803045  12.03809001\n",
        "  23.27134631   4.36128662  -1.0872786   18.46626732   6.90426781\n",
        "  13.3680406   12.38581756   5.51003203  16.42241627]\n",
        "\n",
        "main axes:"
       ]
      },
      {
       "output_type": "stream",
       "stream": "stdout",
       "text": [
        "\n",
        "[  2.09329166  -0.32557609 -12.62527297  -6.31888437   0.72305584\n",
        " -19.35391325   3.91988924  18.94501751  11.4931289    7.18671701\n",
        "  10.1995857   23.61272878  13.77819551  -4.42279481   5.86101955\n",
        "  -5.52171807  19.03969612  10.21900509  13.00709318   1.56072008\n",
        "  18.37493714  -0.78837048 -10.49609432   9.59470863   0.97980017\n",
        "  16.75419145  13.81845566   7.90571909   8.90429613]\n",
        "\n",
        "main axes:"
       ]
      },
      {
       "output_type": "stream",
       "stream": "stdout",
       "text": [
        "\n",
        "[ -0.33329036  -3.14620029 -14.97070555  -8.96745604  -2.06053174\n",
        " -21.94616524   1.44841626  17.60405919   9.2749048    4.80382067\n",
        "   8.03911288  22.29459371  12.01484933  -6.27650495   3.6260101\n",
        "  -7.79741244  17.04240269   8.43859775  10.95360323   0.11214158\n",
        "  17.13941278  -2.82172925 -12.77260732   8.43338637  -1.04124212\n",
        "  14.58339976  11.73180044   5.45218698   7.41306683]\n",
        "\n",
        "main axes:"
       ]
      },
      {
       "output_type": "stream",
       "stream": "stdout",
       "text": [
        "\n",
        "[ -4.41827703  -7.96861876 -17.58523847 -12.89992529  -6.90243619\n",
        " -24.48492613  -2.62782034  16.33172188   5.08499109   0.75326601\n",
        "   4.66313485  20.33373303   9.85330436  -7.36085498   0.4081294\n",
        " -10.35231743  13.54293075   6.50532178   7.28816682  -0.21103433\n",
        "  16.27586859  -5.092239   -14.74785444   8.29217838  -3.11802149\n",
        "  10.62701189   8.30593557   1.15276156   6.57371245]\n",
        "\n",
        "main axes:"
       ]
      },
      {
       "output_type": "stream",
       "stream": "stdout",
       "text": [
        "\n",
        "[ -2.74067025  -5.36257896 -15.83759599 -10.82956864  -4.30216592\n",
        " -22.4542295   -1.54736645  11.4775086    6.11895706   1.14852272\n",
        "   3.2702324   16.89410678   6.09584789  -9.05940559  -0.32844085\n",
        " -10.08893017  11.74696207   2.92682524   7.38921435  -3.42656586\n",
        "  11.47205498  -5.91497963 -14.54587991   4.96550301  -4.78499917\n",
        "  10.03423724   6.41386731   1.93781807   2.22239321]\n",
        "\n",
        "main axes:"
       ]
      },
      {
       "output_type": "stream",
       "stream": "stdout",
       "text": [
        "\n",
        "[ -1.91310788  -4.00441073 -11.21531773  -8.2443653   -3.16583327\n",
        " -16.27939108  -1.0467417    9.36605155   5.15062305   0.70325113\n",
        "   2.08308687  14.06758551   4.37200298  -5.50390952  -0.14703879\n",
        "  -6.9690124    9.13121961   2.07637706   6.29980145  -0.9245049\n",
        "  10.08056571  -4.06417503  -9.86792811   6.61172165  -3.22470211\n",
        "   8.01381278   4.3062841    1.46843703   2.43459824]\n",
        "\n",
        "main axes:"
       ]
      },
      {
       "output_type": "stream",
       "stream": "stdout",
       "text": [
        "\n",
        "[ -1.23557282  -3.3092005  -10.68897908  -7.58399485  -2.47721559\n",
        " -15.7413768   -0.26934178  10.52699883   5.88239266   1.55968794\n",
        "   3.09799592  15.06727126   5.54477452  -4.70649445   0.77462781\n",
        "  -6.2419193   10.17684182   3.20771046   7.08816017  -0.06111678\n",
        "  11.17456679  -3.25675661  -9.17905429   7.40656733  -2.30953842\n",
        "   8.9588827    5.38213618   2.30411392   3.52126274]\n",
        "\n",
        "main axes:"
       ]
      },
      {
       "output_type": "stream",
       "stream": "stdout",
       "text": [
        "\n",
        "[ -2.09892504  -4.76435414  -6.9662633   -6.78517641  -4.20704167\n",
        " -10.44773435  -0.67013985  15.17401508   3.67294329   0.95198117\n",
        "   4.09263796  16.78997656   9.18691413   2.54072865   2.53858796\n",
        "  -2.26352791   9.94468694   7.67904397   6.03393464   7.9732201\n",
        "  16.61900021   0.65718359  -3.1807918   14.47791861   2.454913\n",
        "   7.77285959   5.93724885   1.12150761  10.35841221]\n",
        "\n",
        "main axes:"
       ]
      },
      {
       "output_type": "stream",
       "stream": "stdout",
       "text": [
        "\n",
        "[  0.51475677  -1.80121812  -9.75965721  -6.13696815  -0.97282988\n",
        " -14.97144898   2.01104834  15.9719098    8.13463201   4.37213854\n",
        "   7.00523582  19.62490319  10.69120321  -1.81096025   4.0775707\n",
        "  -4.10231863  14.41075014   8.09695306   9.80314299   3.56472223\n",
        "  16.32418133  -0.44312297  -7.27067214  10.89810085   1.12747858\n",
        "  12.46927434   9.7060864    4.93868149   8.39573333]\n",
        "\n",
        "main axes:"
       ]
      },
      {
       "output_type": "stream",
       "stream": "stdout",
       "text": [
        "\n",
        "[ -4.29868084  -7.90378827 -12.89379517 -10.91270191  -7.11268539\n",
        " -18.0780572   -2.38943103  18.18254633   3.50714504   0.39764389\n",
        "   4.87484245  20.09653631  11.33682615  -1.14524075   1.75322959\n",
        "  -6.25083658  12.31199031   8.91008819   6.32142306   5.91839319\n",
        "  18.94252525  -1.6727671   -8.68478815  13.40423984   0.66301914\n",
        "   9.1373986    7.79938167   0.4506757   10.87585912]\n",
        "\n",
        "main axes:"
       ]
      },
      {
       "output_type": "stream",
       "stream": "stdout",
       "text": [
        "\n",
        "[  3.1735279    0.8523614   -3.35560112  -1.78633356   1.39561694\n",
        "  -6.90704097   5.17628525  22.257201     9.40942958   7.29234533\n",
        "  11.10618989  23.28915199  16.64967759   7.14513191   8.88010009\n",
        "   2.5425065   17.27360594  14.76459354  11.89247544  12.72482386\n",
        "  23.1245807    5.88734978   1.08476318  18.83729661   8.22957497\n",
        "  14.67719448  13.37136136   7.4433766   16.70461128]\n",
        "\n",
        "main axes:"
       ]
      },
      {
       "output_type": "stream",
       "stream": "stdout",
       "text": [
        "\n",
        "[  9.7945432    8.92982475  -6.68692119   1.55588346   9.96241872\n",
        " -13.16479402  11.45739713  20.14019864  18.89594431  14.37928058\n",
        "  15.79587252  26.05323402  16.78753058  -1.89029655  11.56557583\n",
        "  -0.21409844  24.48369642  13.03984739  19.32867922   2.30527761\n",
        "  19.00810401   3.58872426  -5.88041552   9.8064651    4.83988125\n",
        "  23.2994093   19.23380749  15.58632572   9.91308777]\n",
        "\n",
        "main axes:"
       ]
      },
      {
       "output_type": "stream",
       "stream": "stdout",
       "text": [
        "\n",
        "[  2.29139009   1.12593928 -18.26721513  -8.14757457   2.56675725\n",
        " -27.03498713   2.8919984    6.79680012  13.04933832   5.86282809\n",
        "   5.29475951  16.67052909   3.55537568 -17.4701616    0.50425406\n",
        " -12.85262527  15.52118449  -0.93301202  12.32895296 -13.54988592\n",
        "   5.34378155  -8.82595314 -20.52625907  -4.06335874  -8.96844729\n",
        "  15.45776556   9.08509729   7.63400633  -5.77942596]\n",
        "\n",
        "main axes:"
       ]
      },
      {
       "output_type": "stream",
       "stream": "stdout",
       "text": [
        "\n",
        "[ -7.11821329 -10.07886471 -20.34808416 -15.61585655  -8.9196693\n",
        " -27.47738931  -6.36569815   5.69268319   1.96720202  -3.81347418\n",
        "  -2.24765771  12.10895993   0.02821879 -14.53628225  -5.72932462\n",
        " -15.2309197    6.47098438  -3.14856656   3.02980875  -8.85843028\n",
        "   5.88353707 -11.08168097 -19.87391493   0.17738452 -10.42398599\n",
        "   5.07077778   0.83345454  -2.93439717  -3.79746703]\n",
        "\n",
        "main axes:"
       ]
      },
      {
       "output_type": "stream",
       "stream": "stdout",
       "text": [
        "\n",
        "[ -8.09689379e+00  -1.08217639e+01  -1.91904481e+01  -1.57079525e+01\n",
        "  -9.75541644e+00  -2.55936257e+01  -7.72032919e+00   2.17301914e+00\n",
        "   1.69320275e-03  -5.79944848e+00  -4.95347601e+00   8.60867555e+00\n",
        "  -3.30886263e+00  -1.45204296e+01  -7.57204253e+00  -1.52400218e+01\n",
        "   3.00810116e+00  -5.97700891e+00   8.70579407e-01  -9.51442965e+00\n",
        "   2.84942775e+00  -1.18876275e+01  -1.90572164e+01  -7.48945116e-01\n",
        "  -1.16095531e+01   2.12574718e+00  -2.45029435e+00  -4.88126609e+00\n",
        "  -6.03812855e+00]\n",
        "\n",
        "main axes:"
       ]
      },
      {
       "output_type": "stream",
       "stream": "stdout",
       "text": [
        "\n",
        "[-10.8148551  -13.85884367 -18.17120933 -17.14320371 -12.96121511\n",
        " -23.47554294 -10.56968279   0.48639054  -3.95219729  -9.18693305\n",
        "  -8.08582883   5.6946993   -5.55314735 -12.5843804   -9.72955896\n",
        " -15.00135483  -1.15374966  -7.46789409  -2.63578601  -7.51774426\n",
        "   1.96287844 -12.15953925 -17.28837342   0.80179539 -11.81213602\n",
        "  -2.14281086  -6.18749272  -8.53009921  -5.85421882]\n",
        "\n",
        "main axes:"
       ]
      },
      {
       "output_type": "stream",
       "stream": "stdout",
       "text": [
        "\n",
        "[-12.40531398 -15.8526402   -8.91588173 -14.49143049 -15.57399089\n",
        " -10.3616998  -11.94329222   3.55198732  -9.40605183 -11.92084408\n",
        "  -9.38499715   3.9207176   -3.64275971   0.50220329  -8.38695338\n",
        "  -7.14822604  -5.74102157  -3.39137929  -6.55916975   5.62206103\n",
        "   7.0386338   -5.76889987  -4.81455213  11.7689398   -4.59762989\n",
        "  -7.42450937  -9.14326094 -12.1197541    2.89218096]\n",
        "\n",
        "main axes:"
       ]
      },
      {
       "output_type": "stream",
       "stream": "stdout",
       "text": [
        "\n",
        "[ -7.01220667 -10.16020945  -7.25804569 -10.22862515  -9.77795741\n",
        "  -9.54162442  -5.93259513  10.76372007  -2.72870838  -5.06336455\n",
        "  -1.88094474  11.26934395   4.02354134   2.89840153  -2.14765801\n",
        "  -3.82159637   2.75645812   3.46116572   0.07661149   8.3593494\n",
        "  13.28120214  -1.59298642  -2.89818086  14.53626853   0.08442285\n",
        "   0.61531149  -0.83526955  -5.17125186   8.21969762]\n",
        "\n",
        "main axes:"
       ]
      },
      {
       "output_type": "stream",
       "stream": "stdout",
       "text": [
        "\n",
        "[-10.7335393  -15.14931917 -11.60642375 -14.78844959 -14.69349272\n",
        " -14.61546111  -9.09361807  14.40067066  -5.3882141   -7.36774192\n",
        "  -2.24469859  13.75631559   6.23920946   2.28301612  -3.40026529\n",
        "  -6.50882832   3.13597313   5.35392344  -1.57348268   9.64425917\n",
        "  16.84165282  -2.87432661  -5.78965738  16.30827883  -0.36917094\n",
        "  -0.34715881  -0.52855734  -7.88647818  10.88432061]\n",
        "\n",
        "main axes:"
       ]
      },
      {
       "output_type": "stream",
       "stream": "stdout",
       "text": [
        "\n",
        "[-16.24044743 -21.45819795 -13.79273787 -19.48560112 -21.09966521\n",
        " -16.18020164 -14.75981856  11.31272242 -11.67725772 -13.36925888\n",
        "  -7.70399796   9.61334078   2.10401118   1.58908418  -8.12960687\n",
        "  -9.24771171  -2.99085684   1.84171954  -7.24608737   9.55573075\n",
        "  14.57762922  -5.71830385  -7.21113241  16.20905521  -3.12088394\n",
        "  -6.81369217  -6.40334074 -14.21190499   9.20261268]\n",
        "\n",
        "main axes:"
       ]
      },
      {
       "output_type": "stream",
       "stream": "stdout",
       "text": [
        "\n",
        "[-13.27030666 -17.89042385 -14.70848099 -17.76475366 -17.34886035\n",
        " -18.19793654 -11.88295294  10.99930271  -7.6031307  -10.1626817\n",
        "  -5.38347205  11.12086094   2.69560242  -1.46793729  -6.60568366\n",
        "  -9.87983319   0.29653896   1.70417223  -3.95453423   5.95639737\n",
        "  13.46399918  -6.16633364  -9.47496081  13.09771822  -3.95300775\n",
        "  -3.00341636  -3.61692477 -10.60055011   7.07794223]\n",
        "\n",
        "main axes:"
       ]
      },
      {
       "output_type": "stream",
       "stream": "stdout",
       "text": [
        "\n",
        "[-11.30593477 -14.34974291 -11.16082416 -14.58456088 -13.8832299\n",
        " -13.70893792 -11.07227131   1.35109641  -7.29952383 -10.82199779\n",
        "  -9.23470361   3.60543102  -5.15938472  -3.90478852  -8.87009311\n",
        "  -9.37056718  -4.69297102  -5.52864402  -5.19260268   0.7577523\n",
        "   4.22272504  -7.85109744  -8.48460652   7.52961139  -7.16743606\n",
        "  -5.82068144  -8.62143201 -10.64464928  -0.9207989 ]\n",
        "\n",
        "main axes:"
       ]
      },
      {
       "output_type": "stream",
       "stream": "stdout",
       "text": [
        "\n",
        "[ -6.85403231  -9.61098788  -3.38347198  -8.42419523  -9.43569237\n",
        "  -4.22329382  -6.08513145   8.53095916  -4.24945192  -6.0943802\n",
        "  -3.52371754   8.30027564   2.0301526    5.96324268  -2.49563169\n",
        "  -1.34712999  -0.22594685   2.3092105   -1.49211219  10.54495359\n",
        "  11.77445489  -0.26159284   1.09665549  15.96166642   1.16249346\n",
        "  -1.86760523  -3.34123576  -6.25547277   8.19898672]\n",
        "\n",
        "main axes:"
       ]
      },
      {
       "output_type": "stream",
       "stream": "stdout",
       "text": [
        "\n",
        "[ -6.75799172 -10.44085119  -4.39732984  -9.04265845 -10.2408363\n",
        "  -5.73476976  -5.09493338  16.65315365  -3.09301605  -4.07905165\n",
        "   0.74910552  14.75696023   9.07403154   9.14653239   0.67052527\n",
        "  -0.15173528   4.75290994   8.92442905   0.72706606  15.52894097\n",
        "  19.5471486    2.39863164   1.98687571  21.0090943    4.96766595\n",
        "   1.59264656   1.72615042  -4.66390209  15.25253694]\n",
        "\n",
        "main axes:"
       ]
      },
      {
       "output_type": "stream",
       "stream": "stdout",
       "text": [
        "\n",
        "[ -7.91473823 -12.0083598  -12.23039607 -13.12473085 -11.4034909\n",
        " -16.21801746  -6.1258097   16.33454894  -1.44608751  -3.89600197\n",
        "   1.02163656  16.76154198   8.71249612   0.86327783  -1.03956217\n",
        "  -6.37494304   7.33490109   7.132587     1.96538098   8.15870553\n",
        "  18.02320218  -2.27190534  -7.05675531  15.18995534   0.19791307\n",
        "   3.93419645   3.29858615  -4.17776146  11.10866968]\n",
        "\n",
        "main axes:"
       ]
      },
      {
       "output_type": "stream",
       "stream": "stdout",
       "text": [
        "\n",
        "[-13.23609606 -17.37148986 -13.92137228 -17.28099699 -16.85504076\n",
        " -17.07778768 -12.3003859    6.95850978  -8.18821519 -11.13232273\n",
        "  -7.4933059    7.84690843  -0.79427852  -2.78400517  -8.09993341\n",
        " -10.250624    -2.23921083  -1.52791599  -5.06424313   3.70144056\n",
        "   9.63217986  -7.32310654  -9.60916075  10.75934717  -5.68178734\n",
        "  -4.7663603   -6.16548463 -11.36504839   3.68963739]\n",
        "\n",
        "main axes:"
       ]
      },
      {
       "output_type": "stream",
       "stream": "stdout",
       "text": [
        "\n",
        "[ -7.3377697  -10.05173702  -6.87330374 -10.15776189  -9.68556137\n",
        "  -8.88008818  -6.72442022   6.44212757  -3.62724916  -6.39355059\n",
        "  -4.34242501   7.75837305   0.20335577   1.20161565  -4.0121212\n",
        "  -4.5921895   -0.09222794  -0.1132684   -1.3382231    5.77167774\n",
        "   9.17546172  -3.11500084  -3.45692839  11.92094607  -2.02089712\n",
        "  -1.47175195  -3.72045927  -6.29894146   4.50259041]\n",
        "\n",
        "main axes:"
       ]
      },
      {
       "output_type": "stream",
       "stream": "stdout",
       "text": [
        "\n",
        "[-2.28785514 -3.98287371 -5.26908959 -5.93379362 -3.49203016 -7.96744625\n",
        " -1.80445214  6.66299191  2.09688343 -1.37029854 -0.56179743  9.75582738\n",
        "  1.7618375  -0.02394401 -0.75829197 -3.02765279  4.32060678  0.85301957\n",
        "  3.41441904  3.4768043   8.6112607  -1.77435817 -3.32108574  9.77217991\n",
        " -1.15260592  3.73512815  0.32338189 -0.80041431  3.35953362]\n",
        "\n",
        "main axes:"
       ]
      },
      {
       "output_type": "stream",
       "stream": "stdout",
       "text": [
        "\n",
        "[ -0.7662429   -2.18106091  -4.18709848  -4.42304984  -1.68911254\n",
        "  -6.87271598  -0.29031859   7.11469262   3.61271535   0.11362616\n",
        "   0.66628995  10.43112485   2.54459498   0.48987375   0.44393198\n",
        "  -1.99741148   5.55803203   1.57406043   4.74028388   3.69188766\n",
        "   8.93119945  -0.87582313  -2.46169986   9.89705224  -0.32701731\n",
        "   5.14848175   1.54843631   0.77181679   3.71135451]\n",
        "\n",
        "main axes:"
       ]
      },
      {
       "output_type": "stream",
       "stream": "stdout",
       "text": [
        "\n",
        "[ -1.65455882  -2.97073683  -2.15423525  -4.13656706  -2.62584806\n",
        "  -3.82509258  -1.39943095   5.18419074   1.53504134  -1.60325274\n",
        "  -1.33044488   7.84544628   0.5732827    2.2945899   -0.6136168\n",
        "  -0.93486749   2.60411227   0.24054128   2.74603424   5.05922143\n",
        "   7.60242527  -0.54433558  -0.21105898  10.78630232  -0.13455877\n",
        "   2.44242796  -1.06150048  -1.03766212   3.41618131]\n",
        "\n",
        "main axes:"
       ]
      },
      {
       "output_type": "stream",
       "stream": "stdout",
       "text": [
        "\n",
        "[ -1.03704438  -2.62340643  -2.7915188   -4.07493578  -2.23048282\n",
        "  -4.89779485  -0.42728452   8.50367245   2.82342306  -0.13402363\n",
        "   0.90545712  10.83911254   3.62108034   2.98301355   0.9961688\n",
        "  -0.58920485   5.33417479   2.96030464   4.32159637   6.39525323\n",
        "  10.61391032   0.45447862  -0.32537413  12.25150923   1.26525042\n",
        "   4.64158439   1.60257354   0.33588474   5.91797695]\n",
        "\n",
        "main axes:"
       ]
      },
      {
       "output_type": "stream",
       "stream": "stdout",
       "text": [
        "\n",
        "[  0.78261937  -0.30239097  -1.15590759  -2.08052146   0.07859508\n",
        "  -3.1026743    1.22729496   7.65490315   4.3919011    1.28174122\n",
        "   1.62758657  10.49036597   3.3521279    3.23265978   1.92149605\n",
        "   0.5700243    5.89489419   2.72329283   5.49084628   5.96025386\n",
        "   9.69515617   1.1711666    0.7457039   11.66376952   1.70095105\n",
        "   5.67747529   2.15585972   1.92266039   5.21883523]\n",
        "\n",
        "main axes:"
       ]
      },
      {
       "output_type": "stream",
       "stream": "stdout",
       "text": [
        "\n",
        "[  1.46421711   0.57798266   3.88501175   0.48699664   0.69349872\n",
        "   3.65455371   1.88045373   8.33073859   3.28966119   1.19837555\n",
        "   1.63645086   9.52106913   3.97211822   8.85679875   3.17191532\n",
        "   4.68629086   4.42342689   4.2638014    4.73314372  11.10850096\n",
        "  11.151987     4.35999017   6.71263326  15.79843084   5.02863835\n",
        "   4.26257656   1.35601294   1.60879566   8.35752616]\n",
        "\n",
        "main axes:"
       ]
      },
      {
       "output_type": "stream",
       "stream": "stdout",
       "text": [
        "\n",
        "[  2.11242208   0.87215782   5.16090843   1.32971557   0.92033865\n",
        "   5.19345284   2.98777691  12.91829545   3.95175731   2.61278266\n",
        "   4.198946    12.79170894   8.06134056  12.36848141   5.52343675\n",
        "   6.8286019    6.90971276   8.39150263   6.00928561  15.34481654\n",
        "  15.75924997   6.95630982   9.21267078  19.73715019   8.24979157\n",
        "   6.01354597   4.08954411   2.75331076  13.1058882 ]\n",
        "\n",
        "main axes:"
       ]
      },
      {
       "output_type": "stream",
       "stream": "stdout",
       "text": [
        "\n",
        "[  4.13225401   2.8875156    3.47319871   1.94547084   3.10595501\n",
        "   2.31733506   5.32785899  16.08331472   7.40980997   5.7097119\n",
        "   7.63249737  16.7126659   11.40158207  10.91304639   7.77909105\n",
        "   6.39409718  11.49778296  10.92942991   9.33503559  14.33957941\n",
        "  18.12351471   7.38859573   7.28751618  19.22236426   8.88683315\n",
        "  10.30979668   8.28499518   5.97883012  14.2546128 ]\n",
        "\n",
        "main axes:"
       ]
      },
      {
       "output_type": "stream",
       "stream": "stdout",
       "text": [
        "\n",
        "[  4.89344664   3.78079458   0.66697123   1.32512873   4.19709474\n",
        "  -1.73475733   6.05985567  15.55613129   9.44530995   6.91554212\n",
        "   8.44367265  17.68303285  11.24667377   6.98822706   7.69651368\n",
        "   4.12560442  13.38688358  10.05688266  10.90173506  10.43079393\n",
        "  16.9202484    5.62970216   3.50956482  15.99144852   6.90663318\n",
        "  12.3790509    9.65803948   7.45161754  11.85817209]\n",
        "\n",
        "main axes:"
       ]
      },
      {
       "output_type": "stream",
       "stream": "stdout",
       "text": [
        "\n",
        "[  4.09816488   2.72510213  -5.15145034  -1.65280019   3.44622972\n",
        "  -9.53492997   5.32571119  15.03550717  10.72696591   7.05796794\n",
        "   8.55533588  18.9909989   10.75182109   0.642099     6.35123041\n",
        "  -0.56281269  15.21640557   8.49478968  11.82483386   4.69054493\n",
        "  15.49551994   2.0517051   -3.30622187  11.41516705   3.20690334\n",
        "  14.09337229  10.72129199   7.8435204    8.48387002]\n",
        "\n",
        "main axes:"
       ]
      },
      {
       "output_type": "stream",
       "stream": "stdout",
       "text": [
        "\n",
        "[  2.50567277   0.89477855  -9.80928206  -4.66488858   1.82520517\n",
        " -15.51853613   3.65289202  13.20309905  10.44159257   5.87265705\n",
        "   7.19658895  18.52849448   8.86981028  -4.60575158   4.14765244\n",
        "  -4.71085444  14.95383188   5.96787582  11.26340513  -0.19038052\n",
        "  13.16818855  -1.43987326  -8.78640644   7.40126846  -0.48513724\n",
        "  13.84968078   9.9174271    6.83447864   4.87221648]\n",
        "\n",
        "main axes:"
       ]
      },
      {
       "output_type": "stream",
       "stream": "stdout",
       "text": [
        "\n",
        "[  0.17292262  -1.53177161 -10.23218773  -6.37780989  -0.66204318\n",
        " -15.46554938   1.02170125   9.84015547   7.4170441    2.79994314\n",
        "   3.7799652   15.06360814   5.33540546  -5.44199483   1.38597263\n",
        "  -5.9805478   10.99987132   2.85334138   8.24526284  -1.25431574\n",
        "  10.28341951  -3.17531147  -9.32712722   6.26691707  -2.46818934\n",
        "  10.14351893   6.08079394   3.72144184   2.5017756 ]\n",
        "\n",
        "main axes:"
       ]
      },
      {
       "output_type": "stream",
       "stream": "stdout",
       "text": [
        "\n",
        "[-1.18415363 -2.54789855 -3.94664428 -4.58074369 -2.0826715  -6.42203825\n",
        " -0.82368512  5.98873469  2.90401142 -0.60700486 -0.25907392  9.30775192\n",
        "  1.45156214  0.41394553 -0.22238804 -2.10670969  4.40945207  0.63558262\n",
        "  3.98276378  3.43357571  7.95881091 -1.21472246 -2.31772345  9.56956723\n",
        " -0.77906938  4.146819    0.45091372  0.05867515  2.96888272]\n",
        "\n",
        "main axes:"
       ]
      },
      {
       "output_type": "stream",
       "stream": "stdout",
       "text": [
        "\n",
        "[ -1.09114264  -2.68352997   2.0064656   -2.14268032  -2.57603767\n",
        "   1.70819468  -0.43690919   9.64437691   0.92957015  -0.84184918\n",
        "   0.61143548   9.95230935   4.44183246   9.04373891   1.9689128\n",
        "   3.41300951   3.49213818   4.77381778   2.98435697  12.24205437\n",
        "  12.63968383   3.64050912   5.74165238  17.05557792   4.73084689\n",
        "   2.64732738   0.49972345  -0.70108068   9.68683594]\n",
        "\n",
        "main axes:"
       ]
      },
      {
       "output_type": "stream",
       "stream": "stdout",
       "text": [
        "\n",
        "[  1.54074618e+00  -1.21675056e-01   1.30890244e+00  -7.42458989e-01\n",
        "   1.16342159e-01   1.70669002e-02   2.68877416e+00   1.47072939e+01\n",
        "   4.90929346e+00   3.11334162e+00   5.29498249e+00   1.52252924e+01\n",
        "   9.55631398e+00   9.34767993e+00   5.45360141e+00   4.24193824e+00\n",
        "   9.22447091e+00   9.13630642e+00   7.04552802e+00   1.31856943e+01\n",
        "   1.69225219e+01   5.43352664e+00   5.27893878e+00   1.83021128e+01\n",
        "   6.96073961e+00   7.84566268e+00   5.96749132e+00   3.28559453e+00\n",
        "   1.29043557e+01]\n",
        "\n",
        "main axes:"
       ]
      },
      {
       "output_type": "stream",
       "stream": "stdout",
       "text": [
        "\n",
        "[ -2.77020388  -5.4446053   -2.01546769  -5.19123004  -5.20350219\n",
        "  -3.46189421  -1.39426181  15.29642845   0.86326842  -0.64542528\n",
        "   2.78588985  14.79634139   8.95397761   8.60929232   2.76004253\n",
        "   1.57708494   6.85480462   8.60883431   3.78514908  13.71468749\n",
        "  17.80449024   3.48384357   3.02635539  19.10456652   5.48295686\n",
        "   4.62421691   3.65217806  -0.8220117   13.52612677]\n",
        "\n",
        "main axes:"
       ]
      },
      {
       "output_type": "stream",
       "stream": "stdout",
       "text": [
        "\n",
        "[  2.18584989   0.32080213   2.60467254   0.14968148   0.49649878\n",
        "   1.599186     3.64741225  17.95285932   5.45527597   4.23560387\n",
        "   7.18661406  17.48784436  12.48976153  12.15892825   7.27255797\n",
        "   6.0727152   10.97491675  12.14562291   8.01538467  16.43596179\n",
        "  20.21532467   7.50698126   7.4503907   21.27677255   9.4651537\n",
        "   9.11160736   7.92754016   4.21725871  16.39949141]\n",
        "\n",
        "main axes:"
       ]
      },
      {
       "output_type": "stream",
       "stream": "stdout",
       "text": [
        "\n",
        "[  4.47243697   2.51328897  -1.86067264  -0.22713754   3.02886517\n",
        "  -5.17544403   6.35662583  21.69528034  10.40181312   8.25129758\n",
        "  11.58768331  22.95621279  16.48558413   7.71628903   9.59571082\n",
        "   3.63502378  17.53363543  14.69119104  12.63217769  12.78478967\n",
        "  22.57289364   6.60310075   2.25303714  18.71810793   8.75851762\n",
        "  15.27295615  13.67504634   8.50439736  16.42912214]\n",
        "\n",
        "main axes:"
       ]
      },
      {
       "output_type": "stream",
       "stream": "stdout",
       "text": [
        "\n",
        "[  1.97094774   0.03942888  -7.55289331  -4.17724561   0.80455545\n",
        " -12.30304598   3.3601118   15.6623275    9.06026949   5.41641847\n",
        "   7.61340894  19.30101589  10.76674447  -0.39898886   5.06811031\n",
        "  -2.38713042  14.609096     8.37818125  10.53358853   4.41993107\n",
        "  16.11935789   0.78944483  -5.24075034  11.4338477    2.20907215\n",
        "  12.99180502  10.04034991   6.04997821   8.68432377]\n",
        "\n",
        "main axes:"
       ]
      },
      {
       "output_type": "stream",
       "stream": "stdout",
       "text": [
        "\n",
        "[ -4.03796843  -6.48787465  -8.80547583  -8.73564426  -5.8809737\n",
        " -12.4183329   -3.15361804   9.41172797   1.52191858  -1.95556028\n",
        "   0.03566438  12.23049681   3.74208396  -1.43446863  -1.10644453\n",
        "  -5.1971413    5.80485316   2.34202502   3.34466316   3.32471936\n",
        "  11.0284586   -2.81417893  -6.19369893  10.14416265  -1.68620698\n",
        "   4.37231791   1.58811137  -1.56225709   4.76231591]\n",
        "\n",
        "main axes:"
       ]
      },
      {
       "output_type": "stream",
       "stream": "stdout",
       "text": [
        "\n",
        "[ -8.45959567 -11.81498673  -9.62965782 -12.19968058 -11.35206734\n",
        " -12.42131522  -7.44293733   9.47927654  -3.70137615  -6.40650939\n",
        "  -3.24412887  10.46895442   2.58437164   0.43412518  -3.7850757\n",
        "  -6.0525709    1.79101557   1.81874101  -0.94450838   6.12850485\n",
        "  11.88694889  -3.55323511  -5.54867784  12.69208062  -1.96072752\n",
        "  -0.37713186  -2.01025895  -6.47581717   6.3321372 ]\n",
        "\n",
        "main axes:"
       ]
      },
      {
       "output_type": "stream",
       "stream": "stdout",
       "text": [
        "\n",
        "[ -4.85524213e+00  -7.55115635e+00  -7.08008343e+00  -8.62779415e+00\n",
        "  -7.08500469e+00  -9.84700360e+00  -3.85234999e+00   1.05836433e+01\n",
        "  -1.02688880e-01  -2.88162117e+00  -3.15741221e-01   1.20989784e+01\n",
        "   4.46853297e+00   1.65468583e+00  -9.25163550e-01  -3.61421100e+00\n",
        "   4.74743265e+00   3.55304741e+00   2.20805654e+00   6.65001920e+00\n",
        "   1.26761101e+01  -1.41877561e+00  -3.51999829e+00   1.30020648e+01\n",
        "   5.62388346e-03   2.98939129e+00   9.15951232e-01  -2.74310784e+00\n",
        "   7.19049192e+00]\n",
        "\n",
        "main axes:"
       ]
      },
      {
       "output_type": "stream",
       "stream": "stdout",
       "text": [
        "\n",
        "[ -6.47932761 -10.12584788  -5.22354252  -9.19065706  -9.86577249\n",
        "  -6.9430896   -4.81343282  16.61617462  -2.41596791  -3.64191624\n",
        "   1.08913681  15.15669865   9.14543027   8.02076742   0.72538408\n",
        "  -0.78797648   5.42784008   8.77167483   1.27083173  14.42256806\n",
        "  19.29740946   1.93147472   0.88579573  20.10525784   4.44666163\n",
        "   2.30727331   2.24616716  -4.14908221  14.63424533]\n",
        "\n",
        "main axes:"
       ]
      },
      {
       "output_type": "stream",
       "stream": "stdout",
       "text": [
        "\n",
        "[ -3.26467815  -6.409005    -8.15506205  -8.16580931  -5.84228142\n",
        " -11.80710648  -1.58020942  17.08037791   2.83024316   0.36082375\n",
        "   4.3292885   18.07853341  10.53551718   2.95774837   2.47078498\n",
        "  -2.78384982  10.38989122   8.94435719   5.63120569   9.1311791\n",
        "  18.52043333   0.65986234  -3.67684933  15.73664737   2.83206669\n",
        "   7.6567163    6.4082476    0.34632776  12.01300157]\n",
        "\n",
        "main axes:"
       ]
      },
      {
       "output_type": "stream",
       "stream": "stdout",
       "text": [
        "\n",
        "[ -2.20548254  -4.66365939  -6.08291256  -6.43250788  -4.15361762\n",
        "  -9.18414649  -0.98434183  13.36856432   3.04623672   0.29242703\n",
        "   2.96424305  15.07957268   7.57733006   2.62837916   1.86013175\n",
        "  -2.02256392   8.42257856   6.31893895   5.24230996   7.61291958\n",
        "  15.03195052   0.43532382  -2.55946491  13.9560612    2.00252328\n",
        "   6.58419399   4.50144567   0.51158241   9.19438616]\n",
        "\n",
        "main axes:"
       ]
      },
      {
       "output_type": "stream",
       "stream": "stdout",
       "text": [
        "\n",
        "[ -3.8853735   -6.36517887  -7.75195644  -8.21289207  -5.81637503\n",
        " -11.01602119  -2.93674751  10.2037451    1.35488041  -1.82408156\n",
        "   0.36794736  12.5174515    4.43426099   0.0860726   -0.58064805\n",
        "  -4.17785687   5.85805473   3.20890032   3.34068153   4.88172589\n",
        "  11.97029411  -1.88810905  -4.77892061  11.47747301  -0.63780765\n",
        "   4.31724391   1.80029068  -1.51693259   6.02753038]\n",
        "\n",
        "main axes:"
       ]
      },
      {
       "output_type": "stream",
       "stream": "stdout",
       "text": [
        "\n",
        "[ -6.26317803  -8.83419864  -5.04754666  -8.67086217  -8.53220893\n",
        "  -6.65391672  -5.59186621   7.5094431   -2.92220387  -5.38429552\n",
        "  -3.28507049   8.41412348   1.3676762    3.16587877  -2.74381386\n",
        "  -2.85766099   0.65325301   1.21287931  -0.57574077   7.58040807\n",
        "  10.33443942  -1.57734551  -1.38131376  13.42661647  -0.40224855\n",
        "  -0.72654656  -2.80648449  -5.32861238   6.04736598]\n",
        "\n",
        "main axes:"
       ]
      },
      {
       "output_type": "stream",
       "stream": "stdout",
       "text": [
        "\n",
        "[ -5.27826481  -8.08626754  -3.49480877  -7.46275208  -7.85128836\n",
        "  -4.81589467  -4.20193257  11.71847774  -1.97678989  -3.75017605\n",
        "  -0.69431154  11.46448357   5.21742013   6.57503854  -0.31200175\n",
        "  -0.57483103   3.13693745   5.10696192   0.87603846  11.54310743\n",
        "  14.54924889   1.048749     1.22765941  17.07328876   2.76397971\n",
        "   1.15079704  -0.08743524  -3.91805499  10.4431321 ]\n",
        "\n",
        "main axes:"
       ]
      },
      {
       "output_type": "stream",
       "stream": "stdout",
       "text": [
        "\n",
        "[ -4.07873052  -6.89815198  -5.0037885   -7.30751257  -6.53250838\n",
        "  -7.22093581  -2.80882907  13.55090159   0.27538239  -1.82662838\n",
        "   1.40768862  13.93854135   7.17584506   5.11378065   0.95057762\n",
        "  -1.23798403   6.08990341   6.48333522   3.00264171  10.38840659\n",
        "  15.81261241   0.99778164  -0.53496712  16.31797255   2.81632556\n",
        "   3.9319124    2.5572237   -1.88843581  10.79895104]\n",
        "\n",
        "main axes:"
       ]
      },
      {
       "output_type": "stream",
       "stream": "stdout",
       "text": [
        "\n",
        "[ -3.85824588  -6.44820302  -3.69785903  -6.56301826  -6.14239307\n",
        "  -5.46477343  -2.75923896  12.22614441  -0.07153843  -2.12111178\n",
        "   0.70099481  12.59124453   6.05870615   5.73334457   0.70472746\n",
        "  -0.53455147   4.94523505   5.63310626   2.52006959  10.55862198\n",
        "  14.70668891   1.23003632   0.59972504  16.25947089   2.86230386\n",
        "   3.0895103    1.53553502  -2.1474541   10.17803791]\n",
        "\n",
        "main axes:"
       ]
      },
      {
       "output_type": "stream",
       "stream": "stdout",
       "text": [
        "\n",
        "[ -1.63197908  -3.33695683  -4.4270401   -5.16580049  -2.87325463\n",
        "  -6.99247133  -1.02263158   8.10859715   2.69757555  -0.53479921\n",
        "   0.52349972  10.84465221   3.16382092   1.29677547   0.29994478\n",
        "  -1.98711641   5.33963831   2.27710621   4.14243454   4.89726171\n",
        "  10.04840979  -0.67510724  -2.17117423  11.04958889   0.10512562\n",
        "   4.60147463   1.4298543   -0.02199253   4.89991038]\n",
        "\n",
        "main axes:"
       ]
      },
      {
       "output_type": "stream",
       "stream": "stdout",
       "text": [
        "\n",
        "[-2.74947041 -4.27983207 -5.6583316  -6.34578147 -3.77533912 -8.358519\n",
        " -2.50395237  4.29889479  1.48829587 -2.28241969 -2.02765431  7.91397384\n",
        " -0.38937379 -1.45140266 -2.01458195 -3.9299317   2.776301   -1.23815553\n",
        "  2.53925519  1.67413694  6.31423002 -2.96789427 -4.24153336  8.0537493\n",
        " -2.6484228   2.55314333 -1.29392912 -1.60216777  1.11848159]\n",
        "\n",
        "main axes:"
       ]
      },
      {
       "output_type": "stream",
       "stream": "stdout",
       "text": [
        "\n",
        "[ -4.72991114  -6.96878311  -4.11242563  -7.19798722  -6.65444803\n",
        "  -5.7590089   -4.11545921   7.48512384  -1.37011054  -3.96200327\n",
        "  -2.2587722    8.79279213   1.74870517   3.24969758  -1.74066181\n",
        "  -2.05682677   1.71959009   1.51069884   0.70385396   7.2767008\n",
        "  10.15674266  -0.95118607  -0.82749465  13.07429501   0.07735486\n",
        "   0.60449603  -1.78979707  -3.78027732   5.86336425]\n",
        "\n",
        "main axes:"
       ]
      },
      {
       "output_type": "stream",
       "stream": "stdout",
       "text": [
        "\n",
        "[ -5.55632313  -8.286006    -2.77603743  -7.32568009  -8.09995393\n",
        "  -3.74394284  -4.59380792  10.71415397  -2.69112451  -4.38796541\n",
        "  -1.53161624  10.32776988   4.25377554   7.01687233  -0.79244484\n",
        "  -0.27560712   1.95558346   4.37005276   0.13699618  11.75528657\n",
        "  13.75553164   1.04034199   1.92551976  17.12627553   2.65588961\n",
        "   0.12305936  -1.16131809  -4.56514504  10.01931376]\n",
        "\n",
        "main axes:"
       ]
      },
      {
       "output_type": "stream",
       "stream": "stdout",
       "text": [
        "\n",
        "[ -2.5768858   -5.21503069   1.40494697  -3.65180818  -5.16759308\n",
        "   1.18750696  -1.16995294  16.15686966  -0.19171259  -0.89775669\n",
        "   2.78082031  14.30977326   9.64479059  12.8105899    3.60917813\n",
        "   4.45385999   5.80113281   9.96376187   3.08183363  17.72939297\n",
        "  19.24548188   5.78944305   7.27923534  22.397482     7.96988475\n",
        "   3.49047711   3.09893469  -1.28548403  16.15442526]\n",
        "\n",
        "main axes:"
       ]
      },
      {
       "output_type": "stream",
       "stream": "stdout",
       "text": [
        "\n",
        "[  1.01087285  -0.57090129   2.47572297  -0.58412252  -0.41699479\n",
        "   1.77424407   2.0058178   13.35125746   3.67234704   2.05429971\n",
        "   4.01039115  13.54695432   8.20592188  10.26211603   4.73629313\n",
        "   4.79038144   7.37524875   8.1616866    5.82538337  13.80035804\n",
        "  15.92042206   5.52378584   6.51273828  18.64532217   6.93737228\n",
        "   6.18187822   4.31056147   2.18604201  12.50995351]\n",
        "\n",
        "main axes:"
       ]
      },
      {
       "output_type": "stream",
       "stream": "stdout",
       "text": [
        "\n",
        "[  3.6442746    1.97772423   6.63922201   2.8078075    1.97458679\n",
        "   6.75956114   5.19563757  19.74515311   5.81773019   5.38844416\n",
        "   8.5269063   18.07884612  14.31851416  16.76594845   9.30938678\n",
        "   9.71977568  11.39257484  14.51352245   8.62867162  20.75357097\n",
        "  22.41587341  10.61823449  12.22242222  24.84699189  12.77133194\n",
        "   9.4872553    8.81077697   5.21406127  19.68616361]\n",
        "\n",
        "main axes:"
       ]
      },
      {
       "output_type": "stream",
       "stream": "stdout",
       "text": [
        "\n",
        "[  2.81966663   0.38317663  -3.89868854  -2.27161923   0.94129776\n",
        "  -7.567042     4.86940046  22.52477387   9.2021689    7.08073047\n",
        "  11.05488491  23.51355294  16.79696974   6.89819058   8.71500435\n",
        "   2.16723978  17.33241851  14.85578585  11.75968708  12.6545859\n",
        "  23.36210392   5.66046844   0.63396689  18.84233777   8.067126\n",
        "  14.62115065  13.40201442   7.20427222  16.8120837 ]\n",
        "\n",
        "main axes:"
       ]
      },
      {
       "output_type": "stream",
       "stream": "stdout",
       "text": [
        "\n",
        "[ -4.43618217  -7.06579884  -9.15296244  -9.18781909  -6.45981347\n",
        " -12.80378325  -3.44844154  10.22021082   1.22289752  -2.1349855\n",
        "   0.1844683   12.76691138   4.33626875  -1.14098797  -1.06039866\n",
        "  -5.29105549   6.01230601   2.91627632   3.2231402    3.89892749\n",
        "  11.84345103  -2.71726758  -6.25152892  10.73729196  -1.43724094\n",
        "   4.35945105   1.81769332  -1.81710828   5.50844584]\n",
        "\n",
        "main axes:"
       ]
      },
      {
       "output_type": "stream",
       "stream": "stdout",
       "text": [
        "\n",
        "[ -7.3316112  -10.08527689  -5.5664285   -9.62878465  -9.79769745\n",
        "  -7.09029645  -6.66619087   7.12665534  -4.08778649  -6.4850768\n",
        "  -4.22093401   7.8052017    0.75431581   3.04128119  -3.58635195\n",
        "  -3.40993603  -0.37154256   0.69518287  -1.59822075   7.62828804\n",
        "  10.09014289  -2.09704402  -1.71354374  13.48818355  -0.87480616\n",
        "  -1.8590937   -3.78955922  -6.50022512   5.87242875]\n",
        "\n",
        "main axes:"
       ]
      },
      {
       "output_type": "stream",
       "stream": "stdout",
       "text": [
        "\n",
        "[ -4.22634516  -6.62642238  -0.66843059  -5.50416541  -6.50448265\n",
        "  -1.1824156   -3.34010229  10.64484213  -1.86588316  -3.40599422\n",
        "  -0.88606708  10.15808458   4.50356808   8.52561361   0.20760543\n",
        "   1.4144527    2.2055811    4.82191517   0.82188376  12.7917911\n",
        "  13.79536135   2.30352805   3.94605277  17.84730819   3.81422531\n",
        "   0.63056024  -0.76727921  -3.53968451  10.53542761]\n",
        "\n",
        "main axes:"
       ]
      },
      {
       "output_type": "stream",
       "stream": "stdout",
       "text": [
        "\n",
        "[ -1.23232743  -3.24051309  -2.13494843  -4.05267814  -2.91074324\n",
        "  -3.98387983  -0.24348378  12.06047588   2.59238973   0.29558265\n",
        "   2.40377757  13.16115784   6.60576266   5.76637828   2.36905875\n",
        "   0.77678903   6.72400764   6.03254039   4.6964591    9.90544444\n",
        "  14.27329578   2.23105519   1.46930217  15.53365019   3.59346616\n",
        "   5.34426156   3.21988039   0.49460973   9.72447128]\n",
        "\n",
        "main axes:"
       ]
      },
      {
       "output_type": "stream",
       "stream": "stdout",
       "text": [
        "\n",
        "[ -3.42465519  -6.75515352  -6.96227293  -7.8332415   -6.27220523\n",
        " -10.14280562  -1.57607326  18.74329298   2.28244816   0.3249331\n",
        "   4.82530738  18.81562961  11.88486283   5.30092422   3.17394544\n",
        "  -1.46066274  10.52693795  10.53379251   5.45238789  11.74122232\n",
        "  20.41089951   1.99095507  -1.75171616  18.04602191   4.44841743\n",
        "   7.47435002   6.78877562   0.12902275  14.31592974]\n",
        "\n",
        "main axes:"
       ]
      },
      {
       "output_type": "stream",
       "stream": "stdout",
       "text": [
        "\n",
        "[ -1.51033196  -3.68568885  -6.21475125  -5.95503843  -3.13173465\n",
        "  -9.52884458  -0.44735909  12.04901467   3.87001538   0.76270491\n",
        "   2.87572386  14.47481712   6.64138853   1.33287339   1.73131419\n",
        "  -2.4099112    8.47952152   5.26002606   5.71077262   5.91849738\n",
        "  13.56198503  -0.11837324  -3.31879178  12.38300545   1.18003307\n",
        "   6.99782154   4.41514744   1.14716264   7.56768893]\n",
        "\n",
        "main axes:"
       ]
      },
      {
       "output_type": "stream",
       "stream": "stdout",
       "text": [
        "\n",
        "[ -0.58243722  -2.3364258   -3.15415633  -3.97690624  -1.91312796\n",
        "  -5.53804808   0.25944274  10.69653968   3.70991271   0.87444227\n",
        "   2.409024    12.81816605   5.64580245   3.47444875   2.09386881\n",
        "  -0.31308064   7.15556521   4.77207022   5.39198303   7.29996     12.60419585\n",
        "   1.15069861  -0.34803745  13.23373244   2.2226907    6.12060994\n",
        "   3.38323037   1.28334996   7.58240028]\n",
        "\n",
        "main axes:"
       ]
      },
      {
       "output_type": "stream",
       "stream": "stdout",
       "text": [
        "\n",
        "[  1.93823464   0.76928116  -0.6718568   -1.15656506   1.15870266\n",
        "  -2.76471041   2.65860569  10.54396114   5.87572023   3.01271983\n",
        "   3.87952135  13.01991394   6.14675486   4.61711405   3.80695788\n",
        "   1.71015066   8.37493111   5.33800439   7.16868312   7.68993604\n",
        "  12.37732669   2.67410582   1.66461144  13.34611086   3.51016246\n",
        "   7.80996772   4.65499144   3.58550696   7.699375  ]\n",
        "\n",
        "main axes:"
       ]
      },
      {
       "output_type": "stream",
       "stream": "stdout",
       "text": [
        "\n",
        "[  1.42198029   0.21943533   0.3092694   -1.09825904   0.53143623\n",
        "  -1.27776821   2.09928018  10.17821606   4.80694253   2.21295353\n",
        "   3.12795348  12.15184447   5.65759639   5.84846682   3.46967052\n",
        "   2.35621474   7.16575521   5.15892854   6.24092494   8.84672936\n",
        "  12.31094039   3.05344067   2.93189618  14.25250245   3.91386167\n",
        "   6.60047816   3.63964151   2.69707229   8.12958839]\n",
        "\n",
        "main axes:"
       ]
      },
      {
       "output_type": "stream",
       "stream": "stdout",
       "text": [
        "\n",
        "[  0.89711656  -0.77044287   0.92573538  -1.31850518  -0.53257646\n",
        "  -0.33235553   1.94025585  13.5299869    4.16173863   2.26217645\n",
        "   4.27406732  14.17852302   8.37465126   8.68171326   4.56191629\n",
        "   3.62385837   8.13258963   8.02042721   6.24281439  12.42994044\n",
        "  15.83184594   4.7035031    4.74485958  17.58822657   6.12020036\n",
        "   6.86493004   4.86161718   2.45243308  11.86684026]\n",
        "\n",
        "main axes:"
       ]
      },
      {
       "output_type": "stream",
       "stream": "stdout",
       "text": [
        "\n",
        "[  1.20861489  -0.90720776  -1.79825405  -2.3625635   -0.51623488\n",
        "  -4.20518352   2.70614203  17.37661787   5.93910443   3.91247157\n",
        "   6.88754442  18.16306264  11.85316479   7.49270952   5.96048869\n",
        "   2.46083271  11.88226519  10.77460153   8.28579387  12.26100908\n",
        "  19.0383575    4.7017725    2.38179298  17.94980276   6.58157873\n",
        "   9.90550886   8.29475974   4.05122754  13.84098482]\n",
        "\n",
        "main axes:"
       ]
      },
      {
       "output_type": "stream",
       "stream": "stdout",
       "text": [
        "\n",
        "[  3.44112563   1.98869952  -1.73827682  -0.70076915   2.48197426\n",
        "  -4.67246833   4.67045837  15.42770678   8.5696987    5.81919088\n",
        "   7.65525798  17.75329871  10.8014786    5.11344179   6.51147005\n",
        "   2.14976276  13.0559024    9.37413735  10.14188036   9.0385236\n",
        "  16.65684946   4.10993362   1.12511168  14.96964993   5.4694112\n",
        "  11.80354839   9.14845193   6.32555246  11.04435721]\n",
        "\n",
        "main axes:"
       ]
      },
      {
       "output_type": "stream",
       "stream": "stdout",
       "text": [
        "\n",
        "[  2.57527014   1.03062952   0.40858918  -0.40749027   1.36296345\n",
        "  -1.49340375   3.77176046  15.25566528   6.6114144    4.47825081\n",
        "   6.52810075  16.44738525  10.34554347   7.98240521   6.17872322\n",
        "   3.73027618  11.01464529   9.53313038   8.52320918  11.82725907\n",
        "  17.07259702   5.20763317   3.96733045  17.22364902   6.68331417\n",
        "   9.68650174   7.51865308   4.78277488  12.46106117]\n",
        "\n",
        "main axes:"
       ]
      },
      {
       "output_type": "stream",
       "stream": "stdout",
       "text": [
        "\n",
        "[  2.57694521   1.07956715   1.64064904   0.11273283   1.34118163\n",
        "   0.20349094   3.74058734  15.1434151    6.11317758   4.22664413\n",
        "   6.26396757  15.92530671  10.21216802   9.31017468   6.27677582\n",
        "   4.66013905  10.33913296   9.66168589   8.10631675  13.0113085\n",
        "  17.19128708   5.86558672   5.41284657  18.14944701   7.35262085\n",
        "   9.05019254   7.01872625   4.47278217  13.03981614]\n",
        "\n",
        "main axes:"
       ]
      },
      {
       "output_type": "stream",
       "stream": "stdout",
       "text": [
        "\n",
        "[  5.00651634   4.06051642   0.05844573   1.1963441    4.52363957\n",
        "  -2.58537838   6.02561114  14.12787656   9.71924977   6.84347085\n",
        "   7.92781038  16.89006492  10.06832089   5.45997895   7.12603246\n",
        "   3.31098429  13.03640248   8.7643858   10.8972356    8.6375794\n",
        "  15.37918883   4.72198307   2.36317559  14.36612511   5.76590488\n",
        "  12.30505221   9.16187155   7.51054242  10.12240991]\n",
        "\n",
        "main axes:"
       ]
      },
      {
       "output_type": "stream",
       "stream": "stdout",
       "text": [
        "\n",
        "[  1.59791877   0.25138296   0.26763786  -1.04242372   0.56602034\n",
        "  -1.39780787   2.44194376  11.75219303   5.16699956   2.73899915\n",
        "   4.05248732  13.4227844    7.06207047   6.54170731   4.19392505\n",
        "   2.71639479   8.21187455   6.48413881   6.78400017   9.84396916\n",
        "  13.81237042   3.66777853   3.2324281   15.24454126   4.73672916\n",
        "   7.3798631    4.70646399   3.15065972   9.51270765]\n",
        "\n",
        "main axes:"
       ]
      },
      {
       "output_type": "stream",
       "stream": "stdout",
       "text": [
        "\n",
        "[  3.49437151   2.32874758   2.40887075   1.11769045   2.590959\n",
        "   1.03890217   4.49843659  14.00176536   6.87100842   4.7992609\n",
        "   6.2839496   15.23800395   9.46437407   8.98695619   6.45333615\n",
        "   5.02695996  10.26567834   8.93547114   8.5560398   12.19719898\n",
        "  16.01617334   5.91076145   5.69727434  17.28435301   7.15133082\n",
        "   9.34899014   6.91156293   5.17752838  11.98282141]\n",
        "\n",
        "main axes:"
       ]
      },
      {
       "output_type": "stream",
       "stream": "stdout",
       "text": [
        "\n",
        "[  2.34172147   0.56157879  -2.00745866  -1.61776491   1.0185814\n",
        "  -4.77169059   3.70173353  16.33749353   7.36599936   4.9142459\n",
        "   7.29324837  18.00332044  11.28366638   5.9878776    6.19274394\n",
        "   2.10461753  12.57099897   9.97882002   9.29339869  10.34088873\n",
        "  17.73591934   4.24486362   1.44377071  16.20435884   5.84792153\n",
        "  10.96776764   8.78472551   5.25529014  12.24113603]\n",
        "\n",
        "main axes:"
       ]
      },
      {
       "output_type": "stream",
       "stream": "stdout",
       "text": [
        "\n",
        "[  4.18774901   3.18484871   2.12713912   1.49816751   3.49476574\n",
        "   0.4768166    5.14709843  13.70624279   7.83194602   5.51323659\n",
        "   6.72705331  15.44854914   9.4132808    8.07657493   6.71296676\n",
        "   4.77245467  10.94737984   8.70525576   9.29700509  11.11971153\n",
        "  15.525031     5.67894693   5.0288206   16.33955225   6.79606336\n",
        "  10.19336072   7.45964917   6.00297333  11.23931095]\n",
        "\n",
        "main axes:"
       ]
      },
      {
       "output_type": "stream",
       "stream": "stdout",
       "text": [
        "\n",
        "[  7.70602269   7.80311297   7.96278835   6.4887337    7.93754792\n",
        "   7.63323584   8.24736076  11.56633907   9.75911392   7.64661489\n",
        "   7.42082703  13.44962406   8.38328488  11.30455965   8.61127293\n",
        "   8.9689885   10.42468365   8.31220921  10.59297729  12.65873352\n",
        "  13.75607551   8.39040592  10.17018073  17.02760605   8.95223496\n",
        "  10.72162294   7.29621096   8.35525291  10.90413745]\n",
        "\n",
        "main axes:"
       ]
      },
      {
       "output_type": "stream",
       "stream": "stdout",
       "text": [
        "\n",
        "[  6.88804244   6.33844084  11.53643165   7.24010344   6.20631245\n",
        "  12.70410314   7.95059611  16.7425085    7.70729479   7.22652895\n",
        "   8.73852911  15.64120352  12.49781562  18.6411159   10.59505551\n",
        "  12.96281414  10.59793435  13.20335791   9.75027075  20.90033943\n",
        "  19.68307283  12.43293822  16.11272103  24.33171565  13.91380919\n",
        "   9.84715061   8.24570342   7.34150496  18.13725731]\n",
        "\n",
        "main axes:"
       ]
      },
      {
       "output_type": "stream",
       "stream": "stdout",
       "text": [
        "\n",
        "[ 10.45668535   9.86815612  11.94674709   9.71127107   9.83526921\n",
        "  12.2797823   12.14847906  23.44512387  12.54974862  12.30235615\n",
        "  14.77767844  22.1865583   19.25199932  20.49496243  15.41147524\n",
        "  15.10076576  17.60425542  19.22749006  14.78755357  23.45551299\n",
        "  25.58322506  15.57281334  17.06689342  27.01391466  17.65312581\n",
        "  16.17951735  15.08560655  12.3978772   23.10128345]\n",
        "\n",
        "main axes:"
       ]
      },
      {
       "output_type": "stream",
       "stream": "stdout",
       "text": [
        "\n",
        "[ 10.65803435   9.66916604   8.98435185   8.51165062   9.80159387\n",
        "   8.11456695  12.73772425  26.61528517  14.23123197  13.73823316\n",
        "  17.01047869  25.6998018   22.1249603   18.74054646  16.44891853\n",
        "  13.58202923  20.99776918  21.36251786  16.6433753   22.62196734\n",
        "  28.10411872  15.1586001   14.28029083  26.76397956  17.61030979\n",
        "  18.96928825  18.12057467  13.82306171  24.35375722]\n",
        "\n",
        "main axes:"
       ]
      },
      {
       "output_type": "stream",
       "stream": "stdout",
       "text": [
        "\n",
        "[ 10.44999819  10.04258018   8.42062382   8.31161002  10.22518191\n",
        "   7.45530939  11.9319312   20.95993869  13.7552221   12.42403816\n",
        "  14.14134043  21.58957231  17.21924674  15.18039868  14.0150573\n",
        "  11.75598106  18.02416666  16.51369515  15.35819706  17.95814382\n",
        "  22.48595073  12.57293505  12.19125309  22.31087492  14.21388571\n",
        "  17.01188164  14.91767811  12.85520741  18.79893026]\n"
       ]
      },
      {
       "metadata": {},
       "output_type": "display_data",
       "text": [
        "<matplotlib.figure.Figure at 0x1b05acb0>"
       ]
      },
      {
       "metadata": {},
       "output_type": "display_data",
       "text": [
        "<matplotlib.figure.Figure at 0x1b97d550>"
       ]
      },
      {
       "metadata": {},
       "output_type": "display_data",
       "text": [
        "<matplotlib.figure.Figure at 0x1b97d890>"
       ]
      },
      {
       "metadata": {},
       "output_type": "display_data",
       "text": [
        "<matplotlib.figure.Figure at 0x1182ca30>"
       ]
      },
      {
       "metadata": {},
       "output_type": "display_data",
       "text": [
        "<matplotlib.figure.Figure at 0x16936bf0>"
       ]
      },
      {
       "metadata": {},
       "output_type": "display_data",
       "text": [
        "<matplotlib.figure.Figure at 0x16d74290>"
       ]
      },
      {
       "metadata": {},
       "output_type": "display_data",
       "text": [
        "<matplotlib.figure.Figure at 0x14ff8a30>"
       ]
      },
      {
       "metadata": {},
       "output_type": "display_data",
       "text": [
        "<matplotlib.figure.Figure at 0x152640b0>"
       ]
      },
      {
       "metadata": {},
       "output_type": "display_data",
       "text": [
        "<matplotlib.figure.Figure at 0x1c4fbad0>"
       ]
      },
      {
       "metadata": {},
       "output_type": "display_data",
       "text": [
        "<matplotlib.figure.Figure at 0x35f8dc70>"
       ]
      },
      {
       "metadata": {},
       "output_type": "display_data",
       "text": [
        "<matplotlib.figure.Figure at 0x3864edb0>"
       ]
      },
      {
       "metadata": {},
       "output_type": "display_data",
       "text": [
        "<matplotlib.figure.Figure at 0x36875550>"
       ]
      },
      {
       "metadata": {},
       "output_type": "display_data",
       "text": [
        "<matplotlib.figure.Figure at 0x388a23d0>"
       ]
      },
      {
       "metadata": {},
       "output_type": "display_data",
       "text": [
        "<matplotlib.figure.Figure at 0x36f60370>"
       ]
      },
      {
       "metadata": {},
       "output_type": "display_data",
       "text": [
        "<matplotlib.figure.Figure at 0x3b762ed0>"
       ]
      },
      {
       "metadata": {},
       "output_type": "display_data",
       "text": [
        "<matplotlib.figure.Figure at 0x138909b0>"
       ]
      },
      {
       "metadata": {},
       "output_type": "display_data",
       "text": [
        "<matplotlib.figure.Figure at 0x34f7b370>"
       ]
      },
      {
       "metadata": {},
       "output_type": "display_data",
       "text": [
        "<matplotlib.figure.Figure at 0x1b7813b0>"
       ]
      },
      {
       "metadata": {},
       "output_type": "display_data",
       "text": [
        "<matplotlib.figure.Figure at 0x3678e4b0>"
       ]
      },
      {
       "metadata": {},
       "output_type": "display_data",
       "text": [
        "<matplotlib.figure.Figure at 0x13c804f0>"
       ]
      },
      {
       "metadata": {},
       "output_type": "display_data",
       "text": [
        "<matplotlib.figure.Figure at 0x1cc0d610>"
       ]
      },
      {
       "metadata": {},
       "output_type": "display_data",
       "text": [
        "<matplotlib.figure.Figure at 0x2eb30730>"
       ]
      },
      {
       "metadata": {},
       "output_type": "display_data",
       "text": [
        "<matplotlib.figure.Figure at 0x25338910>"
       ]
      },
      {
       "metadata": {},
       "output_type": "display_data",
       "text": [
        "<matplotlib.figure.Figure at 0x2fb98a50>"
       ]
      },
      {
       "metadata": {},
       "output_type": "display_data",
       "text": [
        "<matplotlib.figure.Figure at 0x2e37f330>"
       ]
      },
      {
       "metadata": {},
       "output_type": "display_data",
       "text": [
        "<matplotlib.figure.Figure at 0x193f9f10>"
       ]
      },
      {
       "metadata": {},
       "output_type": "display_data",
       "text": [
        "<matplotlib.figure.Figure at 0x20928db0>"
       ]
      },
      {
       "metadata": {},
       "output_type": "display_data",
       "text": [
        "<matplotlib.figure.Figure at 0x23231f30>"
       ]
      },
      {
       "metadata": {},
       "output_type": "display_data",
       "text": [
        "<matplotlib.figure.Figure at 0x269860f0>"
       ]
      },
      {
       "metadata": {},
       "output_type": "display_data",
       "text": [
        "<matplotlib.figure.Figure at 0x2b811ed0>"
       ]
      },
      {
       "metadata": {},
       "output_type": "display_data",
       "text": [
        "<matplotlib.figure.Figure at 0x2de24ff0>"
       ]
      },
      {
       "metadata": {},
       "output_type": "display_data",
       "text": [
        "<matplotlib.figure.Figure at 0x19fedd50>"
       ]
      },
      {
       "metadata": {},
       "output_type": "display_data",
       "text": [
        "<matplotlib.figure.Figure at 0x1499f870>"
       ]
      },
      {
       "metadata": {},
       "output_type": "display_data",
       "text": [
        "<matplotlib.figure.Figure at 0x26d1b730>"
       ]
      },
      {
       "metadata": {},
       "output_type": "display_data",
       "text": [
        "<matplotlib.figure.Figure at 0x1ac1c4f0>"
       ]
      },
      {
       "metadata": {},
       "output_type": "display_data",
       "text": [
        "<matplotlib.figure.Figure at 0x21aac490>"
       ]
      },
      {
       "metadata": {},
       "output_type": "display_data",
       "text": [
        "<matplotlib.figure.Figure at 0x199d7250>"
       ]
      },
      {
       "metadata": {},
       "output_type": "display_data",
       "text": [
        "<matplotlib.figure.Figure at 0x339ce3d0>"
       ]
      },
      {
       "metadata": {},
       "output_type": "display_data",
       "text": [
        "<matplotlib.figure.Figure at 0x34d39fb0>"
       ]
      },
      {
       "metadata": {},
       "output_type": "display_data",
       "text": [
        "<matplotlib.figure.Figure at 0x2501f590>"
       ]
      },
      {
       "metadata": {},
       "output_type": "display_data",
       "text": [
        "<matplotlib.figure.Figure at 0x2aa95250>"
       ]
      },
      {
       "metadata": {},
       "output_type": "display_data",
       "text": [
        "<matplotlib.figure.Figure at 0x20c081f0>"
       ]
      },
      {
       "metadata": {},
       "output_type": "display_data",
       "text": [
        "<matplotlib.figure.Figure at 0x27c434d0>"
       ]
      },
      {
       "metadata": {},
       "output_type": "display_data",
       "text": [
        "<matplotlib.figure.Figure at 0x2fedb450>"
       ]
      },
      {
       "metadata": {},
       "output_type": "display_data",
       "text": [
        "<matplotlib.figure.Figure at 0x25d98c50>"
       ]
      },
      {
       "metadata": {},
       "output_type": "display_data",
       "text": [
        "<matplotlib.figure.Figure at 0x3be920d0>"
       ]
      },
      {
       "metadata": {},
       "output_type": "display_data",
       "text": [
        "<matplotlib.figure.Figure at 0x346dd370>"
       ]
      },
      {
       "metadata": {},
       "output_type": "display_data",
       "text": [
        "<matplotlib.figure.Figure at 0x26109f50>"
       ]
      },
      {
       "metadata": {},
       "output_type": "display_data",
       "text": [
        "<matplotlib.figure.Figure at 0x2cdbc2f0>"
       ]
      },
      {
       "metadata": {},
       "output_type": "display_data",
       "text": [
        "<matplotlib.figure.Figure at 0x2cf15d30>"
       ]
      },
      {
       "metadata": {},
       "output_type": "display_data",
       "text": [
        "<matplotlib.figure.Figure at 0x20f711b0>"
       ]
      },
      {
       "metadata": {},
       "output_type": "display_data",
       "text": [
        "<matplotlib.figure.Figure at 0x395d9670>"
       ]
      },
      {
       "metadata": {},
       "output_type": "display_data",
       "text": [
        "<matplotlib.figure.Figure at 0x39de8550>"
       ]
      },
      {
       "metadata": {},
       "output_type": "display_data",
       "text": [
        "<matplotlib.figure.Figure at 0x3a614670>"
       ]
      },
      {
       "metadata": {},
       "output_type": "display_data",
       "text": [
        "<matplotlib.figure.Figure at 0x3ac1a990>"
       ]
      },
      {
       "metadata": {},
       "output_type": "display_data",
       "text": [
        "<matplotlib.figure.Figure at 0x3c7360b0>"
       ]
      },
      {
       "metadata": {},
       "output_type": "display_data",
       "text": [
        "<matplotlib.figure.Figure at 0x3ce9b1b0>"
       ]
      },
      {
       "metadata": {},
       "output_type": "display_data",
       "text": [
        "<matplotlib.figure.Figure at 0x3d27c510>"
       ]
      },
      {
       "metadata": {},
       "output_type": "display_data",
       "text": [
        "<matplotlib.figure.Figure at 0x3de7cf90>"
       ]
      },
      {
       "metadata": {},
       "output_type": "display_data",
       "text": [
        "<matplotlib.figure.Figure at 0x3e62cff0>"
       ]
      },
      {
       "metadata": {},
       "output_type": "display_data",
       "text": [
        "<matplotlib.figure.Figure at 0x3e47e1f0>"
       ]
      },
      {
       "metadata": {},
       "output_type": "display_data",
       "text": [
        "<matplotlib.figure.Figure at 0x3f714c70>"
       ]
      },
      {
       "metadata": {},
       "output_type": "display_data",
       "text": [
        "<matplotlib.figure.Figure at 0x3fe7edb0>"
       ]
      },
      {
       "metadata": {},
       "output_type": "display_data",
       "text": [
        "<matplotlib.figure.Figure at 0x41a351b0>"
       ]
      },
      {
       "metadata": {},
       "output_type": "display_data",
       "text": [
        "<matplotlib.figure.Figure at 0x421999b0>"
       ]
      },
      {
       "metadata": {},
       "output_type": "display_data",
       "text": [
        "<matplotlib.figure.Figure at 0x42682d10>"
       ]
      },
      {
       "metadata": {},
       "output_type": "display_data",
       "text": [
        "<matplotlib.figure.Figure at 0x4319dff0>"
       ]
      },
      {
       "metadata": {},
       "output_type": "display_data",
       "text": [
        "<matplotlib.figure.Figure at 0x441d2430>"
       ]
      },
      {
       "metadata": {},
       "output_type": "display_data",
       "text": [
        "<matplotlib.figure.Figure at 0x446d0a90>"
       ]
      },
      {
       "metadata": {},
       "output_type": "display_data",
       "text": [
        "<matplotlib.figure.Figure at 0x45298b70>"
       ]
      },
      {
       "metadata": {},
       "output_type": "display_data",
       "text": [
        "<matplotlib.figure.Figure at 0x45b45d50>"
       ]
      },
      {
       "metadata": {},
       "output_type": "display_data",
       "text": [
        "<matplotlib.figure.Figure at 0x45fe2710>"
       ]
      },
      {
       "metadata": {},
       "output_type": "display_data",
       "text": [
        "<matplotlib.figure.Figure at 0x46aa6b90>"
       ]
      },
      {
       "metadata": {},
       "output_type": "display_data",
       "text": [
        "<matplotlib.figure.Figure at 0x46d08d90>"
       ]
      },
      {
       "metadata": {},
       "output_type": "display_data",
       "text": [
        "<matplotlib.figure.Figure at 0x47fcff50>"
       ]
      },
      {
       "metadata": {},
       "output_type": "display_data",
       "text": [
        "<matplotlib.figure.Figure at 0x48bba230>"
       ]
      },
      {
       "metadata": {},
       "output_type": "display_data",
       "text": [
        "<matplotlib.figure.Figure at 0x492ac4b0>"
       ]
      },
      {
       "metadata": {},
       "output_type": "display_data",
       "text": [
        "<matplotlib.figure.Figure at 0x495a66f0>"
       ]
      },
      {
       "metadata": {},
       "output_type": "display_data",
       "text": [
        "<matplotlib.figure.Figure at 0x4a647970>"
       ]
      },
      {
       "metadata": {},
       "output_type": "display_data",
       "text": [
        "<matplotlib.figure.Figure at 0x4a94dc50>"
       ]
      },
      {
       "metadata": {},
       "output_type": "display_data",
       "text": [
        "<matplotlib.figure.Figure at 0x4ae94f10>"
       ]
      },
      {
       "metadata": {},
       "output_type": "display_data",
       "text": [
        "<matplotlib.figure.Figure at 0x4d26e190>"
       ]
      },
      {
       "metadata": {},
       "output_type": "display_data",
       "text": [
        "<matplotlib.figure.Figure at 0x4b840370>"
       ]
      },
      {
       "metadata": {},
       "output_type": "display_data",
       "text": [
        "<matplotlib.figure.Figure at 0x4d5e3510>"
       ]
      },
      {
       "metadata": {},
       "output_type": "display_data",
       "text": [
        "<matplotlib.figure.Figure at 0x4f2fb5b0>"
       ]
      },
      {
       "metadata": {},
       "output_type": "display_data",
       "text": [
        "<matplotlib.figure.Figure at 0x4bd67510>"
       ]
      },
      {
       "metadata": {},
       "output_type": "display_data",
       "text": [
        "<matplotlib.figure.Figure at 0x4dbe85f0>"
       ]
      },
      {
       "metadata": {},
       "output_type": "display_data",
       "text": [
        "<matplotlib.figure.Figure at 0x4e3527b0>"
       ]
      },
      {
       "metadata": {},
       "output_type": "display_data",
       "text": [
        "<matplotlib.figure.Figure at 0x4e1811b0>"
       ]
      },
      {
       "metadata": {},
       "output_type": "display_data",
       "text": [
        "<matplotlib.figure.Figure at 0x52198ef0>"
       ]
      }
     ],
     "prompt_number": 9
    },
    {
     "cell_type": "code",
     "collapsed": false,
     "input": [],
     "language": "python",
     "metadata": {},
     "outputs": []
    }
   ],
   "metadata": {}
  }
 ]
}