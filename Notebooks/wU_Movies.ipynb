{
 "metadata": {
  "name": "",
  "signature": "sha256:2cb8c856f415cf5d0dedfeef32adee8e4e947b9927743406ce9d090a4ebef0a9"
 },
 "nbformat": 3,
 "nbformat_minor": 0,
 "worksheets": [
  {
   "cells": [
    {
     "cell_type": "heading",
     "level": 2,
     "metadata": {},
     "source": [
      "Make frames for animated GIFS"
     ]
    },
    {
     "cell_type": "code",
     "collapsed": false,
     "input": [
      "cd I:/wpwp/Python/"
     ],
     "language": "python",
     "metadata": {},
     "outputs": [
      {
       "output_type": "stream",
       "stream": "stdout",
       "text": [
        "I:\\wpwp\\Python\n"
       ]
      }
     ],
     "prompt_number": 1
    },
    {
     "cell_type": "code",
     "collapsed": false,
     "input": [
      "cd D:/mfruman/Documents/wpwp/Python/"
     ],
     "language": "python",
     "metadata": {},
     "outputs": [
      {
       "output_type": "stream",
       "stream": "stdout",
       "text": [
        "D:\\mfruman\\Documents\\wpwp\\Python\n"
       ]
      }
     ],
     "prompt_number": 1
    },
    {
     "cell_type": "code",
     "collapsed": false,
     "input": [
      "pylab.rcParams['figure.figsize'] = (10.0, 8.0)"
     ],
     "language": "python",
     "metadata": {},
     "outputs": [],
     "prompt_number": 2
    },
    {
     "cell_type": "code",
     "collapsed": false,
     "input": [
      "# load plotting libraries\n",
      "import matplotlib.pyplot as plt\n",
      "from mpl_toolkits.basemap import Basemap\n",
      "\n",
      "# module of routines for retrieving data\n",
      "# and plotting on map\n",
      "import wUMovieFrames as Movie\n",
      "import wUUtils as Util"
     ],
     "language": "python",
     "metadata": {},
     "outputs": [],
     "prompt_number": 4
    },
    {
     "cell_type": "code",
     "collapsed": false,
     "input": [
      "reload(Movie)\n",
      "import os\n",
      "import datetime\n",
      "\n",
      "path = '../TemperatureMovie'\n",
      "# check if station folder exists\n",
      "if not os.path.exists(path):\n",
      "    os.mkdir(path)\n",
      "\n",
      "date_list = Util.dateList('2005-01-01','2005-12-31')\n",
      "startFig = 0\n",
      "\n",
      "figname = path + '/TempMax'\n",
      "contours = range(-31,32)\n",
      "for figNum, theDate in enumerate(date_list):\n",
      "    theDateStr = theDate.date().isoformat()\n",
      "    Movie.contourPlotVarOnMapFrame('TempMax',theDateStr, contours, figname=figname, \\\n",
      "                                   frameNum=figNum+startFig, width_fac=18, height_fac=15, \\\n",
      "                                   title='TempMax, %s' % theDateStr, units='deg C')"
     ],
     "language": "python",
     "metadata": {},
     "outputs": []
    },
    {
     "cell_type": "code",
     "collapsed": false,
     "input": [],
     "language": "python",
     "metadata": {},
     "outputs": []
    }
   ],
   "metadata": {}
  }
 ]
}