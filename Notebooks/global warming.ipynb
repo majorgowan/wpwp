{
 "metadata": {
  "name": "",
  "signature": "sha256:e6e659576e939effc592b68d8136966107dcdceb1bfb28ab2440df22f22b84ef"
 },
 "nbformat": 3,
 "nbformat_minor": 0,
 "worksheets": [
  {
   "cells": [
    {
     "cell_type": "code",
     "collapsed": false,
     "input": [
      "cd I:/wpwp/GlobalWarming/"
     ],
     "language": "python",
     "metadata": {},
     "outputs": [
      {
       "output_type": "stream",
       "stream": "stdout",
       "text": [
        "I:\\wpwp\\GlobalWarming\n"
       ]
      }
     ],
     "prompt_number": 1
    },
    {
     "cell_type": "code",
     "collapsed": false,
     "input": [
      "# load November temperature in Toronto each fifth year since 1950\n",
      "import wUnderground\n",
      "reload(wUnderground)\n",
      "\n",
      "station='CYYZ'\n",
      "months = [2, 6, 8, 11]\n",
      "for year in range(1951,2015,3):\n",
      "    for month in months:\n",
      "        start = str(year) + '-' + str(month)\n",
      "        end = str(year) + '-' + str(month)    \n",
      "        if year not in range(1967,1973) + range(1977,1982):   # some years are missing for some reason\n",
      "            dates, data, fails = wUnderground.readInterval(station, start, end)\n",
      "            wUnderground.putJSON(dates, data, station, year, month)"
     ],
     "language": "python",
     "metadata": {},
     "outputs": [
      {
       "output_type": "stream",
       "stream": "stdout",
       "text": [
        "reading CYYZ. . .\n",
        "There were"
       ]
      },
      {
       "output_type": "stream",
       "stream": "stdout",
       "text": [
        " 0 failures!! . . .\n",
        "reading CYYZ. . ."
       ]
      },
      {
       "output_type": "stream",
       "stream": "stdout",
       "text": [
        "\n",
        "There were"
       ]
      },
      {
       "output_type": "stream",
       "stream": "stdout",
       "text": [
        " 0 failures!! . . .\n",
        "reading CYYZ. . ."
       ]
      },
      {
       "output_type": "stream",
       "stream": "stdout",
       "text": [
        "\n",
        "There were"
       ]
      },
      {
       "output_type": "stream",
       "stream": "stdout",
       "text": [
        " 0 failures!! . . .\n",
        "reading CYYZ. . ."
       ]
      },
      {
       "output_type": "stream",
       "stream": "stdout",
       "text": [
        "\n",
        "There were"
       ]
      },
      {
       "output_type": "stream",
       "stream": "stdout",
       "text": [
        " 0 failures!! . . .\n",
        "reading CYYZ. . ."
       ]
      },
      {
       "output_type": "stream",
       "stream": "stdout",
       "text": [
        "\n",
        "There were"
       ]
      },
      {
       "output_type": "stream",
       "stream": "stdout",
       "text": [
        " 0 failures!! . . .\n",
        "reading CYYZ. . ."
       ]
      },
      {
       "output_type": "stream",
       "stream": "stdout",
       "text": [
        "\n",
        "There were"
       ]
      },
      {
       "output_type": "stream",
       "stream": "stdout",
       "text": [
        " 0 failures!! . . .\n",
        "reading CYYZ. . ."
       ]
      },
      {
       "output_type": "stream",
       "stream": "stdout",
       "text": [
        "\n",
        "There were"
       ]
      },
      {
       "output_type": "stream",
       "stream": "stdout",
       "text": [
        " 0 failures!! . . .\n",
        "reading CYYZ. . ."
       ]
      },
      {
       "output_type": "stream",
       "stream": "stdout",
       "text": [
        "\n",
        "There were"
       ]
      },
      {
       "output_type": "stream",
       "stream": "stdout",
       "text": [
        " 0 failures!! . . .\n",
        "reading CYYZ. . ."
       ]
      },
      {
       "output_type": "stream",
       "stream": "stdout",
       "text": [
        "\n",
        "There were"
       ]
      },
      {
       "output_type": "stream",
       "stream": "stdout",
       "text": [
        " 0 failures!! . . .\n",
        "reading CYYZ. . ."
       ]
      },
      {
       "output_type": "stream",
       "stream": "stdout",
       "text": [
        "\n",
        "There were"
       ]
      },
      {
       "output_type": "stream",
       "stream": "stdout",
       "text": [
        " 0 failures!! . . .\n",
        "reading CYYZ. . ."
       ]
      },
      {
       "output_type": "stream",
       "stream": "stdout",
       "text": [
        "\n",
        "There were"
       ]
      },
      {
       "output_type": "stream",
       "stream": "stdout",
       "text": [
        " 0 failures!! . . .\n",
        "reading CYYZ. . ."
       ]
      },
      {
       "output_type": "stream",
       "stream": "stdout",
       "text": [
        "\n",
        "There were"
       ]
      },
      {
       "output_type": "stream",
       "stream": "stdout",
       "text": [
        " 0 failures!! . . .\n",
        "reading CYYZ. . ."
       ]
      },
      {
       "output_type": "stream",
       "stream": "stdout",
       "text": [
        "\n",
        "There were"
       ]
      },
      {
       "output_type": "stream",
       "stream": "stdout",
       "text": [
        " 0 failures!! . . .\n",
        "reading CYYZ. . ."
       ]
      },
      {
       "output_type": "stream",
       "stream": "stdout",
       "text": [
        "\n",
        "There were"
       ]
      },
      {
       "output_type": "stream",
       "stream": "stdout",
       "text": [
        " 0 failures!! . . .\n",
        "reading CYYZ. . ."
       ]
      },
      {
       "output_type": "stream",
       "stream": "stdout",
       "text": [
        "\n",
        "There were"
       ]
      },
      {
       "output_type": "stream",
       "stream": "stdout",
       "text": [
        " 0 failures!! . . .\n",
        "reading CYYZ. . ."
       ]
      },
      {
       "output_type": "stream",
       "stream": "stdout",
       "text": [
        "\n",
        "There were"
       ]
      },
      {
       "output_type": "stream",
       "stream": "stdout",
       "text": [
        " 0 failures!! . . .\n",
        "reading CYYZ. . ."
       ]
      },
      {
       "output_type": "stream",
       "stream": "stdout",
       "text": [
        "\n",
        "There were"
       ]
      },
      {
       "output_type": "stream",
       "stream": "stdout",
       "text": [
        " 0 failures!! . . .\n",
        "reading CYYZ. . ."
       ]
      },
      {
       "output_type": "stream",
       "stream": "stdout",
       "text": [
        "\n",
        "There were"
       ]
      },
      {
       "output_type": "stream",
       "stream": "stdout",
       "text": [
        " 0 failures!! . . .\n",
        "reading CYYZ. . ."
       ]
      },
      {
       "output_type": "stream",
       "stream": "stdout",
       "text": [
        "\n",
        "There were"
       ]
      },
      {
       "output_type": "stream",
       "stream": "stdout",
       "text": [
        " 0 failures!! . . .\n",
        "reading CYYZ. . ."
       ]
      },
      {
       "output_type": "stream",
       "stream": "stdout",
       "text": [
        "\n",
        "There were"
       ]
      },
      {
       "output_type": "stream",
       "stream": "stdout",
       "text": [
        " 0 failures!! . . .\n",
        "reading CYYZ. . ."
       ]
      },
      {
       "output_type": "stream",
       "stream": "stdout",
       "text": [
        "\n",
        "There were"
       ]
      },
      {
       "output_type": "stream",
       "stream": "stdout",
       "text": [
        " 0 failures!! . . .\n",
        "reading CYYZ. . ."
       ]
      },
      {
       "output_type": "stream",
       "stream": "stdout",
       "text": [
        "\n",
        "There were"
       ]
      },
      {
       "output_type": "stream",
       "stream": "stdout",
       "text": [
        " 0 failures!! . . .\n",
        "reading CYYZ. . ."
       ]
      },
      {
       "output_type": "stream",
       "stream": "stdout",
       "text": [
        "\n",
        "There were"
       ]
      },
      {
       "output_type": "stream",
       "stream": "stdout",
       "text": [
        " 0 failures!! . . .\n",
        "reading CYYZ. . ."
       ]
      },
      {
       "output_type": "stream",
       "stream": "stdout",
       "text": [
        "\n",
        "There were"
       ]
      },
      {
       "output_type": "stream",
       "stream": "stdout",
       "text": [
        " 0 failures!! . . .\n",
        "reading CYYZ. . ."
       ]
      },
      {
       "output_type": "stream",
       "stream": "stdout",
       "text": [
        "\n",
        "There were"
       ]
      },
      {
       "output_type": "stream",
       "stream": "stdout",
       "text": [
        " 0 failures!! . . .\n",
        "reading CYYZ. . ."
       ]
      },
      {
       "output_type": "stream",
       "stream": "stdout",
       "text": [
        "\n",
        "There were"
       ]
      },
      {
       "output_type": "stream",
       "stream": "stdout",
       "text": [
        " 0 failures!! . . .\n",
        "reading CYYZ. . ."
       ]
      },
      {
       "output_type": "stream",
       "stream": "stdout",
       "text": [
        "\n",
        "There were"
       ]
      },
      {
       "output_type": "stream",
       "stream": "stdout",
       "text": [
        " 0 failures!! . . .\n",
        "reading CYYZ. . ."
       ]
      },
      {
       "output_type": "stream",
       "stream": "stdout",
       "text": [
        "\n",
        "There were"
       ]
      },
      {
       "output_type": "stream",
       "stream": "stdout",
       "text": [
        " 0 failures!! . . .\n",
        "reading CYYZ. . ."
       ]
      },
      {
       "output_type": "stream",
       "stream": "stdout",
       "text": [
        "\n",
        "There were"
       ]
      },
      {
       "output_type": "stream",
       "stream": "stdout",
       "text": [
        " 0 failures!! . . .\n",
        "reading CYYZ. . ."
       ]
      },
      {
       "output_type": "stream",
       "stream": "stdout",
       "text": [
        "\n",
        "There were"
       ]
      },
      {
       "output_type": "stream",
       "stream": "stdout",
       "text": [
        " 0 failures!! . . .\n",
        "reading CYYZ. . ."
       ]
      },
      {
       "output_type": "stream",
       "stream": "stdout",
       "text": [
        "\n",
        "There were"
       ]
      },
      {
       "output_type": "stream",
       "stream": "stdout",
       "text": [
        " 0 failures!! . . .\n",
        "reading CYYZ. . ."
       ]
      },
      {
       "output_type": "stream",
       "stream": "stdout",
       "text": [
        "\n",
        "There were"
       ]
      },
      {
       "output_type": "stream",
       "stream": "stdout",
       "text": [
        " 0 failures!! . . .\n",
        "reading CYYZ. . ."
       ]
      },
      {
       "output_type": "stream",
       "stream": "stdout",
       "text": [
        "\n",
        "There were"
       ]
      },
      {
       "output_type": "stream",
       "stream": "stdout",
       "text": [
        " 0 failures!! . . .\n",
        "reading CYYZ. . ."
       ]
      },
      {
       "output_type": "stream",
       "stream": "stdout",
       "text": [
        "\n",
        "There were"
       ]
      },
      {
       "output_type": "stream",
       "stream": "stdout",
       "text": [
        " 0 failures!! . . .\n",
        "reading CYYZ. . ."
       ]
      },
      {
       "output_type": "stream",
       "stream": "stdout",
       "text": [
        "\n",
        "There were"
       ]
      },
      {
       "output_type": "stream",
       "stream": "stdout",
       "text": [
        " 0 failures!! . . .\n",
        "reading CYYZ. . ."
       ]
      },
      {
       "output_type": "stream",
       "stream": "stdout",
       "text": [
        "\n",
        "There were"
       ]
      },
      {
       "output_type": "stream",
       "stream": "stdout",
       "text": [
        " 0 failures!! . . .\n",
        "reading CYYZ. . ."
       ]
      },
      {
       "output_type": "stream",
       "stream": "stdout",
       "text": [
        "\n",
        "There were"
       ]
      },
      {
       "output_type": "stream",
       "stream": "stdout",
       "text": [
        " 0 failures!! . . .\n",
        "reading CYYZ. . ."
       ]
      },
      {
       "output_type": "stream",
       "stream": "stdout",
       "text": [
        "\n",
        "There were"
       ]
      },
      {
       "output_type": "stream",
       "stream": "stdout",
       "text": [
        " 0 failures!! . . .\n",
        "reading CYYZ. . ."
       ]
      },
      {
       "output_type": "stream",
       "stream": "stdout",
       "text": [
        "\n",
        "There were"
       ]
      },
      {
       "output_type": "stream",
       "stream": "stdout",
       "text": [
        " 0 failures!! . . .\n",
        "reading CYYZ. . ."
       ]
      },
      {
       "output_type": "stream",
       "stream": "stdout",
       "text": [
        "\n",
        "There were"
       ]
      },
      {
       "output_type": "stream",
       "stream": "stdout",
       "text": [
        " 0 failures!! . . .\n",
        "reading CYYZ. . ."
       ]
      },
      {
       "output_type": "stream",
       "stream": "stdout",
       "text": [
        "\n",
        "There were"
       ]
      },
      {
       "output_type": "stream",
       "stream": "stdout",
       "text": [
        " 0 failures!! . . .\n",
        "reading CYYZ. . ."
       ]
      },
      {
       "output_type": "stream",
       "stream": "stdout",
       "text": [
        "\n",
        "There were"
       ]
      },
      {
       "output_type": "stream",
       "stream": "stdout",
       "text": [
        " 0 failures!! . . .\n",
        "reading CYYZ. . ."
       ]
      },
      {
       "output_type": "stream",
       "stream": "stdout",
       "text": [
        "\n",
        "There were"
       ]
      },
      {
       "output_type": "stream",
       "stream": "stdout",
       "text": [
        " 0 failures!! . . .\n",
        "reading CYYZ. . ."
       ]
      },
      {
       "output_type": "stream",
       "stream": "stdout",
       "text": [
        "\n",
        "There were"
       ]
      },
      {
       "output_type": "stream",
       "stream": "stdout",
       "text": [
        " 0 failures!! . . .\n",
        "reading CYYZ. . ."
       ]
      },
      {
       "output_type": "stream",
       "stream": "stdout",
       "text": [
        "\n",
        "There were"
       ]
      },
      {
       "output_type": "stream",
       "stream": "stdout",
       "text": [
        " 0 failures!! . . .\n",
        "reading CYYZ. . ."
       ]
      },
      {
       "output_type": "stream",
       "stream": "stdout",
       "text": [
        "\n",
        "There were"
       ]
      },
      {
       "output_type": "stream",
       "stream": "stdout",
       "text": [
        " 0 failures!! . . .\n",
        "reading CYYZ. . ."
       ]
      },
      {
       "output_type": "stream",
       "stream": "stdout",
       "text": [
        "\n",
        "There were"
       ]
      },
      {
       "output_type": "stream",
       "stream": "stdout",
       "text": [
        " 0 failures!! . . .\n",
        "reading CYYZ. . ."
       ]
      },
      {
       "output_type": "stream",
       "stream": "stdout",
       "text": [
        "\n",
        "There were"
       ]
      },
      {
       "output_type": "stream",
       "stream": "stdout",
       "text": [
        " 0 failures!! . . .\n",
        "reading CYYZ. . ."
       ]
      },
      {
       "output_type": "stream",
       "stream": "stdout",
       "text": [
        "\n",
        "There were"
       ]
      },
      {
       "output_type": "stream",
       "stream": "stdout",
       "text": [
        " 0 failures!! . . .\n",
        "reading CYYZ. . ."
       ]
      },
      {
       "output_type": "stream",
       "stream": "stdout",
       "text": [
        "\n",
        "There were"
       ]
      },
      {
       "output_type": "stream",
       "stream": "stdout",
       "text": [
        " 0 failures!! . . .\n",
        "reading CYYZ. . ."
       ]
      },
      {
       "output_type": "stream",
       "stream": "stdout",
       "text": [
        "\n",
        "There were"
       ]
      },
      {
       "output_type": "stream",
       "stream": "stdout",
       "text": [
        " 0 failures!! . . .\n",
        "reading CYYZ. . ."
       ]
      },
      {
       "output_type": "stream",
       "stream": "stdout",
       "text": [
        "\n",
        "There were"
       ]
      },
      {
       "output_type": "stream",
       "stream": "stdout",
       "text": [
        " 0 failures!! . . .\n",
        "reading CYYZ. . ."
       ]
      },
      {
       "output_type": "stream",
       "stream": "stdout",
       "text": [
        "\n",
        "There were"
       ]
      },
      {
       "output_type": "stream",
       "stream": "stdout",
       "text": [
        " 0 failures!! . . .\n",
        "reading CYYZ. . ."
       ]
      },
      {
       "output_type": "stream",
       "stream": "stdout",
       "text": [
        "\n",
        "There were"
       ]
      },
      {
       "output_type": "stream",
       "stream": "stdout",
       "text": [
        " 0 failures!! . . .\n",
        "reading CYYZ. . ."
       ]
      },
      {
       "output_type": "stream",
       "stream": "stdout",
       "text": [
        "\n",
        "There were"
       ]
      },
      {
       "output_type": "stream",
       "stream": "stdout",
       "text": [
        " 0 failures!! . . .\n",
        "reading CYYZ. . ."
       ]
      },
      {
       "output_type": "stream",
       "stream": "stdout",
       "text": [
        "\n",
        "There were"
       ]
      },
      {
       "output_type": "stream",
       "stream": "stdout",
       "text": [
        " 0 failures!! . . .\n",
        "reading CYYZ. . ."
       ]
      },
      {
       "output_type": "stream",
       "stream": "stdout",
       "text": [
        "\n",
        "There were"
       ]
      },
      {
       "output_type": "stream",
       "stream": "stdout",
       "text": [
        " 0 failures!! . . .\n",
        "reading CYYZ. . ."
       ]
      },
      {
       "output_type": "stream",
       "stream": "stdout",
       "text": [
        "\n",
        "There were"
       ]
      },
      {
       "output_type": "stream",
       "stream": "stdout",
       "text": [
        " 0 failures!! . . .\n",
        "reading CYYZ. . ."
       ]
      },
      {
       "output_type": "stream",
       "stream": "stdout",
       "text": [
        "\n",
        "There were"
       ]
      },
      {
       "output_type": "stream",
       "stream": "stdout",
       "text": [
        " 0 failures!! . . .\n",
        "reading CYYZ. . ."
       ]
      },
      {
       "output_type": "stream",
       "stream": "stdout",
       "text": [
        "\n",
        "There were"
       ]
      },
      {
       "output_type": "stream",
       "stream": "stdout",
       "text": [
        " 0 failures!! . . .\n",
        "reading CYYZ. . ."
       ]
      },
      {
       "output_type": "stream",
       "stream": "stdout",
       "text": [
        "\n",
        "There were"
       ]
      },
      {
       "output_type": "stream",
       "stream": "stdout",
       "text": [
        " 0 failures!! . . .\n",
        "reading CYYZ. . ."
       ]
      },
      {
       "output_type": "stream",
       "stream": "stdout",
       "text": [
        "\n",
        "There were"
       ]
      },
      {
       "output_type": "stream",
       "stream": "stdout",
       "text": [
        " 0 failures!! . . .\n",
        "reading CYYZ. . ."
       ]
      },
      {
       "output_type": "stream",
       "stream": "stdout",
       "text": [
        "\n",
        "There were"
       ]
      },
      {
       "output_type": "stream",
       "stream": "stdout",
       "text": [
        " 0 failures!! . . .\n",
        "reading CYYZ. . ."
       ]
      },
      {
       "output_type": "stream",
       "stream": "stdout",
       "text": [
        "\n",
        "There were"
       ]
      },
      {
       "output_type": "stream",
       "stream": "stdout",
       "text": [
        " 0 failures!! . . .\n",
        "reading CYYZ. . ."
       ]
      },
      {
       "output_type": "stream",
       "stream": "stdout",
       "text": [
        "\n",
        "There were"
       ]
      },
      {
       "output_type": "stream",
       "stream": "stdout",
       "text": [
        " 0 failures!! . . .\n",
        "reading CYYZ. . ."
       ]
      },
      {
       "output_type": "stream",
       "stream": "stdout",
       "text": [
        "\n",
        "There were"
       ]
      },
      {
       "output_type": "stream",
       "stream": "stdout",
       "text": [
        " 0 failures!! . . .\n",
        "reading CYYZ. . ."
       ]
      },
      {
       "output_type": "stream",
       "stream": "stdout",
       "text": [
        "\n",
        "There were"
       ]
      },
      {
       "output_type": "stream",
       "stream": "stdout",
       "text": [
        " 0 failures!! . . .\n",
        "reading CYYZ. . ."
       ]
      },
      {
       "output_type": "stream",
       "stream": "stdout",
       "text": [
        "\n",
        "There were"
       ]
      },
      {
       "output_type": "stream",
       "stream": "stdout",
       "text": [
        " 0 failures!! . . .\n",
        "reading CYYZ. . ."
       ]
      },
      {
       "output_type": "stream",
       "stream": "stdout",
       "text": [
        "\n",
        "There were"
       ]
      },
      {
       "output_type": "stream",
       "stream": "stdout",
       "text": [
        " 0 failures!! . . .\n",
        "reading CYYZ. . ."
       ]
      },
      {
       "output_type": "stream",
       "stream": "stdout",
       "text": [
        "\n",
        "There were"
       ]
      },
      {
       "output_type": "stream",
       "stream": "stdout",
       "text": [
        " 0 failures!! . . .\n",
        "reading CYYZ. . ."
       ]
      },
      {
       "output_type": "stream",
       "stream": "stdout",
       "text": [
        "\n",
        "There were"
       ]
      },
      {
       "output_type": "stream",
       "stream": "stdout",
       "text": [
        " 0 failures!! . . .\n",
        "reading CYYZ. . ."
       ]
      },
      {
       "output_type": "stream",
       "stream": "stdout",
       "text": [
        "\n",
        "There were"
       ]
      },
      {
       "output_type": "stream",
       "stream": "stdout",
       "text": [
        " 0 failures!! . . .\n"
       ]
      }
     ],
     "prompt_number": 189
    },
    {
     "cell_type": "code",
     "collapsed": false,
     "input": [
      "# compute daily statistics\n",
      "import wUStats\n",
      "reload(wUStats)\n",
      "wUStats.collectAllStats(['CYYZ'])"
     ],
     "language": "python",
     "metadata": {},
     "outputs": [
      {
       "output_type": "stream",
       "stream": "stdout",
       "text": [
        "Processing CYYZ\n"
       ]
      }
     ],
     "prompt_number": 198
    },
    {
     "cell_type": "code",
     "collapsed": false,
     "input": [
      "# load all data\n",
      "import wUUtils\n",
      "reload(wUUtils)\n",
      "import datetime\n",
      "\n",
      "toronto = wUUtils.loadDailyVariableRange('CYYZ','1950-01-01','2015-11-30','TempMean',castFloat=True)\n",
      "# create date strings\n",
      "dateString = wUUtils.loadDailyVariableRange('CYYZ','1950-01-01','2015-11-30','date',castFloat=False)\n",
      "date = [datetime.datetime.strptime(ddd,\"%Y-%m-%d\").date() for ddd in dateString]"
     ],
     "language": "python",
     "metadata": {},
     "outputs": [],
     "prompt_number": 199
    },
    {
     "cell_type": "code",
     "collapsed": false,
     "input": [
      "# annual means, mins and maxes\n",
      "yrs = unique([d.year for d in date])\n",
      "annmean = []\n",
      "annmin = []\n",
      "annmax = []\n",
      "years = []\n",
      "for yr in yrs:\n",
      "    annmean.append(mean([t for i,t in enumerate(toronto) if date[i].year == yr]))\n",
      "    annmin.append(min([t for i,t in enumerate(toronto) if date[i].year == yr]))\n",
      "    annmax.append(max([t for i,t in enumerate(toronto) if date[i].year == yr]))\n",
      "    years.append(datetime.datetime(yr,7,1)) "
     ],
     "language": "python",
     "metadata": {},
     "outputs": [],
     "prompt_number": 200
    },
    {
     "cell_type": "code",
     "collapsed": false,
     "input": [
      "# plot maximum temperature over time\n",
      "import matplotlib.pyplot as plt\n",
      "\n",
      "fig = plt.figure(figsize=(10.0,7.0))\n",
      "ax = plt.subplot(111)\n",
      "\n",
      "plt.scatter(date,toronto,color='gray',alpha=0.3)\n",
      "plt.scatter(years,annmin,color='blue',marker='D',s=80,alpha=0.6)\n",
      "plt.scatter(years,annmean,color='green',marker='D',s=80,alpha=0.6)\n",
      "plt.scatter(years,annmax,color='red',marker='D',s=80,alpha=0.6)\n",
      "\n",
      "featureArray = np.array(yrs)\n",
      "featureArray.shape = (len(featureArray),1)\n",
      "\n",
      "# fit a line to the annual means, mins and maxes\n",
      "import numpy as np\n",
      "from sklearn import linear_model\n",
      "regr_mean = linear_model.LinearRegression()\n",
      "regr_mean.fit(featureArray,annmean)\n",
      "pred_mean = regr_mean.predict(featureArray)\n",
      "\n",
      "regr_min = linear_model.LinearRegression()\n",
      "regr_min.fit(featureArray,annmin)\n",
      "pred_min = regr_min.predict(featureArray)\n",
      "\n",
      "regr_max = linear_model.LinearRegression()\n",
      "regr_max.fit(featureArray,annmax)\n",
      "pred_max = regr_max.predict(featureArray)\n",
      "\n",
      "meanmodel = len(annmean)*[mean(annmean)]\n",
      "minmodel = len(annmin)*[mean(annmin)]\n",
      "maxmodel = len(annmax)*[mean(annmax)]\n",
      "\n",
      "plt.fill_between(years,pred_mean,meanmodel,facecolor='wheat',alpha=0.8)\n",
      "plt.plot(years,pred_mean,color='red',linewidth=3,alpha=0.5)\n",
      "plt.plot(years,meanmodel,color='blue',linewidth=1,alpha=0.5,linestyle='--')\n",
      "\n",
      "plt.fill_between(years,pred_min,minmodel,facecolor='wheat',alpha=0.8)\n",
      "plt.plot(years,pred_min,color='red',linewidth=3,alpha=0.5)\n",
      "plt.plot(years,minmodel,color='blue',linewidth=1,alpha=0.5,linestyle='--')\n",
      "\n",
      "plt.fill_between(years,pred_max,maxmodel,facecolor='wheat',alpha=0.8)\n",
      "plt.plot(years,pred_max,color='red',linewidth=3,alpha=0.5)\n",
      "plt.plot(years,maxmodel,color='blue',linewidth=1,alpha=0.5,linestyle='--')\n",
      "\n",
      "plt.title('Feb, May, Aug & Nov Temperatures at CYYZ\\n' + \\\n",
      "          'Mean Fit: T = %.2f + (%.2f degC/century) x (time-1950),  Rsq=%.1f\\n' \\\n",
      "          'Min Fit: T = %.2f + (%.2f degC/century) x (time-1950),  Rsq=%.1f\\n' \\\n",
      "          'Max Fit: T = %.2f + (%.2f degC/century) x (time-1950),  Rsq=%.1f' \\\n",
      "          % (regr_mean.intercept_,regr_mean.coef_[0]*100.0,regr_mean.score(featureArray,annmean), \\\n",
      "             regr_min.intercept_,regr_min.coef_[0]*100.0,regr_min.score(featureArray,annmin), \\\n",
      "             regr_max.intercept_,regr_max.coef_[0]*100.0,regr_max.score(featureArray,annmax)), \\\n",
      "          size=16)\n",
      "plt.ylabel('Temperature (degC)',size=16)\n",
      "plt.xlabel('Year',size=16)\n",
      "\n",
      "ax.set_yticklabels(ax.get_yticks(), fontsize=12)\n",
      "for t in ax.get_xticklabels():\n",
      "    t.set_fontsize(12)\n",
      "\n",
      "fig.autofmt_xdate()\n",
      "plt.grid()\n",
      "\n",
      "ax.text(datetime.datetime(1982,1,1),-27.0, \\\n",
      "        'diamonds = annual min/mean/max', \\\n",
      "        fontsize=16,fontweight='bold',color='black',\n",
      "        horizontalalignment='center')\n",
      "#plt.ylim([-10,27])\n",
      "\n",
      "plt.show()\n"
     ],
     "language": "python",
     "metadata": {},
     "outputs": [
      {
       "metadata": {},
       "output_type": "display_data",
       "png": "[encoded data removed]",
       "text": [
        "<matplotlib.figure.Figure at 0xdd86870>"
       ]
      }
     ],
     "prompt_number": 217
    },
    {
     "cell_type": "code",
     "collapsed": false,
     "input": [],
     "language": "python",
     "metadata": {},
     "outputs": []
    }
   ],
   "metadata": {}
  }
 ]
}